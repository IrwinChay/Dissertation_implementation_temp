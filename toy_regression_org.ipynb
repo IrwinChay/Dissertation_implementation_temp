{
 "cells": [
  {
   "cell_type": "code",
   "execution_count": 1,
   "metadata": {
    "ExecuteTime": {
     "end_time": "2024-02-29T22:21:43.081630Z",
     "start_time": "2024-02-29T22:21:37.423769Z"
    }
   },
   "outputs": [],
   "source": [
    "import numpy as np\n",
    "import torch\n",
    "import torch.nn as nn\n",
    "import torch.nn.functional as F\n",
    "\n",
    "from ignite.engine import Events, Engine\n",
    "from ignite.metrics import Average, Loss\n",
    "from ignite.contrib.handlers import ProgressBar\n",
    "\n",
    "import gpytorch\n",
    "from gpytorch.mlls import VariationalELBO\n",
    "from gpytorch.likelihoods import GaussianLikelihood\n",
    "\n",
    "from due.dkl import DKL, GP, initial_values\n",
    "from due.sngp import Laplace\n",
    "from due.fc_resnet import FCResNet\n",
    "\n",
    "import matplotlib.pyplot as plt\n",
    "import seaborn as sns\n",
    "\n",
    "sns.set()\n",
    "sns.set_palette(\"colorblind\")"
   ]
  },
  {
   "cell_type": "code",
   "execution_count": 2,
   "metadata": {
    "ExecuteTime": {
     "end_time": "2024-02-29T22:21:49.535596Z",
     "start_time": "2024-02-29T22:21:49.529634Z"
    }
   },
   "outputs": [],
   "source": [
    "def make_data(n_samples, noise=0.05, seed=2):\n",
    "    # make some random sines & cosines\n",
    "    np.random.seed(seed)\n",
    "    n_samples = int(n_samples)\n",
    "    \n",
    "    W = np.random.randn(30, 1)\n",
    "    b = np.random.rand(30, 1) * 2 * np.pi\n",
    "    \n",
    "    x = 5 * np.sign(np.random.randn(n_samples)) + np.random.randn(n_samples).clip(-2, 2)\n",
    "    y = np.cos(W * x + b).sum(0) + noise * np.random.randn(n_samples)\n",
    "    return x[..., None], y"
   ]
  },
  {
   "cell_type": "code",
   "execution_count": 3,
   "metadata": {
    "ExecuteTime": {
     "end_time": "2024-02-29T22:21:51.662218Z",
     "start_time": "2024-02-29T22:21:51.318805Z"
    }
   },
   "outputs": [
    {
     "data": {
      "text/plain": [
       "<matplotlib.collections.PathCollection at 0x7fe2de290e50>"
      ]
     },
     "execution_count": 3,
     "metadata": {},
     "output_type": "execute_result"
    },
    {
     "data": {
      "image/png": "[encoded data removed]",
      "text/plain": [
       "<Figure size 640x480 with 1 Axes>"
      ]
     },
     "metadata": {},
     "output_type": "display_data"
    }
   ],
   "source": [
    "n_samples = 1e3\n",
    "# n_samples = 1e6\n",
    "\n",
    "domain = 15\n",
    "\n",
    "x, y = make_data(n_samples)\n",
    "plt.scatter(x, y)"
   ]
  },
  {
   "cell_type": "code",
   "execution_count": 9,
   "metadata": {
    "ExecuteTime": {
     "end_time": "2024-02-29T22:24:27.205846Z",
     "start_time": "2024-02-29T22:24:27.200931Z"
    }
   },
   "outputs": [
    {
     "data": {
      "text/plain": [
       "(1000,)"
      ]
     },
     "execution_count": 9,
     "metadata": {},
     "output_type": "execute_result"
    }
   ],
   "source": [
    "y_train.shape"
   ]
  },
  {
   "cell_type": "code",
   "execution_count": 18,
   "metadata": {
    "ExecuteTime": {
     "end_time": "2024-03-01T05:01:22.128243Z",
     "start_time": "2024-03-01T05:01:21.953061Z"
    },
    "scrolled": false
   },
   "outputs": [
    {
     "name": "stdout",
     "output_type": "stream",
     "text": [
      "Training with 1000.0 datapoints for 715.0 epochs\n"
     ]
    },
    {
     "name": "stderr",
     "output_type": "stream",
     "text": [
      "/Users/irwinchay/opt/anaconda3/envs/cirkit1/lib/python3.8/site-packages/sklearn/cluster/_kmeans.py:1934: FutureWarning: The default value of `n_init` will change from 3 to 'auto' in 1.4. Set the value of `n_init` explicitly to suppress the warning\n",
      "  super()._check_params_vs_input(X, default_n_init=3)\n"
     ]
    }
   ],
   "source": [
    "np.random.seed(0)\n",
    "torch.manual_seed(0)\n",
    "\n",
    "batch_size = 128\n",
    "\n",
    "X_train, y_train = make_data(n_samples)\n",
    "X_test, y_test = X_train, y_train\n",
    "\n",
    "ds_train = torch.utils.data.TensorDataset(torch.from_numpy(X_train).float(), torch.from_numpy(y_train).float())\n",
    "dl_train = torch.utils.data.DataLoader(ds_train, batch_size=batch_size, shuffle=True, drop_last=True)\n",
    "\n",
    "ds_test = torch.utils.data.TensorDataset(torch.from_numpy(X_test).float(), torch.from_numpy(y_test).float())\n",
    "dl_test = torch.utils.data.DataLoader(ds_test, batch_size=512, shuffle=False)\n",
    "\n",
    "steps = 5e3\n",
    "epochs = steps // len(dl_train) + 1\n",
    "print(f\"Training with {n_samples} datapoints for {epochs} epochs\")\n",
    "\n",
    "# Change this boolean to False for SNGP\n",
    "DUE = True\n",
    "\n",
    "input_dim = 1\n",
    "features = 128\n",
    "depth = 4\n",
    "num_outputs = 1 # regression with 1D output\n",
    "spectral_normalization = True\n",
    "coeff = 0.95\n",
    "n_power_iterations = 1\n",
    "dropout_rate = 0.01\n",
    "\n",
    "feature_extractor = FCResNet(\n",
    "    input_dim=input_dim, \n",
    "    features=features, \n",
    "    depth=depth, \n",
    "    spectral_normalization=spectral_normalization, \n",
    "    coeff=coeff, \n",
    "    n_power_iterations=n_power_iterations,\n",
    "    dropout_rate=dropout_rate\n",
    ")\n",
    "\n",
    "if DUE:\n",
    "    n_inducing_points = 20\n",
    "    kernel = \"RBF\"\n",
    "    \n",
    "    initial_inducing_points, initial_lengthscale = initial_values(\n",
    "            ds_train, feature_extractor, n_inducing_points\n",
    "    )\n",
    "\n",
    "    gp = GP(\n",
    "        num_outputs=num_outputs,\n",
    "        initial_lengthscale=initial_lengthscale,\n",
    "        initial_inducing_points=initial_inducing_points,\n",
    "        kernel=kernel,\n",
    "    )\n",
    "\n",
    "    model = DKL(feature_extractor, gp)\n",
    "\n",
    "    likelihood = GaussianLikelihood()\n",
    "    elbo_fn = VariationalELBO(likelihood, model.gp, num_data=len(ds_train))\n",
    "    loss_fn = lambda x, y: -elbo_fn(x, y)\n",
    "else:\n",
    "    num_gp_features = 128\n",
    "    num_random_features = 1024\n",
    "    normalize_gp_features = True\n",
    "    feature_scale = 2\n",
    "    ridge_penalty = 1\n",
    "    \n",
    "    model = Laplace(feature_extractor,\n",
    "                    features,\n",
    "                    num_gp_features,\n",
    "                    normalize_gp_features,\n",
    "                    num_random_features,\n",
    "                    num_outputs,\n",
    "                    len(ds_train),\n",
    "                    batch_size,\n",
    "                    ridge_penalty=ridge_penalty,\n",
    "                    feature_scale=feature_scale\n",
    "                   )\n",
    "\n",
    "    loss_fn = F.mse_loss\n",
    "\n",
    "if torch.cuda.is_available():\n",
    "    model = model.cuda()\n",
    "    if DUE:\n",
    "        likelihood = likelihood.cuda()\n",
    "    \n",
    "lr = 1e-3\n",
    "\n",
    "parameters = [\n",
    "    {\"params\": model.parameters(), \"lr\": lr},\n",
    "]\n",
    "\n",
    "if DUE:\n",
    "    parameters.append({\"params\": likelihood.parameters(), \"lr\": lr})\n",
    "    \n",
    "    \n",
    "optimizer = torch.optim.Adam(parameters)\n",
    "pbar = ProgressBar()\n",
    "\n",
    "def step(engine, batch):\n",
    "    model.train()\n",
    "    if DUE:\n",
    "        likelihood.train()\n",
    "    \n",
    "    optimizer.zero_grad()\n",
    "    \n",
    "    x, y = batch\n",
    "    if torch.cuda.is_available():\n",
    "        x = x.cuda()\n",
    "        y = y.cuda()\n",
    "\n",
    "    y_pred = model(x)\n",
    "    \n",
    "    if not DUE:\n",
    "        y_pred.squeeze_()\n",
    "\n",
    "    loss = loss_fn(y_pred, y)\n",
    "    # print(\"loss\", loss)\n",
    "    \n",
    "    loss.backward()\n",
    "    optimizer.step()\n",
    "    \n",
    "    return loss.item()\n",
    "\n",
    "\n",
    "def eval_step(engine, batch):\n",
    "    model.eval()\n",
    "    if DUE:\n",
    "        likelihood.eval()\n",
    "    \n",
    "    x, y = batch\n",
    "    if torch.cuda.is_available():\n",
    "        x = x.cuda()\n",
    "        y = y.cuda()\n",
    "\n",
    "    y_pred = model(x)\n",
    "            \n",
    "    return y_pred, y\n",
    "\n",
    "    \n",
    "trainer = Engine(step)\n",
    "evaluator = Engine(eval_step)\n",
    "\n",
    "metric = Average()\n",
    "metric.attach(trainer, \"loss\")\n",
    "pbar.attach(trainer)\n",
    "\n",
    "if DUE:\n",
    "    metric = Loss(lambda y_pred, y: - likelihood.expected_log_prob(y, y_pred).mean())\n",
    "else:\n",
    "    metric = Loss(lambda y_pred, y: F.mse_loss(y_pred[0].squeeze(), y))\n",
    "\n",
    "\n",
    "metric.attach(evaluator, \"loss\")\n",
    "\n",
    "@trainer.on(Events.EPOCH_COMPLETED(every=int(epochs/10) + 1))\n",
    "def log_results(trainer):\n",
    "    evaluator.run(dl_test)\n",
    "    print(f\"Results - Epoch: {trainer.state.epoch} - \"\n",
    "          f\"Test Likelihood: {evaluator.state.metrics['loss']:.2f} - \"\n",
    "          f\"Loss: {trainer.state.metrics['loss']:.2f}\")\n",
    "\n",
    "    \n",
    "if not DUE:\n",
    "    @trainer.on(Events.EPOCH_STARTED)\n",
    "    def reset_precision_matrix(trainer):\n",
    "        model.reset_precision_matrix()"
   ]
  },
  {
   "cell_type": "code",
   "execution_count": null,
   "metadata": {},
   "outputs": [],
   "source": []
  },
  {
   "cell_type": "code",
   "execution_count": 13,
   "metadata": {
    "ExecuteTime": {
     "end_time": "2024-02-29T22:55:00.207074Z",
     "start_time": "2024-02-29T22:52:51.167558Z"
    },
    "scrolled": true
   },
   "outputs": [
    {
     "data": {
      "application/vnd.jupyter.widget-view+json": {
       "model_id": "cbc6f3d3b65a411ca504cad682f18fa5",
       "version_major": 2,
       "version_minor": 0
      },
      "text/plain": [
       "[1/7]  14%|#4         [00:00<?]"
      ]
     },
     "metadata": {},
     "output_type": "display_data"
    },
    {
     "data": {
      "application/vnd.jupyter.widget-view+json": {
       "model_id": "e4311e47c4c44b4898ac4fd3f70733ad",
       "version_major": 2,
       "version_minor": 0
      },
      "text/plain": [
       "[1/7]  14%|#4         [00:00<?]"
      ]
     },
     "metadata": {},
     "output_type": "display_data"
    },
    {
     "data": {
      "application/vnd.jupyter.widget-view+json": {
       "model_id": "3eed25715da24eea9ce3e9f17d376572",
       "version_major": 2,
       "version_minor": 0
      },
      "text/plain": [
       "[1/7]  14%|#4         [00:00<?]"
      ]
     },
     "metadata": {},
     "output_type": "display_data"
    },
    {
     "data": {
      "application/vnd.jupyter.widget-view+json": {
       "model_id": "fd414080961d4d8ca5a9d921facddced",
       "version_major": 2,
       "version_minor": 0
      },
      "text/plain": [
       "[1/7]  14%|#4         [00:00<?]"
      ]
     },
     "metadata": {},
     "output_type": "display_data"
    },
    {
     "data": {
      "application/vnd.jupyter.widget-view+json": {
       "model_id": "030162d0181441f7b83fa391e3e8c07a",
       "version_major": 2,
       "version_minor": 0
      },
      "text/plain": [
       "[1/7]  14%|#4         [00:00<?]"
      ]
     },
     "metadata": {},
     "output_type": "display_data"
    },
    {
     "data": {
      "application/vnd.jupyter.widget-view+json": {
       "model_id": "b70ad5f7c0be468ab08e5fffd46771b2",
       "version_major": 2,
       "version_minor": 0
      },
      "text/plain": [
       "[1/7]  14%|#4         [00:00<?]"
      ]
     },
     "metadata": {},
     "output_type": "display_data"
    },
    {
     "data": {
      "application/vnd.jupyter.widget-view+json": {
       "model_id": "48db950196eb40f9ae3cbedfea9d3f35",
       "version_major": 2,
       "version_minor": 0
      },
      "text/plain": [
       "[1/7]  14%|#4         [00:00<?]"
      ]
     },
     "metadata": {},
     "output_type": "display_data"
    },
    {
     "data": {
      "application/vnd.jupyter.widget-view+json": {
       "model_id": "499fe67a814440c9925f6dff80b2edd2",
       "version_major": 2,
       "version_minor": 0
      },
      "text/plain": [
       "[1/7]  14%|#4         [00:00<?]"
      ]
     },
     "metadata": {},
     "output_type": "display_data"
    },
    {
     "data": {
      "application/vnd.jupyter.widget-view+json": {
       "model_id": "def1ac2f8419409eb929c1fb70bb9133",
       "version_major": 2,
       "version_minor": 0
      },
      "text/plain": [
       "[1/7]  14%|#4         [00:00<?]"
      ]
     },
     "metadata": {},
     "output_type": "display_data"
    },
    {
     "data": {
      "application/vnd.jupyter.widget-view+json": {
       "model_id": "481855bb90034991b682c1e9f80abf4a",
       "version_major": 2,
       "version_minor": 0
      },
      "text/plain": [
       "[1/7]  14%|#4         [00:00<?]"
      ]
     },
     "metadata": {},
     "output_type": "display_data"
    },
    {
     "data": {
      "application/vnd.jupyter.widget-view+json": {
       "model_id": "e954857471ab48ebbbda24565582c070",
       "version_major": 2,
       "version_minor": 0
      },
      "text/plain": [
       "[1/7]  14%|#4         [00:00<?]"
      ]
     },
     "metadata": {},
     "output_type": "display_data"
    },
    {
     "data": {
      "application/vnd.jupyter.widget-view+json": {
       "model_id": "8cd48832bca541ce98c7a3f0e47937f7",
       "version_major": 2,
       "version_minor": 0
      },
      "text/plain": [
       "[1/7]  14%|#4         [00:00<?]"
      ]
     },
     "metadata": {},
     "output_type": "display_data"
    },
    {
     "data": {
      "application/vnd.jupyter.widget-view+json": {
       "model_id": "fe26cc4873ab4f5384708c9626ca0b58",
       "version_major": 2,
       "version_minor": 0
      },
      "text/plain": [
       "[1/7]  14%|#4         [00:00<?]"
      ]
     },
     "metadata": {},
     "output_type": "display_data"
    },
    {
     "data": {
      "application/vnd.jupyter.widget-view+json": {
       "model_id": "fe814a36c0034c1680f7181b782c682f",
       "version_major": 2,
       "version_minor": 0
      },
      "text/plain": [
       "[1/7]  14%|#4         [00:00<?]"
      ]
     },
     "metadata": {},
     "output_type": "display_data"
    },
    {
     "data": {
      "application/vnd.jupyter.widget-view+json": {
       "model_id": "419d82442ac54362a9ee8bdcb5064378",
       "version_major": 2,
       "version_minor": 0
      },
      "text/plain": [
       "[1/7]  14%|#4         [00:00<?]"
      ]
     },
     "metadata": {},
     "output_type": "display_data"
    },
    {
     "data": {
      "application/vnd.jupyter.widget-view+json": {
       "model_id": "ddbea15c59d344f58e6fa80acfa3b612",
       "version_major": 2,
       "version_minor": 0
      },
      "text/plain": [
       "[1/7]  14%|#4         [00:00<?]"
      ]
     },
     "metadata": {},
     "output_type": "display_data"
    },
    {
     "data": {
      "application/vnd.jupyter.widget-view+json": {
       "model_id": "edfb56f29f4f4d0c8e8d8b36d22272ca",
       "version_major": 2,
       "version_minor": 0
      },
      "text/plain": [
       "[1/7]  14%|#4         [00:00<?]"
      ]
     },
     "metadata": {},
     "output_type": "display_data"
    },
    {
     "data": {
      "application/vnd.jupyter.widget-view+json": {
       "model_id": "f6bc9ae879a14fffa62cdea04a7b78c5",
       "version_major": 2,
       "version_minor": 0
      },
      "text/plain": [
       "[1/7]  14%|#4         [00:00<?]"
      ]
     },
     "metadata": {},
     "output_type": "display_data"
    },
    {
     "data": {
      "application/vnd.jupyter.widget-view+json": {
       "model_id": "c7105a06fd60410c9c59a3bb783c0a05",
       "version_major": 2,
       "version_minor": 0
      },
      "text/plain": [
       "[1/7]  14%|#4         [00:00<?]"
      ]
     },
     "metadata": {},
     "output_type": "display_data"
    },
    {
     "data": {
      "application/vnd.jupyter.widget-view+json": {
       "model_id": "f1ffecf0a9a84816a749d15970e9bf82",
       "version_major": 2,
       "version_minor": 0
      },
      "text/plain": [
       "[1/7]  14%|#4         [00:00<?]"
      ]
     },
     "metadata": {},
     "output_type": "display_data"
    },
    {
     "data": {
      "application/vnd.jupyter.widget-view+json": {
       "model_id": "88df43f7b46b447db47c4acd59da1a8f",
       "version_major": 2,
       "version_minor": 0
      },
      "text/plain": [
       "[1/7]  14%|#4         [00:00<?]"
      ]
     },
     "metadata": {},
     "output_type": "display_data"
    },
    {
     "data": {
      "application/vnd.jupyter.widget-view+json": {
       "model_id": "561f61d128484fee9a0657e4b34ef95d",
       "version_major": 2,
       "version_minor": 0
      },
      "text/plain": [
       "[1/7]  14%|#4         [00:00<?]"
      ]
     },
     "metadata": {},
     "output_type": "display_data"
    },
    {
     "data": {
      "application/vnd.jupyter.widget-view+json": {
       "model_id": "b45f008559ee44b0bf50d67af123b6a4",
       "version_major": 2,
       "version_minor": 0
      },
      "text/plain": [
       "[1/7]  14%|#4         [00:00<?]"
      ]
     },
     "metadata": {},
     "output_type": "display_data"
    },
    {
     "data": {
      "application/vnd.jupyter.widget-view+json": {
       "model_id": "7873a502509d4a0698ddc38825b6f568",
       "version_major": 2,
       "version_minor": 0
      },
      "text/plain": [
       "[1/7]  14%|#4         [00:00<?]"
      ]
     },
     "metadata": {},
     "output_type": "display_data"
    },
    {
     "data": {
      "application/vnd.jupyter.widget-view+json": {
       "model_id": "6e0607eb7e744e9db2c922d52397c3c3",
       "version_major": 2,
       "version_minor": 0
      },
      "text/plain": [
       "[1/7]  14%|#4         [00:00<?]"
      ]
     },
     "metadata": {},
     "output_type": "display_data"
    },
    {
     "data": {
      "application/vnd.jupyter.widget-view+json": {
       "model_id": "43bc38e18b6b42828801331e342d81eb",
       "version_major": 2,
       "version_minor": 0
      },
      "text/plain": [
       "[1/7]  14%|#4         [00:00<?]"
      ]
     },
     "metadata": {},
     "output_type": "display_data"
    },
    {
     "data": {
      "application/vnd.jupyter.widget-view+json": {
       "model_id": "d34f8175bf604108ae8671968cb4624c",
       "version_major": 2,
       "version_minor": 0
      },
      "text/plain": [
       "[1/7]  14%|#4         [00:00<?]"
      ]
     },
     "metadata": {},
     "output_type": "display_data"
    },
    {
     "data": {
      "application/vnd.jupyter.widget-view+json": {
       "model_id": "2539416b4081494d822a6f09b6d354c6",
       "version_major": 2,
       "version_minor": 0
      },
      "text/plain": [
       "[1/7]  14%|#4         [00:00<?]"
      ]
     },
     "metadata": {},
     "output_type": "display_data"
    },
    {
     "data": {
      "application/vnd.jupyter.widget-view+json": {
       "model_id": "a349a203b99d4eb6aaed4667e78b880c",
       "version_major": 2,
       "version_minor": 0
      },
      "text/plain": [
       "[1/7]  14%|#4         [00:00<?]"
      ]
     },
     "metadata": {},
     "output_type": "display_data"
    },
    {
     "data": {
      "application/vnd.jupyter.widget-view+json": {
       "model_id": "3a10d801eb884f14917a3b59c9f10780",
       "version_major": 2,
       "version_minor": 0
      },
      "text/plain": [
       "[1/7]  14%|#4         [00:00<?]"
      ]
     },
     "metadata": {},
     "output_type": "display_data"
    },
    {
     "data": {
      "application/vnd.jupyter.widget-view+json": {
       "model_id": "baa3d9c9e82d4f2a911a540181b57034",
       "version_major": 2,
       "version_minor": 0
      },
      "text/plain": [
       "[1/7]  14%|#4         [00:00<?]"
      ]
     },
     "metadata": {},
     "output_type": "display_data"
    },
    {
     "data": {
      "application/vnd.jupyter.widget-view+json": {
       "model_id": "487b59b13daf4306a14e5dd2512037a3",
       "version_major": 2,
       "version_minor": 0
      },
      "text/plain": [
       "[1/7]  14%|#4         [00:00<?]"
      ]
     },
     "metadata": {},
     "output_type": "display_data"
    },
    {
     "data": {
      "application/vnd.jupyter.widget-view+json": {
       "model_id": "de0a52c44bda4d939420a6160f34fbc9",
       "version_major": 2,
       "version_minor": 0
      },
      "text/plain": [
       "[1/7]  14%|#4         [00:00<?]"
      ]
     },
     "metadata": {},
     "output_type": "display_data"
    },
    {
     "data": {
      "application/vnd.jupyter.widget-view+json": {
       "model_id": "b1c35ebabe1f45de9e35ab469ff939ab",
       "version_major": 2,
       "version_minor": 0
      },
      "text/plain": [
       "[1/7]  14%|#4         [00:00<?]"
      ]
     },
     "metadata": {},
     "output_type": "display_data"
    },
    {
     "data": {
      "application/vnd.jupyter.widget-view+json": {
       "model_id": "79229bc605f44e11b3be8dacb0e9d58d",
       "version_major": 2,
       "version_minor": 0
      },
      "text/plain": [
       "[1/7]  14%|#4         [00:00<?]"
      ]
     },
     "metadata": {},
     "output_type": "display_data"
    },
    {
     "data": {
      "application/vnd.jupyter.widget-view+json": {
       "model_id": "e27efc70008b430e98563e9b06189fb2",
       "version_major": 2,
       "version_minor": 0
      },
      "text/plain": [
       "[1/7]  14%|#4         [00:00<?]"
      ]
     },
     "metadata": {},
     "output_type": "display_data"
    },
    {
     "data": {
      "application/vnd.jupyter.widget-view+json": {
       "model_id": "ce793ba91d924b8e8d48d70040e92d48",
       "version_major": 2,
       "version_minor": 0
      },
      "text/plain": [
       "[1/7]  14%|#4         [00:00<?]"
      ]
     },
     "metadata": {},
     "output_type": "display_data"
    },
    {
     "data": {
      "application/vnd.jupyter.widget-view+json": {
       "model_id": "efdee54bdd644b60a70c6f9ccdda43ab",
       "version_major": 2,
       "version_minor": 0
      },
      "text/plain": [
       "[1/7]  14%|#4         [00:00<?]"
      ]
     },
     "metadata": {},
     "output_type": "display_data"
    },
    {
     "data": {
      "application/vnd.jupyter.widget-view+json": {
       "model_id": "5bed3dbdc44d4aabb206c55001517d15",
       "version_major": 2,
       "version_minor": 0
      },
      "text/plain": [
       "[1/7]  14%|#4         [00:00<?]"
      ]
     },
     "metadata": {},
     "output_type": "display_data"
    },
    {
     "data": {
      "application/vnd.jupyter.widget-view+json": {
       "model_id": "70855e19b796470c887e4bb73b9b813b",
       "version_major": 2,
       "version_minor": 0
      },
      "text/plain": [
       "[1/7]  14%|#4         [00:00<?]"
      ]
     },
     "metadata": {},
     "output_type": "display_data"
    },
    {
     "data": {
      "application/vnd.jupyter.widget-view+json": {
       "model_id": "96409626d6864afc95b268f8bce6e7cc",
       "version_major": 2,
       "version_minor": 0
      },
      "text/plain": [
       "[1/7]  14%|#4         [00:00<?]"
      ]
     },
     "metadata": {},
     "output_type": "display_data"
    },
    {
     "data": {
      "application/vnd.jupyter.widget-view+json": {
       "model_id": "b838e9ef7ea34b9db50248b2f7c4cec0",
       "version_major": 2,
       "version_minor": 0
      },
      "text/plain": [
       "[1/7]  14%|#4         [00:00<?]"
      ]
     },
     "metadata": {},
     "output_type": "display_data"
    },
    {
     "data": {
      "application/vnd.jupyter.widget-view+json": {
       "model_id": "8c8982f50a43425c8084cfc8a51a4963",
       "version_major": 2,
       "version_minor": 0
      },
      "text/plain": [
       "[1/7]  14%|#4         [00:00<?]"
      ]
     },
     "metadata": {},
     "output_type": "display_data"
    },
    {
     "data": {
      "application/vnd.jupyter.widget-view+json": {
       "model_id": "14c25913ea7a4b83bbb809e9c25fe8b0",
       "version_major": 2,
       "version_minor": 0
      },
      "text/plain": [
       "[1/7]  14%|#4         [00:00<?]"
      ]
     },
     "metadata": {},
     "output_type": "display_data"
    },
    {
     "data": {
      "application/vnd.jupyter.widget-view+json": {
       "model_id": "96b1651094fc4a0aa5ac7d4836bc9205",
       "version_major": 2,
       "version_minor": 0
      },
      "text/plain": [
       "[1/7]  14%|#4         [00:00<?]"
      ]
     },
     "metadata": {},
     "output_type": "display_data"
    },
    {
     "data": {
      "application/vnd.jupyter.widget-view+json": {
       "model_id": "cd8e53a668a445078a24a66041e608bd",
       "version_major": 2,
       "version_minor": 0
      },
      "text/plain": [
       "[1/7]  14%|#4         [00:00<?]"
      ]
     },
     "metadata": {},
     "output_type": "display_data"
    },
    {
     "data": {
      "application/vnd.jupyter.widget-view+json": {
       "model_id": "2d5f77d0a6bd496b891292a43b27ab13",
       "version_major": 2,
       "version_minor": 0
      },
      "text/plain": [
       "[1/7]  14%|#4         [00:00<?]"
      ]
     },
     "metadata": {},
     "output_type": "display_data"
    },
    {
     "data": {
      "application/vnd.jupyter.widget-view+json": {
       "model_id": "5f0ec58dfff94f3abd3f3a9698b17879",
       "version_major": 2,
       "version_minor": 0
      },
      "text/plain": [
       "[1/7]  14%|#4         [00:00<?]"
      ]
     },
     "metadata": {},
     "output_type": "display_data"
    },
    {
     "data": {
      "application/vnd.jupyter.widget-view+json": {
       "model_id": "b16a78c2303a4c218f2a182102cd0f44",
       "version_major": 2,
       "version_minor": 0
      },
      "text/plain": [
       "[1/7]  14%|#4         [00:00<?]"
      ]
     },
     "metadata": {},
     "output_type": "display_data"
    },
    {
     "data": {
      "application/vnd.jupyter.widget-view+json": {
       "model_id": "ef5f5296a24a41d3bcc7d36448d0b4bb",
       "version_major": 2,
       "version_minor": 0
      },
      "text/plain": [
       "[1/7]  14%|#4         [00:00<?]"
      ]
     },
     "metadata": {},
     "output_type": "display_data"
    },
    {
     "data": {
      "application/vnd.jupyter.widget-view+json": {
       "model_id": "13eed7ab7d6248e5ae8d4aa49a0f02ce",
       "version_major": 2,
       "version_minor": 0
      },
      "text/plain": [
       "[1/7]  14%|#4         [00:00<?]"
      ]
     },
     "metadata": {},
     "output_type": "display_data"
    },
    {
     "data": {
      "application/vnd.jupyter.widget-view+json": {
       "model_id": "79deabad027e460485fdf853d3642c69",
       "version_major": 2,
       "version_minor": 0
      },
      "text/plain": [
       "[1/7]  14%|#4         [00:00<?]"
      ]
     },
     "metadata": {},
     "output_type": "display_data"
    },
    {
     "data": {
      "application/vnd.jupyter.widget-view+json": {
       "model_id": "416a1a472229498cae843c3553aa1f2c",
       "version_major": 2,
       "version_minor": 0
      },
      "text/plain": [
       "[1/7]  14%|#4         [00:00<?]"
      ]
     },
     "metadata": {},
     "output_type": "display_data"
    },
    {
     "data": {
      "application/vnd.jupyter.widget-view+json": {
       "model_id": "105ae447dca0446abc6582df28c575ae",
       "version_major": 2,
       "version_minor": 0
      },
      "text/plain": [
       "[1/7]  14%|#4         [00:00<?]"
      ]
     },
     "metadata": {},
     "output_type": "display_data"
    },
    {
     "data": {
      "application/vnd.jupyter.widget-view+json": {
       "model_id": "de50409ad4254984813d8ec3be140b1b",
       "version_major": 2,
       "version_minor": 0
      },
      "text/plain": [
       "[1/7]  14%|#4         [00:00<?]"
      ]
     },
     "metadata": {},
     "output_type": "display_data"
    },
    {
     "data": {
      "application/vnd.jupyter.widget-view+json": {
       "model_id": "0bc25e6a4b954165841f8fe27b905bef",
       "version_major": 2,
       "version_minor": 0
      },
      "text/plain": [
       "[1/7]  14%|#4         [00:00<?]"
      ]
     },
     "metadata": {},
     "output_type": "display_data"
    },
    {
     "data": {
      "application/vnd.jupyter.widget-view+json": {
       "model_id": "8a47df871df24059b231a906d1ae0b51",
       "version_major": 2,
       "version_minor": 0
      },
      "text/plain": [
       "[1/7]  14%|#4         [00:00<?]"
      ]
     },
     "metadata": {},
     "output_type": "display_data"
    },
    {
     "data": {
      "application/vnd.jupyter.widget-view+json": {
       "model_id": "25759ac9636d4e1e90d4074809cbcb7e",
       "version_major": 2,
       "version_minor": 0
      },
      "text/plain": [
       "[1/7]  14%|#4         [00:00<?]"
      ]
     },
     "metadata": {},
     "output_type": "display_data"
    },
    {
     "data": {
      "application/vnd.jupyter.widget-view+json": {
       "model_id": "3c74e73ecaf44a0e9a5907e2740185d5",
       "version_major": 2,
       "version_minor": 0
      },
      "text/plain": [
       "[1/7]  14%|#4         [00:00<?]"
      ]
     },
     "metadata": {},
     "output_type": "display_data"
    },
    {
     "data": {
      "application/vnd.jupyter.widget-view+json": {
       "model_id": "a41fc6cccc43435b8e8e6ad8f22beea7",
       "version_major": 2,
       "version_minor": 0
      },
      "text/plain": [
       "[1/7]  14%|#4         [00:00<?]"
      ]
     },
     "metadata": {},
     "output_type": "display_data"
    },
    {
     "data": {
      "application/vnd.jupyter.widget-view+json": {
       "model_id": "1ae7e6857fa6478f9e44a1279553fe4d",
       "version_major": 2,
       "version_minor": 0
      },
      "text/plain": [
       "[1/7]  14%|#4         [00:00<?]"
      ]
     },
     "metadata": {},
     "output_type": "display_data"
    },
    {
     "data": {
      "application/vnd.jupyter.widget-view+json": {
       "model_id": "6981e79cb21e4df2a66567d24e583cba",
       "version_major": 2,
       "version_minor": 0
      },
      "text/plain": [
       "[1/7]  14%|#4         [00:00<?]"
      ]
     },
     "metadata": {},
     "output_type": "display_data"
    },
    {
     "data": {
      "application/vnd.jupyter.widget-view+json": {
       "model_id": "84fa0a14441c4bc191940a1608c45420",
       "version_major": 2,
       "version_minor": 0
      },
      "text/plain": [
       "[1/7]  14%|#4         [00:00<?]"
      ]
     },
     "metadata": {},
     "output_type": "display_data"
    },
    {
     "data": {
      "application/vnd.jupyter.widget-view+json": {
       "model_id": "a067db688d3b42ea987463c1595909e4",
       "version_major": 2,
       "version_minor": 0
      },
      "text/plain": [
       "[1/7]  14%|#4         [00:00<?]"
      ]
     },
     "metadata": {},
     "output_type": "display_data"
    },
    {
     "data": {
      "application/vnd.jupyter.widget-view+json": {
       "model_id": "742051778f4e47e2a46fb9867f0ed2bb",
       "version_major": 2,
       "version_minor": 0
      },
      "text/plain": [
       "[1/7]  14%|#4         [00:00<?]"
      ]
     },
     "metadata": {},
     "output_type": "display_data"
    },
    {
     "data": {
      "application/vnd.jupyter.widget-view+json": {
       "model_id": "3f9ff53bf3bd4a758a1d58b75ac6e327",
       "version_major": 2,
       "version_minor": 0
      },
      "text/plain": [
       "[1/7]  14%|#4         [00:00<?]"
      ]
     },
     "metadata": {},
     "output_type": "display_data"
    },
    {
     "data": {
      "application/vnd.jupyter.widget-view+json": {
       "model_id": "f295bf13def54638824abbb60cc77343",
       "version_major": 2,
       "version_minor": 0
      },
      "text/plain": [
       "[1/7]  14%|#4         [00:00<?]"
      ]
     },
     "metadata": {},
     "output_type": "display_data"
    },
    {
     "data": {
      "application/vnd.jupyter.widget-view+json": {
       "model_id": "334437e59d504833be0bbdd1f287f9e6",
       "version_major": 2,
       "version_minor": 0
      },
      "text/plain": [
       "[1/7]  14%|#4         [00:00<?]"
      ]
     },
     "metadata": {},
     "output_type": "display_data"
    },
    {
     "data": {
      "application/vnd.jupyter.widget-view+json": {
       "model_id": "2c8aec279a8842d38757a9d33229c925",
       "version_major": 2,
       "version_minor": 0
      },
      "text/plain": [
       "[1/7]  14%|#4         [00:00<?]"
      ]
     },
     "metadata": {},
     "output_type": "display_data"
    },
    {
     "data": {
      "application/vnd.jupyter.widget-view+json": {
       "model_id": "26c6b9db3040430fa6d7fcfad2f3e911",
       "version_major": 2,
       "version_minor": 0
      },
      "text/plain": [
       "[1/7]  14%|#4         [00:00<?]"
      ]
     },
     "metadata": {},
     "output_type": "display_data"
    },
    {
     "data": {
      "application/vnd.jupyter.widget-view+json": {
       "model_id": "b7c47b74e1a14f64a2b38aaaa837275f",
       "version_major": 2,
       "version_minor": 0
      },
      "text/plain": [
       "[1/7]  14%|#4         [00:00<?]"
      ]
     },
     "metadata": {},
     "output_type": "display_data"
    },
    {
     "data": {
      "application/vnd.jupyter.widget-view+json": {
       "model_id": "5b7e5eff796c4f3288c3630f76515173",
       "version_major": 2,
       "version_minor": 0
      },
      "text/plain": [
       "[1/7]  14%|#4         [00:00<?]"
      ]
     },
     "metadata": {},
     "output_type": "display_data"
    },
    {
     "name": "stdout",
     "output_type": "stream",
     "text": [
      "Results - Epoch: 72 - Test Likelihood: 2.76 - Loss: 2.80\n"
     ]
    },
    {
     "data": {
      "application/vnd.jupyter.widget-view+json": {
       "model_id": "ca37eba2caa44c96a2b4ab6081cc39e9",
       "version_major": 2,
       "version_minor": 0
      },
      "text/plain": [
       "[1/7]  14%|#4         [00:00<?]"
      ]
     },
     "metadata": {},
     "output_type": "display_data"
    },
    {
     "data": {
      "application/vnd.jupyter.widget-view+json": {
       "model_id": "b1995687644d40819d3a4e358a1ca415",
       "version_major": 2,
       "version_minor": 0
      },
      "text/plain": [
       "[1/7]  14%|#4         [00:00<?]"
      ]
     },
     "metadata": {},
     "output_type": "display_data"
    },
    {
     "data": {
      "application/vnd.jupyter.widget-view+json": {
       "model_id": "b3ce91b7d8a44162a428f7aa4e0ee05f",
       "version_major": 2,
       "version_minor": 0
      },
      "text/plain": [
       "[1/7]  14%|#4         [00:00<?]"
      ]
     },
     "metadata": {},
     "output_type": "display_data"
    },
    {
     "data": {
      "application/vnd.jupyter.widget-view+json": {
       "model_id": "b32c26c85b08498b877c41d38743ceba",
       "version_major": 2,
       "version_minor": 0
      },
      "text/plain": [
       "[1/7]  14%|#4         [00:00<?]"
      ]
     },
     "metadata": {},
     "output_type": "display_data"
    },
    {
     "data": {
      "application/vnd.jupyter.widget-view+json": {
       "model_id": "56e1a31d1f034fbf8a55bb15da9dbd16",
       "version_major": 2,
       "version_minor": 0
      },
      "text/plain": [
       "[1/7]  14%|#4         [00:00<?]"
      ]
     },
     "metadata": {},
     "output_type": "display_data"
    },
    {
     "data": {
      "application/vnd.jupyter.widget-view+json": {
       "model_id": "fcba643d0e924db78cfd10ac2f7539c3",
       "version_major": 2,
       "version_minor": 0
      },
      "text/plain": [
       "[1/7]  14%|#4         [00:00<?]"
      ]
     },
     "metadata": {},
     "output_type": "display_data"
    },
    {
     "data": {
      "application/vnd.jupyter.widget-view+json": {
       "model_id": "39417c1ddd844596959fe63789751227",
       "version_major": 2,
       "version_minor": 0
      },
      "text/plain": [
       "[1/7]  14%|#4         [00:00<?]"
      ]
     },
     "metadata": {},
     "output_type": "display_data"
    },
    {
     "data": {
      "application/vnd.jupyter.widget-view+json": {
       "model_id": "1d6d3aebe86e493db26c60cf79a6e344",
       "version_major": 2,
       "version_minor": 0
      },
      "text/plain": [
       "[1/7]  14%|#4         [00:00<?]"
      ]
     },
     "metadata": {},
     "output_type": "display_data"
    },
    {
     "data": {
      "application/vnd.jupyter.widget-view+json": {
       "model_id": "01399ac06f5c4b97b29dd2273d1cbf2e",
       "version_major": 2,
       "version_minor": 0
      },
      "text/plain": [
       "[1/7]  14%|#4         [00:00<?]"
      ]
     },
     "metadata": {},
     "output_type": "display_data"
    },
    {
     "data": {
      "application/vnd.jupyter.widget-view+json": {
       "model_id": "87f93d51aba8409aa6edfdc60e97ea63",
       "version_major": 2,
       "version_minor": 0
      },
      "text/plain": [
       "[1/7]  14%|#4         [00:00<?]"
      ]
     },
     "metadata": {},
     "output_type": "display_data"
    },
    {
     "data": {
      "application/vnd.jupyter.widget-view+json": {
       "model_id": "e1c5c91fe94d49998362f6b20c840131",
       "version_major": 2,
       "version_minor": 0
      },
      "text/plain": [
       "[1/7]  14%|#4         [00:00<?]"
      ]
     },
     "metadata": {},
     "output_type": "display_data"
    },
    {
     "data": {
      "application/vnd.jupyter.widget-view+json": {
       "model_id": "65687ff119c0433198efe6479fb07fba",
       "version_major": 2,
       "version_minor": 0
      },
      "text/plain": [
       "[1/7]  14%|#4         [00:00<?]"
      ]
     },
     "metadata": {},
     "output_type": "display_data"
    },
    {
     "data": {
      "application/vnd.jupyter.widget-view+json": {
       "model_id": "0714c850d1124387ac94bc8343d4b56e",
       "version_major": 2,
       "version_minor": 0
      },
      "text/plain": [
       "[1/7]  14%|#4         [00:00<?]"
      ]
     },
     "metadata": {},
     "output_type": "display_data"
    },
    {
     "data": {
      "application/vnd.jupyter.widget-view+json": {
       "model_id": "b937f3cf9a1544128994645ac411fedd",
       "version_major": 2,
       "version_minor": 0
      },
      "text/plain": [
       "[1/7]  14%|#4         [00:00<?]"
      ]
     },
     "metadata": {},
     "output_type": "display_data"
    },
    {
     "data": {
      "application/vnd.jupyter.widget-view+json": {
       "model_id": "351dd7b5bf6241aba14b95a0cc8d2dbe",
       "version_major": 2,
       "version_minor": 0
      },
      "text/plain": [
       "[1/7]  14%|#4         [00:00<?]"
      ]
     },
     "metadata": {},
     "output_type": "display_data"
    },
    {
     "data": {
      "application/vnd.jupyter.widget-view+json": {
       "model_id": "04ffc3febbd34702a7c61a1916812154",
       "version_major": 2,
       "version_minor": 0
      },
      "text/plain": [
       "[1/7]  14%|#4         [00:00<?]"
      ]
     },
     "metadata": {},
     "output_type": "display_data"
    },
    {
     "data": {
      "application/vnd.jupyter.widget-view+json": {
       "model_id": "9d25249198db42428d9a559534e67003",
       "version_major": 2,
       "version_minor": 0
      },
      "text/plain": [
       "[1/7]  14%|#4         [00:00<?]"
      ]
     },
     "metadata": {},
     "output_type": "display_data"
    },
    {
     "data": {
      "application/vnd.jupyter.widget-view+json": {
       "model_id": "e53a05f66bd544ad92bd52617e8db715",
       "version_major": 2,
       "version_minor": 0
      },
      "text/plain": [
       "[1/7]  14%|#4         [00:00<?]"
      ]
     },
     "metadata": {},
     "output_type": "display_data"
    },
    {
     "data": {
      "application/vnd.jupyter.widget-view+json": {
       "model_id": "89124aef23094863b720be7bab00a3db",
       "version_major": 2,
       "version_minor": 0
      },
      "text/plain": [
       "[1/7]  14%|#4         [00:00<?]"
      ]
     },
     "metadata": {},
     "output_type": "display_data"
    },
    {
     "data": {
      "application/vnd.jupyter.widget-view+json": {
       "model_id": "ae9a18f3d79d4468a9b00fce4e931b25",
       "version_major": 2,
       "version_minor": 0
      },
      "text/plain": [
       "[1/7]  14%|#4         [00:00<?]"
      ]
     },
     "metadata": {},
     "output_type": "display_data"
    },
    {
     "data": {
      "application/vnd.jupyter.widget-view+json": {
       "model_id": "25e3a026ce8f403585adba9f5d89d277",
       "version_major": 2,
       "version_minor": 0
      },
      "text/plain": [
       "[1/7]  14%|#4         [00:00<?]"
      ]
     },
     "metadata": {},
     "output_type": "display_data"
    },
    {
     "data": {
      "application/vnd.jupyter.widget-view+json": {
       "model_id": "1ee4bf96e0734627a7ef62491f880e9a",
       "version_major": 2,
       "version_minor": 0
      },
      "text/plain": [
       "[1/7]  14%|#4         [00:00<?]"
      ]
     },
     "metadata": {},
     "output_type": "display_data"
    },
    {
     "data": {
      "application/vnd.jupyter.widget-view+json": {
       "model_id": "209d360066e745568e930192a4593561",
       "version_major": 2,
       "version_minor": 0
      },
      "text/plain": [
       "[1/7]  14%|#4         [00:00<?]"
      ]
     },
     "metadata": {},
     "output_type": "display_data"
    },
    {
     "data": {
      "application/vnd.jupyter.widget-view+json": {
       "model_id": "60b4cef839bc4bfb861a645be850346c",
       "version_major": 2,
       "version_minor": 0
      },
      "text/plain": [
       "[1/7]  14%|#4         [00:00<?]"
      ]
     },
     "metadata": {},
     "output_type": "display_data"
    },
    {
     "data": {
      "application/vnd.jupyter.widget-view+json": {
       "model_id": "ccc79de50ecd484ab8061478604f80a8",
       "version_major": 2,
       "version_minor": 0
      },
      "text/plain": [
       "[1/7]  14%|#4         [00:00<?]"
      ]
     },
     "metadata": {},
     "output_type": "display_data"
    },
    {
     "data": {
      "application/vnd.jupyter.widget-view+json": {
       "model_id": "447d525cd3aa4d16925393447906ad8e",
       "version_major": 2,
       "version_minor": 0
      },
      "text/plain": [
       "[1/7]  14%|#4         [00:00<?]"
      ]
     },
     "metadata": {},
     "output_type": "display_data"
    },
    {
     "data": {
      "application/vnd.jupyter.widget-view+json": {
       "model_id": "01b13d6a758e4b85a9f8bcb1282aecc7",
       "version_major": 2,
       "version_minor": 0
      },
      "text/plain": [
       "[1/7]  14%|#4         [00:00<?]"
      ]
     },
     "metadata": {},
     "output_type": "display_data"
    },
    {
     "data": {
      "application/vnd.jupyter.widget-view+json": {
       "model_id": "d21c5fe8086048d28464b19119530a4c",
       "version_major": 2,
       "version_minor": 0
      },
      "text/plain": [
       "[1/7]  14%|#4         [00:00<?]"
      ]
     },
     "metadata": {},
     "output_type": "display_data"
    },
    {
     "data": {
      "application/vnd.jupyter.widget-view+json": {
       "model_id": "b86edf5abb2e410da5cbcf916a013388",
       "version_major": 2,
       "version_minor": 0
      },
      "text/plain": [
       "[1/7]  14%|#4         [00:00<?]"
      ]
     },
     "metadata": {},
     "output_type": "display_data"
    },
    {
     "data": {
      "application/vnd.jupyter.widget-view+json": {
       "model_id": "48a0a69fdc124c70800f7559eaf7f4ac",
       "version_major": 2,
       "version_minor": 0
      },
      "text/plain": [
       "[1/7]  14%|#4         [00:00<?]"
      ]
     },
     "metadata": {},
     "output_type": "display_data"
    },
    {
     "data": {
      "application/vnd.jupyter.widget-view+json": {
       "model_id": "67c719c25fe34adc96f00f1827f75ad7",
       "version_major": 2,
       "version_minor": 0
      },
      "text/plain": [
       "[1/7]  14%|#4         [00:00<?]"
      ]
     },
     "metadata": {},
     "output_type": "display_data"
    },
    {
     "data": {
      "application/vnd.jupyter.widget-view+json": {
       "model_id": "039c4d1528714e15976a6f9a8f9dc269",
       "version_major": 2,
       "version_minor": 0
      },
      "text/plain": [
       "[1/7]  14%|#4         [00:00<?]"
      ]
     },
     "metadata": {},
     "output_type": "display_data"
    },
    {
     "data": {
      "application/vnd.jupyter.widget-view+json": {
       "model_id": "73a3f7c193fa4de6b057092e67a6a576",
       "version_major": 2,
       "version_minor": 0
      },
      "text/plain": [
       "[1/7]  14%|#4         [00:00<?]"
      ]
     },
     "metadata": {},
     "output_type": "display_data"
    },
    {
     "data": {
      "application/vnd.jupyter.widget-view+json": {
       "model_id": "d834cc97ff4546ac99ecd174b3acaeaf",
       "version_major": 2,
       "version_minor": 0
      },
      "text/plain": [
       "[1/7]  14%|#4         [00:00<?]"
      ]
     },
     "metadata": {},
     "output_type": "display_data"
    },
    {
     "data": {
      "application/vnd.jupyter.widget-view+json": {
       "model_id": "34f706bcdfc440369bbae2539fbc9434",
       "version_major": 2,
       "version_minor": 0
      },
      "text/plain": [
       "[1/7]  14%|#4         [00:00<?]"
      ]
     },
     "metadata": {},
     "output_type": "display_data"
    },
    {
     "data": {
      "application/vnd.jupyter.widget-view+json": {
       "model_id": "b139f4efd1e04adc8fdcdcb43510092e",
       "version_major": 2,
       "version_minor": 0
      },
      "text/plain": [
       "[1/7]  14%|#4         [00:00<?]"
      ]
     },
     "metadata": {},
     "output_type": "display_data"
    },
    {
     "data": {
      "application/vnd.jupyter.widget-view+json": {
       "model_id": "51443303e8ca4b07a20cc0933f056093",
       "version_major": 2,
       "version_minor": 0
      },
      "text/plain": [
       "[1/7]  14%|#4         [00:00<?]"
      ]
     },
     "metadata": {},
     "output_type": "display_data"
    },
    {
     "data": {
      "application/vnd.jupyter.widget-view+json": {
       "model_id": "ed4f387c4e2d45adbabf8aaf8aaf4434",
       "version_major": 2,
       "version_minor": 0
      },
      "text/plain": [
       "[1/7]  14%|#4         [00:00<?]"
      ]
     },
     "metadata": {},
     "output_type": "display_data"
    },
    {
     "data": {
      "application/vnd.jupyter.widget-view+json": {
       "model_id": "9dc39d5e042b4448adc014b7db4db743",
       "version_major": 2,
       "version_minor": 0
      },
      "text/plain": [
       "[1/7]  14%|#4         [00:00<?]"
      ]
     },
     "metadata": {},
     "output_type": "display_data"
    },
    {
     "data": {
      "application/vnd.jupyter.widget-view+json": {
       "model_id": "7c970f6f0dd4420f8949fee719e325ce",
       "version_major": 2,
       "version_minor": 0
      },
      "text/plain": [
       "[1/7]  14%|#4         [00:00<?]"
      ]
     },
     "metadata": {},
     "output_type": "display_data"
    },
    {
     "data": {
      "application/vnd.jupyter.widget-view+json": {
       "model_id": "d5b5c32cefd74aa48a1a1a1fa78a60b2",
       "version_major": 2,
       "version_minor": 0
      },
      "text/plain": [
       "[1/7]  14%|#4         [00:00<?]"
      ]
     },
     "metadata": {},
     "output_type": "display_data"
    },
    {
     "data": {
      "application/vnd.jupyter.widget-view+json": {
       "model_id": "3676d6be4ad346a19f0aad39aae80d4b",
       "version_major": 2,
       "version_minor": 0
      },
      "text/plain": [
       "[1/7]  14%|#4         [00:00<?]"
      ]
     },
     "metadata": {},
     "output_type": "display_data"
    },
    {
     "data": {
      "application/vnd.jupyter.widget-view+json": {
       "model_id": "fb3a445c52bb408da02bbe8458a09f84",
       "version_major": 2,
       "version_minor": 0
      },
      "text/plain": [
       "[1/7]  14%|#4         [00:00<?]"
      ]
     },
     "metadata": {},
     "output_type": "display_data"
    },
    {
     "data": {
      "application/vnd.jupyter.widget-view+json": {
       "model_id": "3eead46d889948b78c5e789e26a925fc",
       "version_major": 2,
       "version_minor": 0
      },
      "text/plain": [
       "[1/7]  14%|#4         [00:00<?]"
      ]
     },
     "metadata": {},
     "output_type": "display_data"
    },
    {
     "data": {
      "application/vnd.jupyter.widget-view+json": {
       "model_id": "1a585ac3c5fe467387f69505fadc1af5",
       "version_major": 2,
       "version_minor": 0
      },
      "text/plain": [
       "[1/7]  14%|#4         [00:00<?]"
      ]
     },
     "metadata": {},
     "output_type": "display_data"
    },
    {
     "data": {
      "application/vnd.jupyter.widget-view+json": {
       "model_id": "7a80d956ce0c4ebc9d208ef4611bdd80",
       "version_major": 2,
       "version_minor": 0
      },
      "text/plain": [
       "[1/7]  14%|#4         [00:00<?]"
      ]
     },
     "metadata": {},
     "output_type": "display_data"
    },
    {
     "data": {
      "application/vnd.jupyter.widget-view+json": {
       "model_id": "db11042205b3461993c52d266ba1f962",
       "version_major": 2,
       "version_minor": 0
      },
      "text/plain": [
       "[1/7]  14%|#4         [00:00<?]"
      ]
     },
     "metadata": {},
     "output_type": "display_data"
    },
    {
     "data": {
      "application/vnd.jupyter.widget-view+json": {
       "model_id": "f84dea832d514d139f97ad215c70e1b5",
       "version_major": 2,
       "version_minor": 0
      },
      "text/plain": [
       "[1/7]  14%|#4         [00:00<?]"
      ]
     },
     "metadata": {},
     "output_type": "display_data"
    },
    {
     "data": {
      "application/vnd.jupyter.widget-view+json": {
       "model_id": "9c5eeb87fcf34148a23c6e7613ad5c96",
       "version_major": 2,
       "version_minor": 0
      },
      "text/plain": [
       "[1/7]  14%|#4         [00:00<?]"
      ]
     },
     "metadata": {},
     "output_type": "display_data"
    },
    {
     "data": {
      "application/vnd.jupyter.widget-view+json": {
       "model_id": "c3bb0ab43935437791781cba9a257042",
       "version_major": 2,
       "version_minor": 0
      },
      "text/plain": [
       "[1/7]  14%|#4         [00:00<?]"
      ]
     },
     "metadata": {},
     "output_type": "display_data"
    },
    {
     "data": {
      "application/vnd.jupyter.widget-view+json": {
       "model_id": "504f546a70844698b4f2f8669244d1c4",
       "version_major": 2,
       "version_minor": 0
      },
      "text/plain": [
       "[1/7]  14%|#4         [00:00<?]"
      ]
     },
     "metadata": {},
     "output_type": "display_data"
    },
    {
     "data": {
      "application/vnd.jupyter.widget-view+json": {
       "model_id": "73d7bade450a4b2394e9c4cc23684f85",
       "version_major": 2,
       "version_minor": 0
      },
      "text/plain": [
       "[1/7]  14%|#4         [00:00<?]"
      ]
     },
     "metadata": {},
     "output_type": "display_data"
    },
    {
     "data": {
      "application/vnd.jupyter.widget-view+json": {
       "model_id": "d151f31af9be4858bd2b1e77e37f4efd",
       "version_major": 2,
       "version_minor": 0
      },
      "text/plain": [
       "[1/7]  14%|#4         [00:00<?]"
      ]
     },
     "metadata": {},
     "output_type": "display_data"
    },
    {
     "data": {
      "application/vnd.jupyter.widget-view+json": {
       "model_id": "8ae5e7806c4e4770ada123395358254b",
       "version_major": 2,
       "version_minor": 0
      },
      "text/plain": [
       "[1/7]  14%|#4         [00:00<?]"
      ]
     },
     "metadata": {},
     "output_type": "display_data"
    },
    {
     "data": {
      "application/vnd.jupyter.widget-view+json": {
       "model_id": "6cf49eb46f62458eb48bb3bd07836c79",
       "version_major": 2,
       "version_minor": 0
      },
      "text/plain": [
       "[1/7]  14%|#4         [00:00<?]"
      ]
     },
     "metadata": {},
     "output_type": "display_data"
    },
    {
     "data": {
      "application/vnd.jupyter.widget-view+json": {
       "model_id": "87b2c20958634e11ac2b0c5a2dac4b96",
       "version_major": 2,
       "version_minor": 0
      },
      "text/plain": [
       "[1/7]  14%|#4         [00:00<?]"
      ]
     },
     "metadata": {},
     "output_type": "display_data"
    },
    {
     "data": {
      "application/vnd.jupyter.widget-view+json": {
       "model_id": "50b8536d26314d09a082e8809a5834e2",
       "version_major": 2,
       "version_minor": 0
      },
      "text/plain": [
       "[1/7]  14%|#4         [00:00<?]"
      ]
     },
     "metadata": {},
     "output_type": "display_data"
    },
    {
     "data": {
      "application/vnd.jupyter.widget-view+json": {
       "model_id": "e4bc5aeb107e4eb98fe2b0bcf4eb177b",
       "version_major": 2,
       "version_minor": 0
      },
      "text/plain": [
       "[1/7]  14%|#4         [00:00<?]"
      ]
     },
     "metadata": {},
     "output_type": "display_data"
    },
    {
     "data": {
      "application/vnd.jupyter.widget-view+json": {
       "model_id": "b6420473948649459a96f768c0bbf11b",
       "version_major": 2,
       "version_minor": 0
      },
      "text/plain": [
       "[1/7]  14%|#4         [00:00<?]"
      ]
     },
     "metadata": {},
     "output_type": "display_data"
    },
    {
     "data": {
      "application/vnd.jupyter.widget-view+json": {
       "model_id": "60d4565b95ba444ba051ee9fdef3355a",
       "version_major": 2,
       "version_minor": 0
      },
      "text/plain": [
       "[1/7]  14%|#4         [00:00<?]"
      ]
     },
     "metadata": {},
     "output_type": "display_data"
    },
    {
     "data": {
      "application/vnd.jupyter.widget-view+json": {
       "model_id": "4f21015ffea14510b91330fc98adaca5",
       "version_major": 2,
       "version_minor": 0
      },
      "text/plain": [
       "[1/7]  14%|#4         [00:00<?]"
      ]
     },
     "metadata": {},
     "output_type": "display_data"
    },
    {
     "data": {
      "application/vnd.jupyter.widget-view+json": {
       "model_id": "86cd63f45a6a487290122f475164596f",
       "version_major": 2,
       "version_minor": 0
      },
      "text/plain": [
       "[1/7]  14%|#4         [00:00<?]"
      ]
     },
     "metadata": {},
     "output_type": "display_data"
    },
    {
     "data": {
      "application/vnd.jupyter.widget-view+json": {
       "model_id": "98a911a69a00455f9a22076dd5940db2",
       "version_major": 2,
       "version_minor": 0
      },
      "text/plain": [
       "[1/7]  14%|#4         [00:00<?]"
      ]
     },
     "metadata": {},
     "output_type": "display_data"
    },
    {
     "data": {
      "application/vnd.jupyter.widget-view+json": {
       "model_id": "dab706cfe5a243f0837cb64b0ff8a975",
       "version_major": 2,
       "version_minor": 0
      },
      "text/plain": [
       "[1/7]  14%|#4         [00:00<?]"
      ]
     },
     "metadata": {},
     "output_type": "display_data"
    },
    {
     "data": {
      "application/vnd.jupyter.widget-view+json": {
       "model_id": "561f9e6d0d91437ea2d6d39cbbd37611",
       "version_major": 2,
       "version_minor": 0
      },
      "text/plain": [
       "[1/7]  14%|#4         [00:00<?]"
      ]
     },
     "metadata": {},
     "output_type": "display_data"
    },
    {
     "data": {
      "application/vnd.jupyter.widget-view+json": {
       "model_id": "0c7a3446fbbe4539b19ea82cd783dca8",
       "version_major": 2,
       "version_minor": 0
      },
      "text/plain": [
       "[1/7]  14%|#4         [00:00<?]"
      ]
     },
     "metadata": {},
     "output_type": "display_data"
    },
    {
     "data": {
      "application/vnd.jupyter.widget-view+json": {
       "model_id": "575f8a5c8a444202a95698af49856270",
       "version_major": 2,
       "version_minor": 0
      },
      "text/plain": [
       "[1/7]  14%|#4         [00:00<?]"
      ]
     },
     "metadata": {},
     "output_type": "display_data"
    },
    {
     "data": {
      "application/vnd.jupyter.widget-view+json": {
       "model_id": "d2af116973694059b41fc73cd809cd85",
       "version_major": 2,
       "version_minor": 0
      },
      "text/plain": [
       "[1/7]  14%|#4         [00:00<?]"
      ]
     },
     "metadata": {},
     "output_type": "display_data"
    },
    {
     "data": {
      "application/vnd.jupyter.widget-view+json": {
       "model_id": "7882c35807d44c3d88b013eeebb9dc1c",
       "version_major": 2,
       "version_minor": 0
      },
      "text/plain": [
       "[1/7]  14%|#4         [00:00<?]"
      ]
     },
     "metadata": {},
     "output_type": "display_data"
    },
    {
     "data": {
      "application/vnd.jupyter.widget-view+json": {
       "model_id": "3cc428355d6a43129ea06cae6e40843a",
       "version_major": 2,
       "version_minor": 0
      },
      "text/plain": [
       "[1/7]  14%|#4         [00:00<?]"
      ]
     },
     "metadata": {},
     "output_type": "display_data"
    },
    {
     "data": {
      "application/vnd.jupyter.widget-view+json": {
       "model_id": "1ee80752abd34951bb1a9a47179ff529",
       "version_major": 2,
       "version_minor": 0
      },
      "text/plain": [
       "[1/7]  14%|#4         [00:00<?]"
      ]
     },
     "metadata": {},
     "output_type": "display_data"
    },
    {
     "data": {
      "application/vnd.jupyter.widget-view+json": {
       "model_id": "3e9488b448ef4faabfdc971ab95661b0",
       "version_major": 2,
       "version_minor": 0
      },
      "text/plain": [
       "[1/7]  14%|#4         [00:00<?]"
      ]
     },
     "metadata": {},
     "output_type": "display_data"
    },
    {
     "name": "stdout",
     "output_type": "stream",
     "text": [
      "Results - Epoch: 144 - Test Likelihood: 1.74 - Loss: 1.74\n"
     ]
    },
    {
     "data": {
      "application/vnd.jupyter.widget-view+json": {
       "model_id": "d0dba1fcaedf4bbdbe2ca9dd957cb019",
       "version_major": 2,
       "version_minor": 0
      },
      "text/plain": [
       "[1/7]  14%|#4         [00:00<?]"
      ]
     },
     "metadata": {},
     "output_type": "display_data"
    },
    {
     "data": {
      "application/vnd.jupyter.widget-view+json": {
       "model_id": "04ea8c363c134d91b7ae66511a5b29c8",
       "version_major": 2,
       "version_minor": 0
      },
      "text/plain": [
       "[1/7]  14%|#4         [00:00<?]"
      ]
     },
     "metadata": {},
     "output_type": "display_data"
    },
    {
     "data": {
      "application/vnd.jupyter.widget-view+json": {
       "model_id": "3a4f597209494370b81b692c30a6b19e",
       "version_major": 2,
       "version_minor": 0
      },
      "text/plain": [
       "[1/7]  14%|#4         [00:00<?]"
      ]
     },
     "metadata": {},
     "output_type": "display_data"
    },
    {
     "data": {
      "application/vnd.jupyter.widget-view+json": {
       "model_id": "525b276c572a44e79f32a1064e537be9",
       "version_major": 2,
       "version_minor": 0
      },
      "text/plain": [
       "[1/7]  14%|#4         [00:00<?]"
      ]
     },
     "metadata": {},
     "output_type": "display_data"
    },
    {
     "data": {
      "application/vnd.jupyter.widget-view+json": {
       "model_id": "8ef0123e294a4d689cd8b8b77ee068a6",
       "version_major": 2,
       "version_minor": 0
      },
      "text/plain": [
       "[1/7]  14%|#4         [00:00<?]"
      ]
     },
     "metadata": {},
     "output_type": "display_data"
    },
    {
     "data": {
      "application/vnd.jupyter.widget-view+json": {
       "model_id": "f6a38ac5431a44f4a7d03de67307aeda",
       "version_major": 2,
       "version_minor": 0
      },
      "text/plain": [
       "[1/7]  14%|#4         [00:00<?]"
      ]
     },
     "metadata": {},
     "output_type": "display_data"
    },
    {
     "data": {
      "application/vnd.jupyter.widget-view+json": {
       "model_id": "df955aa7ba34413bb3380aff98266f2c",
       "version_major": 2,
       "version_minor": 0
      },
      "text/plain": [
       "[1/7]  14%|#4         [00:00<?]"
      ]
     },
     "metadata": {},
     "output_type": "display_data"
    },
    {
     "data": {
      "application/vnd.jupyter.widget-view+json": {
       "model_id": "d6019ada6fc542398b8e9b4abcb4ee79",
       "version_major": 2,
       "version_minor": 0
      },
      "text/plain": [
       "[1/7]  14%|#4         [00:00<?]"
      ]
     },
     "metadata": {},
     "output_type": "display_data"
    },
    {
     "data": {
      "application/vnd.jupyter.widget-view+json": {
       "model_id": "45c66af0dd5247889d857269141ee2b8",
       "version_major": 2,
       "version_minor": 0
      },
      "text/plain": [
       "[1/7]  14%|#4         [00:00<?]"
      ]
     },
     "metadata": {},
     "output_type": "display_data"
    },
    {
     "data": {
      "application/vnd.jupyter.widget-view+json": {
       "model_id": "9e94c958f1124b26b19aae537ea078a0",
       "version_major": 2,
       "version_minor": 0
      },
      "text/plain": [
       "[1/7]  14%|#4         [00:00<?]"
      ]
     },
     "metadata": {},
     "output_type": "display_data"
    },
    {
     "data": {
      "application/vnd.jupyter.widget-view+json": {
       "model_id": "a21f516b98554bac8d33a3cbaf1d6e43",
       "version_major": 2,
       "version_minor": 0
      },
      "text/plain": [
       "[1/7]  14%|#4         [00:00<?]"
      ]
     },
     "metadata": {},
     "output_type": "display_data"
    },
    {
     "data": {
      "application/vnd.jupyter.widget-view+json": {
       "model_id": "5db38423b0cc44e79ccbc90321607168",
       "version_major": 2,
       "version_minor": 0
      },
      "text/plain": [
       "[1/7]  14%|#4         [00:00<?]"
      ]
     },
     "metadata": {},
     "output_type": "display_data"
    },
    {
     "data": {
      "application/vnd.jupyter.widget-view+json": {
       "model_id": "6f7ad7c0e2c6448e9607b81085ec3a51",
       "version_major": 2,
       "version_minor": 0
      },
      "text/plain": [
       "[1/7]  14%|#4         [00:00<?]"
      ]
     },
     "metadata": {},
     "output_type": "display_data"
    },
    {
     "data": {
      "application/vnd.jupyter.widget-view+json": {
       "model_id": "788aced1bc6045129d5d07038bd2300f",
       "version_major": 2,
       "version_minor": 0
      },
      "text/plain": [
       "[1/7]  14%|#4         [00:00<?]"
      ]
     },
     "metadata": {},
     "output_type": "display_data"
    },
    {
     "data": {
      "application/vnd.jupyter.widget-view+json": {
       "model_id": "5d888fd8b3d148c5b2179c07f1631a41",
       "version_major": 2,
       "version_minor": 0
      },
      "text/plain": [
       "[1/7]  14%|#4         [00:00<?]"
      ]
     },
     "metadata": {},
     "output_type": "display_data"
    },
    {
     "data": {
      "application/vnd.jupyter.widget-view+json": {
       "model_id": "1ca2bf24ac4c47d0afb6f578b46a1664",
       "version_major": 2,
       "version_minor": 0
      },
      "text/plain": [
       "[1/7]  14%|#4         [00:00<?]"
      ]
     },
     "metadata": {},
     "output_type": "display_data"
    },
    {
     "data": {
      "application/vnd.jupyter.widget-view+json": {
       "model_id": "e7875ad9b08941d9950acc274e044e16",
       "version_major": 2,
       "version_minor": 0
      },
      "text/plain": [
       "[1/7]  14%|#4         [00:00<?]"
      ]
     },
     "metadata": {},
     "output_type": "display_data"
    },
    {
     "data": {
      "application/vnd.jupyter.widget-view+json": {
       "model_id": "639a040e38cc48f9bc805c28657f04e1",
       "version_major": 2,
       "version_minor": 0
      },
      "text/plain": [
       "[1/7]  14%|#4         [00:00<?]"
      ]
     },
     "metadata": {},
     "output_type": "display_data"
    },
    {
     "data": {
      "application/vnd.jupyter.widget-view+json": {
       "model_id": "63688984aa8d4795b1b2fdf10b0748f1",
       "version_major": 2,
       "version_minor": 0
      },
      "text/plain": [
       "[1/7]  14%|#4         [00:00<?]"
      ]
     },
     "metadata": {},
     "output_type": "display_data"
    },
    {
     "data": {
      "application/vnd.jupyter.widget-view+json": {
       "model_id": "d94df6dd2488496fa72dc32d16b083cc",
       "version_major": 2,
       "version_minor": 0
      },
      "text/plain": [
       "[1/7]  14%|#4         [00:00<?]"
      ]
     },
     "metadata": {},
     "output_type": "display_data"
    },
    {
     "data": {
      "application/vnd.jupyter.widget-view+json": {
       "model_id": "c1fdaef4b60e4102865b30feb7f4b746",
       "version_major": 2,
       "version_minor": 0
      },
      "text/plain": [
       "[1/7]  14%|#4         [00:00<?]"
      ]
     },
     "metadata": {},
     "output_type": "display_data"
    },
    {
     "data": {
      "application/vnd.jupyter.widget-view+json": {
       "model_id": "d97bbc82140f4442896ba399322d11bb",
       "version_major": 2,
       "version_minor": 0
      },
      "text/plain": [
       "[1/7]  14%|#4         [00:00<?]"
      ]
     },
     "metadata": {},
     "output_type": "display_data"
    },
    {
     "data": {
      "application/vnd.jupyter.widget-view+json": {
       "model_id": "0e3ce465e31e4990a8db48795ee7ce07",
       "version_major": 2,
       "version_minor": 0
      },
      "text/plain": [
       "[1/7]  14%|#4         [00:00<?]"
      ]
     },
     "metadata": {},
     "output_type": "display_data"
    },
    {
     "data": {
      "application/vnd.jupyter.widget-view+json": {
       "model_id": "b9f8b9a468cc44af82714b3986da6f37",
       "version_major": 2,
       "version_minor": 0
      },
      "text/plain": [
       "[1/7]  14%|#4         [00:00<?]"
      ]
     },
     "metadata": {},
     "output_type": "display_data"
    },
    {
     "data": {
      "application/vnd.jupyter.widget-view+json": {
       "model_id": "8f1cbf373b0e4ebc8c9128c672cf0f27",
       "version_major": 2,
       "version_minor": 0
      },
      "text/plain": [
       "[1/7]  14%|#4         [00:00<?]"
      ]
     },
     "metadata": {},
     "output_type": "display_data"
    },
    {
     "data": {
      "application/vnd.jupyter.widget-view+json": {
       "model_id": "d4738499357d4e98a6f60bdccd5142ee",
       "version_major": 2,
       "version_minor": 0
      },
      "text/plain": [
       "[1/7]  14%|#4         [00:00<?]"
      ]
     },
     "metadata": {},
     "output_type": "display_data"
    },
    {
     "data": {
      "application/vnd.jupyter.widget-view+json": {
       "model_id": "de8ab7dcd8c6466ba4a631c155e8586f",
       "version_major": 2,
       "version_minor": 0
      },
      "text/plain": [
       "[1/7]  14%|#4         [00:00<?]"
      ]
     },
     "metadata": {},
     "output_type": "display_data"
    },
    {
     "data": {
      "application/vnd.jupyter.widget-view+json": {
       "model_id": "e7a61dd76f90495da7faa4e6f283fc02",
       "version_major": 2,
       "version_minor": 0
      },
      "text/plain": [
       "[1/7]  14%|#4         [00:00<?]"
      ]
     },
     "metadata": {},
     "output_type": "display_data"
    },
    {
     "data": {
      "application/vnd.jupyter.widget-view+json": {
       "model_id": "8794873d1242456cb90bf00cd214118c",
       "version_major": 2,
       "version_minor": 0
      },
      "text/plain": [
       "[1/7]  14%|#4         [00:00<?]"
      ]
     },
     "metadata": {},
     "output_type": "display_data"
    },
    {
     "data": {
      "application/vnd.jupyter.widget-view+json": {
       "model_id": "ec90db2685dc4f5b88f7f9b0c4cc2160",
       "version_major": 2,
       "version_minor": 0
      },
      "text/plain": [
       "[1/7]  14%|#4         [00:00<?]"
      ]
     },
     "metadata": {},
     "output_type": "display_data"
    },
    {
     "data": {
      "application/vnd.jupyter.widget-view+json": {
       "model_id": "b26832e898194a3a9a92891420815bda",
       "version_major": 2,
       "version_minor": 0
      },
      "text/plain": [
       "[1/7]  14%|#4         [00:00<?]"
      ]
     },
     "metadata": {},
     "output_type": "display_data"
    },
    {
     "data": {
      "application/vnd.jupyter.widget-view+json": {
       "model_id": "a9eea3ada9a34bf2bc915c5c8cba1dbd",
       "version_major": 2,
       "version_minor": 0
      },
      "text/plain": [
       "[1/7]  14%|#4         [00:00<?]"
      ]
     },
     "metadata": {},
     "output_type": "display_data"
    },
    {
     "data": {
      "application/vnd.jupyter.widget-view+json": {
       "model_id": "8cd517fe113749c9b782e989337cf4f4",
       "version_major": 2,
       "version_minor": 0
      },
      "text/plain": [
       "[1/7]  14%|#4         [00:00<?]"
      ]
     },
     "metadata": {},
     "output_type": "display_data"
    },
    {
     "data": {
      "application/vnd.jupyter.widget-view+json": {
       "model_id": "1e3fa6b920bc4a2ebc9b94962d35771a",
       "version_major": 2,
       "version_minor": 0
      },
      "text/plain": [
       "[1/7]  14%|#4         [00:00<?]"
      ]
     },
     "metadata": {},
     "output_type": "display_data"
    },
    {
     "data": {
      "application/vnd.jupyter.widget-view+json": {
       "model_id": "d2afd8569f9a4c408b6fe88210563d8e",
       "version_major": 2,
       "version_minor": 0
      },
      "text/plain": [
       "[1/7]  14%|#4         [00:00<?]"
      ]
     },
     "metadata": {},
     "output_type": "display_data"
    },
    {
     "data": {
      "application/vnd.jupyter.widget-view+json": {
       "model_id": "e3d8fd28194c4f53aaa3c135bb4c6dfd",
       "version_major": 2,
       "version_minor": 0
      },
      "text/plain": [
       "[1/7]  14%|#4         [00:00<?]"
      ]
     },
     "metadata": {},
     "output_type": "display_data"
    },
    {
     "data": {
      "application/vnd.jupyter.widget-view+json": {
       "model_id": "101a83f9e3074ecea1ba59bcef7674f3",
       "version_major": 2,
       "version_minor": 0
      },
      "text/plain": [
       "[1/7]  14%|#4         [00:00<?]"
      ]
     },
     "metadata": {},
     "output_type": "display_data"
    },
    {
     "data": {
      "application/vnd.jupyter.widget-view+json": {
       "model_id": "aba868506650490c9022d791c4043ce5",
       "version_major": 2,
       "version_minor": 0
      },
      "text/plain": [
       "[1/7]  14%|#4         [00:00<?]"
      ]
     },
     "metadata": {},
     "output_type": "display_data"
    },
    {
     "data": {
      "application/vnd.jupyter.widget-view+json": {
       "model_id": "162b5918ab214f1c8ae1f76c3026c0c7",
       "version_major": 2,
       "version_minor": 0
      },
      "text/plain": [
       "[1/7]  14%|#4         [00:00<?]"
      ]
     },
     "metadata": {},
     "output_type": "display_data"
    },
    {
     "data": {
      "application/vnd.jupyter.widget-view+json": {
       "model_id": "84adf1bba67044e6a112d6ef33d0686c",
       "version_major": 2,
       "version_minor": 0
      },
      "text/plain": [
       "[1/7]  14%|#4         [00:00<?]"
      ]
     },
     "metadata": {},
     "output_type": "display_data"
    },
    {
     "data": {
      "application/vnd.jupyter.widget-view+json": {
       "model_id": "3839a153e9b741c0bfecb0b4b6fba1eb",
       "version_major": 2,
       "version_minor": 0
      },
      "text/plain": [
       "[1/7]  14%|#4         [00:00<?]"
      ]
     },
     "metadata": {},
     "output_type": "display_data"
    },
    {
     "data": {
      "application/vnd.jupyter.widget-view+json": {
       "model_id": "df034aa94ae242d6a51cc67891054afb",
       "version_major": 2,
       "version_minor": 0
      },
      "text/plain": [
       "[1/7]  14%|#4         [00:00<?]"
      ]
     },
     "metadata": {},
     "output_type": "display_data"
    },
    {
     "data": {
      "application/vnd.jupyter.widget-view+json": {
       "model_id": "e3f68c28ccc84c8ab444f596f08e7f43",
       "version_major": 2,
       "version_minor": 0
      },
      "text/plain": [
       "[1/7]  14%|#4         [00:00<?]"
      ]
     },
     "metadata": {},
     "output_type": "display_data"
    },
    {
     "data": {
      "application/vnd.jupyter.widget-view+json": {
       "model_id": "790ba1c445ad4069b21b051462cf7ea4",
       "version_major": 2,
       "version_minor": 0
      },
      "text/plain": [
       "[1/7]  14%|#4         [00:00<?]"
      ]
     },
     "metadata": {},
     "output_type": "display_data"
    },
    {
     "data": {
      "application/vnd.jupyter.widget-view+json": {
       "model_id": "67352f828c83401b807be9c5dceee38d",
       "version_major": 2,
       "version_minor": 0
      },
      "text/plain": [
       "[1/7]  14%|#4         [00:00<?]"
      ]
     },
     "metadata": {},
     "output_type": "display_data"
    },
    {
     "data": {
      "application/vnd.jupyter.widget-view+json": {
       "model_id": "bee9ec0df7e94cdca5f9a030de78da3e",
       "version_major": 2,
       "version_minor": 0
      },
      "text/plain": [
       "[1/7]  14%|#4         [00:00<?]"
      ]
     },
     "metadata": {},
     "output_type": "display_data"
    },
    {
     "data": {
      "application/vnd.jupyter.widget-view+json": {
       "model_id": "88842ad3ac2c4df5aff746e88761f03a",
       "version_major": 2,
       "version_minor": 0
      },
      "text/plain": [
       "[1/7]  14%|#4         [00:00<?]"
      ]
     },
     "metadata": {},
     "output_type": "display_data"
    },
    {
     "data": {
      "application/vnd.jupyter.widget-view+json": {
       "model_id": "d911978835614161b0d214c1d9b46033",
       "version_major": 2,
       "version_minor": 0
      },
      "text/plain": [
       "[1/7]  14%|#4         [00:00<?]"
      ]
     },
     "metadata": {},
     "output_type": "display_data"
    },
    {
     "data": {
      "application/vnd.jupyter.widget-view+json": {
       "model_id": "b2aaca09e058477686ac8dd5d792833f",
       "version_major": 2,
       "version_minor": 0
      },
      "text/plain": [
       "[1/7]  14%|#4         [00:00<?]"
      ]
     },
     "metadata": {},
     "output_type": "display_data"
    },
    {
     "data": {
      "application/vnd.jupyter.widget-view+json": {
       "model_id": "ab8f8b3d14d04478b05da651cf60df0f",
       "version_major": 2,
       "version_minor": 0
      },
      "text/plain": [
       "[1/7]  14%|#4         [00:00<?]"
      ]
     },
     "metadata": {},
     "output_type": "display_data"
    },
    {
     "data": {
      "application/vnd.jupyter.widget-view+json": {
       "model_id": "cdde0af97dac4309baf923be232741d1",
       "version_major": 2,
       "version_minor": 0
      },
      "text/plain": [
       "[1/7]  14%|#4         [00:00<?]"
      ]
     },
     "metadata": {},
     "output_type": "display_data"
    },
    {
     "data": {
      "application/vnd.jupyter.widget-view+json": {
       "model_id": "b1185f3d6f624b76a579e469419391ca",
       "version_major": 2,
       "version_minor": 0
      },
      "text/plain": [
       "[1/7]  14%|#4         [00:00<?]"
      ]
     },
     "metadata": {},
     "output_type": "display_data"
    },
    {
     "data": {
      "application/vnd.jupyter.widget-view+json": {
       "model_id": "5603cfec3bee4334843f19c50b5b9027",
       "version_major": 2,
       "version_minor": 0
      },
      "text/plain": [
       "[1/7]  14%|#4         [00:00<?]"
      ]
     },
     "metadata": {},
     "output_type": "display_data"
    },
    {
     "data": {
      "application/vnd.jupyter.widget-view+json": {
       "model_id": "36dae6a3a3f1418f953714dd4edc4736",
       "version_major": 2,
       "version_minor": 0
      },
      "text/plain": [
       "[1/7]  14%|#4         [00:00<?]"
      ]
     },
     "metadata": {},
     "output_type": "display_data"
    },
    {
     "data": {
      "application/vnd.jupyter.widget-view+json": {
       "model_id": "67bd0121deb44e429bae1a8bf1dcb282",
       "version_major": 2,
       "version_minor": 0
      },
      "text/plain": [
       "[1/7]  14%|#4         [00:00<?]"
      ]
     },
     "metadata": {},
     "output_type": "display_data"
    },
    {
     "data": {
      "application/vnd.jupyter.widget-view+json": {
       "model_id": "fe27d052659a4ef489e42a6e4a7e02d2",
       "version_major": 2,
       "version_minor": 0
      },
      "text/plain": [
       "[1/7]  14%|#4         [00:00<?]"
      ]
     },
     "metadata": {},
     "output_type": "display_data"
    },
    {
     "data": {
      "application/vnd.jupyter.widget-view+json": {
       "model_id": "108309b674954598a331bb5d799b5a26",
       "version_major": 2,
       "version_minor": 0
      },
      "text/plain": [
       "[1/7]  14%|#4         [00:00<?]"
      ]
     },
     "metadata": {},
     "output_type": "display_data"
    },
    {
     "data": {
      "application/vnd.jupyter.widget-view+json": {
       "model_id": "0ad4e00c93a7406fa3feff1962e834ad",
       "version_major": 2,
       "version_minor": 0
      },
      "text/plain": [
       "[1/7]  14%|#4         [00:00<?]"
      ]
     },
     "metadata": {},
     "output_type": "display_data"
    },
    {
     "data": {
      "application/vnd.jupyter.widget-view+json": {
       "model_id": "3283ebda28df48c6b93338f4902cb3b3",
       "version_major": 2,
       "version_minor": 0
      },
      "text/plain": [
       "[1/7]  14%|#4         [00:00<?]"
      ]
     },
     "metadata": {},
     "output_type": "display_data"
    },
    {
     "data": {
      "application/vnd.jupyter.widget-view+json": {
       "model_id": "20785586229f4ef48dfe277fd8ad2b9c",
       "version_major": 2,
       "version_minor": 0
      },
      "text/plain": [
       "[1/7]  14%|#4         [00:00<?]"
      ]
     },
     "metadata": {},
     "output_type": "display_data"
    },
    {
     "data": {
      "application/vnd.jupyter.widget-view+json": {
       "model_id": "072ab14ebdea41c3af9f8153745405a4",
       "version_major": 2,
       "version_minor": 0
      },
      "text/plain": [
       "[1/7]  14%|#4         [00:00<?]"
      ]
     },
     "metadata": {},
     "output_type": "display_data"
    },
    {
     "data": {
      "application/vnd.jupyter.widget-view+json": {
       "model_id": "decfa6d9d75443e0bf7165fe015bdfb7",
       "version_major": 2,
       "version_minor": 0
      },
      "text/plain": [
       "[1/7]  14%|#4         [00:00<?]"
      ]
     },
     "metadata": {},
     "output_type": "display_data"
    },
    {
     "data": {
      "application/vnd.jupyter.widget-view+json": {
       "model_id": "b0e0c77a9cf745c88ee8a12ab1d4500a",
       "version_major": 2,
       "version_minor": 0
      },
      "text/plain": [
       "[1/7]  14%|#4         [00:00<?]"
      ]
     },
     "metadata": {},
     "output_type": "display_data"
    },
    {
     "data": {
      "application/vnd.jupyter.widget-view+json": {
       "model_id": "3050aa04ac8d4aea9153b75ea0aba2dc",
       "version_major": 2,
       "version_minor": 0
      },
      "text/plain": [
       "[1/7]  14%|#4         [00:00<?]"
      ]
     },
     "metadata": {},
     "output_type": "display_data"
    },
    {
     "data": {
      "application/vnd.jupyter.widget-view+json": {
       "model_id": "09a74175d57c4103b1ee2dc130f89735",
       "version_major": 2,
       "version_minor": 0
      },
      "text/plain": [
       "[1/7]  14%|#4         [00:00<?]"
      ]
     },
     "metadata": {},
     "output_type": "display_data"
    },
    {
     "data": {
      "application/vnd.jupyter.widget-view+json": {
       "model_id": "0943d6af1f844a2a9c1f3193f896891a",
       "version_major": 2,
       "version_minor": 0
      },
      "text/plain": [
       "[1/7]  14%|#4         [00:00<?]"
      ]
     },
     "metadata": {},
     "output_type": "display_data"
    },
    {
     "data": {
      "application/vnd.jupyter.widget-view+json": {
       "model_id": "da48eaeae94343eb933f43a0df88f2ef",
       "version_major": 2,
       "version_minor": 0
      },
      "text/plain": [
       "[1/7]  14%|#4         [00:00<?]"
      ]
     },
     "metadata": {},
     "output_type": "display_data"
    },
    {
     "data": {
      "application/vnd.jupyter.widget-view+json": {
       "model_id": "799c8e58355a491b97fccc74a97aea47",
       "version_major": 2,
       "version_minor": 0
      },
      "text/plain": [
       "[1/7]  14%|#4         [00:00<?]"
      ]
     },
     "metadata": {},
     "output_type": "display_data"
    },
    {
     "data": {
      "application/vnd.jupyter.widget-view+json": {
       "model_id": "f3254b6cf6b34f6a9a4f1401a6aba567",
       "version_major": 2,
       "version_minor": 0
      },
      "text/plain": [
       "[1/7]  14%|#4         [00:00<?]"
      ]
     },
     "metadata": {},
     "output_type": "display_data"
    },
    {
     "data": {
      "application/vnd.jupyter.widget-view+json": {
       "model_id": "ba44d7da588d4e6d85ea1eb5543e8933",
       "version_major": 2,
       "version_minor": 0
      },
      "text/plain": [
       "[1/7]  14%|#4         [00:00<?]"
      ]
     },
     "metadata": {},
     "output_type": "display_data"
    },
    {
     "data": {
      "application/vnd.jupyter.widget-view+json": {
       "model_id": "fed4314260e14452b27b9baf443b65d1",
       "version_major": 2,
       "version_minor": 0
      },
      "text/plain": [
       "[1/7]  14%|#4         [00:00<?]"
      ]
     },
     "metadata": {},
     "output_type": "display_data"
    },
    {
     "data": {
      "application/vnd.jupyter.widget-view+json": {
       "model_id": "cfc8935730d942b4816f58f052b0e77e",
       "version_major": 2,
       "version_minor": 0
      },
      "text/plain": [
       "[1/7]  14%|#4         [00:00<?]"
      ]
     },
     "metadata": {},
     "output_type": "display_data"
    },
    {
     "name": "stdout",
     "output_type": "stream",
     "text": [
      "Results - Epoch: 216 - Test Likelihood: 1.37 - Loss: 1.42\n"
     ]
    },
    {
     "data": {
      "application/vnd.jupyter.widget-view+json": {
       "model_id": "32f20f580d3e44d192a47784899c4488",
       "version_major": 2,
       "version_minor": 0
      },
      "text/plain": [
       "[1/7]  14%|#4         [00:00<?]"
      ]
     },
     "metadata": {},
     "output_type": "display_data"
    },
    {
     "data": {
      "application/vnd.jupyter.widget-view+json": {
       "model_id": "5cf13f85286b4d79b4660965ead23056",
       "version_major": 2,
       "version_minor": 0
      },
      "text/plain": [
       "[1/7]  14%|#4         [00:00<?]"
      ]
     },
     "metadata": {},
     "output_type": "display_data"
    },
    {
     "data": {
      "application/vnd.jupyter.widget-view+json": {
       "model_id": "8600f9b1f31f4716a5ab47ebd99c884c",
       "version_major": 2,
       "version_minor": 0
      },
      "text/plain": [
       "[1/7]  14%|#4         [00:00<?]"
      ]
     },
     "metadata": {},
     "output_type": "display_data"
    },
    {
     "data": {
      "application/vnd.jupyter.widget-view+json": {
       "model_id": "07de3cf9e9b14c1987f05aeecbc51ff3",
       "version_major": 2,
       "version_minor": 0
      },
      "text/plain": [
       "[1/7]  14%|#4         [00:00<?]"
      ]
     },
     "metadata": {},
     "output_type": "display_data"
    },
    {
     "data": {
      "application/vnd.jupyter.widget-view+json": {
       "model_id": "11d0803b3ba04c89a94c161c4ffb129a",
       "version_major": 2,
       "version_minor": 0
      },
      "text/plain": [
       "[1/7]  14%|#4         [00:00<?]"
      ]
     },
     "metadata": {},
     "output_type": "display_data"
    },
    {
     "data": {
      "application/vnd.jupyter.widget-view+json": {
       "model_id": "9c010054b2e34718b689da1f0c298240",
       "version_major": 2,
       "version_minor": 0
      },
      "text/plain": [
       "[1/7]  14%|#4         [00:00<?]"
      ]
     },
     "metadata": {},
     "output_type": "display_data"
    },
    {
     "data": {
      "application/vnd.jupyter.widget-view+json": {
       "model_id": "eb9a1e707a5945a7ad0b4c8274b15ab3",
       "version_major": 2,
       "version_minor": 0
      },
      "text/plain": [
       "[1/7]  14%|#4         [00:00<?]"
      ]
     },
     "metadata": {},
     "output_type": "display_data"
    },
    {
     "data": {
      "application/vnd.jupyter.widget-view+json": {
       "model_id": "fac29e0fd4fd41ce9a1fc529f8b7bac9",
       "version_major": 2,
       "version_minor": 0
      },
      "text/plain": [
       "[1/7]  14%|#4         [00:00<?]"
      ]
     },
     "metadata": {},
     "output_type": "display_data"
    },
    {
     "data": {
      "application/vnd.jupyter.widget-view+json": {
       "model_id": "1f6d3aec97254668ae5a3bafc6c047df",
       "version_major": 2,
       "version_minor": 0
      },
      "text/plain": [
       "[1/7]  14%|#4         [00:00<?]"
      ]
     },
     "metadata": {},
     "output_type": "display_data"
    },
    {
     "data": {
      "application/vnd.jupyter.widget-view+json": {
       "model_id": "ef004c4084e0435aae2484310026e2f1",
       "version_major": 2,
       "version_minor": 0
      },
      "text/plain": [
       "[1/7]  14%|#4         [00:00<?]"
      ]
     },
     "metadata": {},
     "output_type": "display_data"
    },
    {
     "data": {
      "application/vnd.jupyter.widget-view+json": {
       "model_id": "373e9d94853a41e79d6c8cf2821aa224",
       "version_major": 2,
       "version_minor": 0
      },
      "text/plain": [
       "[1/7]  14%|#4         [00:00<?]"
      ]
     },
     "metadata": {},
     "output_type": "display_data"
    },
    {
     "data": {
      "application/vnd.jupyter.widget-view+json": {
       "model_id": "15fc13f4c22846e892e68cc0a85c3e60",
       "version_major": 2,
       "version_minor": 0
      },
      "text/plain": [
       "[1/7]  14%|#4         [00:00<?]"
      ]
     },
     "metadata": {},
     "output_type": "display_data"
    },
    {
     "data": {
      "application/vnd.jupyter.widget-view+json": {
       "model_id": "520031d084d84d6cbac6fa5a1f7bf98b",
       "version_major": 2,
       "version_minor": 0
      },
      "text/plain": [
       "[1/7]  14%|#4         [00:00<?]"
      ]
     },
     "metadata": {},
     "output_type": "display_data"
    },
    {
     "data": {
      "application/vnd.jupyter.widget-view+json": {
       "model_id": "0b962e91e0cc4acbbc97adc1f75643ae",
       "version_major": 2,
       "version_minor": 0
      },
      "text/plain": [
       "[1/7]  14%|#4         [00:00<?]"
      ]
     },
     "metadata": {},
     "output_type": "display_data"
    },
    {
     "data": {
      "application/vnd.jupyter.widget-view+json": {
       "model_id": "e97f315df4964640837bf011224bd405",
       "version_major": 2,
       "version_minor": 0
      },
      "text/plain": [
       "[1/7]  14%|#4         [00:00<?]"
      ]
     },
     "metadata": {},
     "output_type": "display_data"
    },
    {
     "data": {
      "application/vnd.jupyter.widget-view+json": {
       "model_id": "0d4a1773489f4f559005f60b46712a84",
       "version_major": 2,
       "version_minor": 0
      },
      "text/plain": [
       "[1/7]  14%|#4         [00:00<?]"
      ]
     },
     "metadata": {},
     "output_type": "display_data"
    },
    {
     "data": {
      "application/vnd.jupyter.widget-view+json": {
       "model_id": "83140493bb23413a879a233e983c6084",
       "version_major": 2,
       "version_minor": 0
      },
      "text/plain": [
       "[1/7]  14%|#4         [00:00<?]"
      ]
     },
     "metadata": {},
     "output_type": "display_data"
    },
    {
     "data": {
      "application/vnd.jupyter.widget-view+json": {
       "model_id": "1e727b1e19534d9e89c2f37455231414",
       "version_major": 2,
       "version_minor": 0
      },
      "text/plain": [
       "[1/7]  14%|#4         [00:00<?]"
      ]
     },
     "metadata": {},
     "output_type": "display_data"
    },
    {
     "data": {
      "application/vnd.jupyter.widget-view+json": {
       "model_id": "82a7a567dc11454ab10d95785067bae4",
       "version_major": 2,
       "version_minor": 0
      },
      "text/plain": [
       "[1/7]  14%|#4         [00:00<?]"
      ]
     },
     "metadata": {},
     "output_type": "display_data"
    },
    {
     "data": {
      "application/vnd.jupyter.widget-view+json": {
       "model_id": "ce7f818ca90240d1bfbd5fde03de9066",
       "version_major": 2,
       "version_minor": 0
      },
      "text/plain": [
       "[1/7]  14%|#4         [00:00<?]"
      ]
     },
     "metadata": {},
     "output_type": "display_data"
    },
    {
     "data": {
      "application/vnd.jupyter.widget-view+json": {
       "model_id": "3d6b64199a504f328d670947a1c0a181",
       "version_major": 2,
       "version_minor": 0
      },
      "text/plain": [
       "[1/7]  14%|#4         [00:00<?]"
      ]
     },
     "metadata": {},
     "output_type": "display_data"
    },
    {
     "data": {
      "application/vnd.jupyter.widget-view+json": {
       "model_id": "84f618873f384be8bb7da38a924d4ea7",
       "version_major": 2,
       "version_minor": 0
      },
      "text/plain": [
       "[1/7]  14%|#4         [00:00<?]"
      ]
     },
     "metadata": {},
     "output_type": "display_data"
    },
    {
     "data": {
      "application/vnd.jupyter.widget-view+json": {
       "model_id": "ae1a1729f0bb41aa955f77896110b589",
       "version_major": 2,
       "version_minor": 0
      },
      "text/plain": [
       "[1/7]  14%|#4         [00:00<?]"
      ]
     },
     "metadata": {},
     "output_type": "display_data"
    },
    {
     "data": {
      "application/vnd.jupyter.widget-view+json": {
       "model_id": "71e56870092742c0bb49b2eef0b8ae49",
       "version_major": 2,
       "version_minor": 0
      },
      "text/plain": [
       "[1/7]  14%|#4         [00:00<?]"
      ]
     },
     "metadata": {},
     "output_type": "display_data"
    },
    {
     "data": {
      "application/vnd.jupyter.widget-view+json": {
       "model_id": "f577b2086ccc4ba8bfd7523cec14472c",
       "version_major": 2,
       "version_minor": 0
      },
      "text/plain": [
       "[1/7]  14%|#4         [00:00<?]"
      ]
     },
     "metadata": {},
     "output_type": "display_data"
    },
    {
     "data": {
      "application/vnd.jupyter.widget-view+json": {
       "model_id": "73e3b66600b64236af94c8e71bd9dcdc",
       "version_major": 2,
       "version_minor": 0
      },
      "text/plain": [
       "[1/7]  14%|#4         [00:00<?]"
      ]
     },
     "metadata": {},
     "output_type": "display_data"
    },
    {
     "data": {
      "application/vnd.jupyter.widget-view+json": {
       "model_id": "ec65821045194e73b4e89d72882c1f4e",
       "version_major": 2,
       "version_minor": 0
      },
      "text/plain": [
       "[1/7]  14%|#4         [00:00<?]"
      ]
     },
     "metadata": {},
     "output_type": "display_data"
    },
    {
     "data": {
      "application/vnd.jupyter.widget-view+json": {
       "model_id": "7d80e1e1c87a44f089a716f8d79cb728",
       "version_major": 2,
       "version_minor": 0
      },
      "text/plain": [
       "[1/7]  14%|#4         [00:00<?]"
      ]
     },
     "metadata": {},
     "output_type": "display_data"
    },
    {
     "data": {
      "application/vnd.jupyter.widget-view+json": {
       "model_id": "2200d561802f465aa0210f9ab86b63b7",
       "version_major": 2,
       "version_minor": 0
      },
      "text/plain": [
       "[1/7]  14%|#4         [00:00<?]"
      ]
     },
     "metadata": {},
     "output_type": "display_data"
    },
    {
     "data": {
      "application/vnd.jupyter.widget-view+json": {
       "model_id": "a5cf943183c34f3fbec6548d2536065e",
       "version_major": 2,
       "version_minor": 0
      },
      "text/plain": [
       "[1/7]  14%|#4         [00:00<?]"
      ]
     },
     "metadata": {},
     "output_type": "display_data"
    },
    {
     "data": {
      "application/vnd.jupyter.widget-view+json": {
       "model_id": "4a486582eab940c5a16073b52ae60360",
       "version_major": 2,
       "version_minor": 0
      },
      "text/plain": [
       "[1/7]  14%|#4         [00:00<?]"
      ]
     },
     "metadata": {},
     "output_type": "display_data"
    },
    {
     "data": {
      "application/vnd.jupyter.widget-view+json": {
       "model_id": "f02a26fed65346508e19b0ed6c6e3f7d",
       "version_major": 2,
       "version_minor": 0
      },
      "text/plain": [
       "[1/7]  14%|#4         [00:00<?]"
      ]
     },
     "metadata": {},
     "output_type": "display_data"
    },
    {
     "data": {
      "application/vnd.jupyter.widget-view+json": {
       "model_id": "eab45e1fb71a48c0a81888e33942bbf0",
       "version_major": 2,
       "version_minor": 0
      },
      "text/plain": [
       "[1/7]  14%|#4         [00:00<?]"
      ]
     },
     "metadata": {},
     "output_type": "display_data"
    },
    {
     "data": {
      "application/vnd.jupyter.widget-view+json": {
       "model_id": "0790268d0d2d4f6e87bb67be547cd520",
       "version_major": 2,
       "version_minor": 0
      },
      "text/plain": [
       "[1/7]  14%|#4         [00:00<?]"
      ]
     },
     "metadata": {},
     "output_type": "display_data"
    },
    {
     "data": {
      "application/vnd.jupyter.widget-view+json": {
       "model_id": "66e3d6d2694d49d7a5ddd69567701f04",
       "version_major": 2,
       "version_minor": 0
      },
      "text/plain": [
       "[1/7]  14%|#4         [00:00<?]"
      ]
     },
     "metadata": {},
     "output_type": "display_data"
    },
    {
     "data": {
      "application/vnd.jupyter.widget-view+json": {
       "model_id": "ac9977df92624460b8c802db9315d5bd",
       "version_major": 2,
       "version_minor": 0
      },
      "text/plain": [
       "[1/7]  14%|#4         [00:00<?]"
      ]
     },
     "metadata": {},
     "output_type": "display_data"
    },
    {
     "data": {
      "application/vnd.jupyter.widget-view+json": {
       "model_id": "67e2c273085b44a799af147b0b71995e",
       "version_major": 2,
       "version_minor": 0
      },
      "text/plain": [
       "[1/7]  14%|#4         [00:00<?]"
      ]
     },
     "metadata": {},
     "output_type": "display_data"
    },
    {
     "data": {
      "application/vnd.jupyter.widget-view+json": {
       "model_id": "00ff19eafe364464a57c0b40b46616fb",
       "version_major": 2,
       "version_minor": 0
      },
      "text/plain": [
       "[1/7]  14%|#4         [00:00<?]"
      ]
     },
     "metadata": {},
     "output_type": "display_data"
    },
    {
     "data": {
      "application/vnd.jupyter.widget-view+json": {
       "model_id": "2ee6ddd4ae644013be04ab798bc5c505",
       "version_major": 2,
       "version_minor": 0
      },
      "text/plain": [
       "[1/7]  14%|#4         [00:00<?]"
      ]
     },
     "metadata": {},
     "output_type": "display_data"
    },
    {
     "data": {
      "application/vnd.jupyter.widget-view+json": {
       "model_id": "552f2014ca9547ac9a97eb49e1fa7e41",
       "version_major": 2,
       "version_minor": 0
      },
      "text/plain": [
       "[1/7]  14%|#4         [00:00<?]"
      ]
     },
     "metadata": {},
     "output_type": "display_data"
    },
    {
     "data": {
      "application/vnd.jupyter.widget-view+json": {
       "model_id": "2b804bd41f064234b93c8a3427b0b7d3",
       "version_major": 2,
       "version_minor": 0
      },
      "text/plain": [
       "[1/7]  14%|#4         [00:00<?]"
      ]
     },
     "metadata": {},
     "output_type": "display_data"
    },
    {
     "data": {
      "application/vnd.jupyter.widget-view+json": {
       "model_id": "3a743d5729984116be817e74ee7c02fe",
       "version_major": 2,
       "version_minor": 0
      },
      "text/plain": [
       "[1/7]  14%|#4         [00:00<?]"
      ]
     },
     "metadata": {},
     "output_type": "display_data"
    },
    {
     "data": {
      "application/vnd.jupyter.widget-view+json": {
       "model_id": "8b6433fc04bf49f6b3cafc5976d1d25a",
       "version_major": 2,
       "version_minor": 0
      },
      "text/plain": [
       "[1/7]  14%|#4         [00:00<?]"
      ]
     },
     "metadata": {},
     "output_type": "display_data"
    },
    {
     "data": {
      "application/vnd.jupyter.widget-view+json": {
       "model_id": "7dff28857cc54afe81ca19bd60715896",
       "version_major": 2,
       "version_minor": 0
      },
      "text/plain": [
       "[1/7]  14%|#4         [00:00<?]"
      ]
     },
     "metadata": {},
     "output_type": "display_data"
    },
    {
     "data": {
      "application/vnd.jupyter.widget-view+json": {
       "model_id": "cbc9a26998a940e685fa1b3239d3f90c",
       "version_major": 2,
       "version_minor": 0
      },
      "text/plain": [
       "[1/7]  14%|#4         [00:00<?]"
      ]
     },
     "metadata": {},
     "output_type": "display_data"
    },
    {
     "data": {
      "application/vnd.jupyter.widget-view+json": {
       "model_id": "6e542572be84495a8ea0b5633229f7fa",
       "version_major": 2,
       "version_minor": 0
      },
      "text/plain": [
       "[1/7]  14%|#4         [00:00<?]"
      ]
     },
     "metadata": {},
     "output_type": "display_data"
    },
    {
     "data": {
      "application/vnd.jupyter.widget-view+json": {
       "model_id": "db17fac437c543239c17f30c4346b3e2",
       "version_major": 2,
       "version_minor": 0
      },
      "text/plain": [
       "[1/7]  14%|#4         [00:00<?]"
      ]
     },
     "metadata": {},
     "output_type": "display_data"
    },
    {
     "data": {
      "application/vnd.jupyter.widget-view+json": {
       "model_id": "83cb1452227e469680277ad1a45d5d9d",
       "version_major": 2,
       "version_minor": 0
      },
      "text/plain": [
       "[1/7]  14%|#4         [00:00<?]"
      ]
     },
     "metadata": {},
     "output_type": "display_data"
    },
    {
     "data": {
      "application/vnd.jupyter.widget-view+json": {
       "model_id": "f38c04e64cb84a19abff0f6fecfab629",
       "version_major": 2,
       "version_minor": 0
      },
      "text/plain": [
       "[1/7]  14%|#4         [00:00<?]"
      ]
     },
     "metadata": {},
     "output_type": "display_data"
    },
    {
     "data": {
      "application/vnd.jupyter.widget-view+json": {
       "model_id": "fd1fd87dff1f4914b071c56744ea4110",
       "version_major": 2,
       "version_minor": 0
      },
      "text/plain": [
       "[1/7]  14%|#4         [00:00<?]"
      ]
     },
     "metadata": {},
     "output_type": "display_data"
    },
    {
     "data": {
      "application/vnd.jupyter.widget-view+json": {
       "model_id": "2b94af2b1eb64bb4a6d70ca6fe82dee9",
       "version_major": 2,
       "version_minor": 0
      },
      "text/plain": [
       "[1/7]  14%|#4         [00:00<?]"
      ]
     },
     "metadata": {},
     "output_type": "display_data"
    },
    {
     "data": {
      "application/vnd.jupyter.widget-view+json": {
       "model_id": "101410768ce3408e93578ed00fb5fc7f",
       "version_major": 2,
       "version_minor": 0
      },
      "text/plain": [
       "[1/7]  14%|#4         [00:00<?]"
      ]
     },
     "metadata": {},
     "output_type": "display_data"
    },
    {
     "data": {
      "application/vnd.jupyter.widget-view+json": {
       "model_id": "4cf7a0325a57486896030a974a306ae9",
       "version_major": 2,
       "version_minor": 0
      },
      "text/plain": [
       "[1/7]  14%|#4         [00:00<?]"
      ]
     },
     "metadata": {},
     "output_type": "display_data"
    },
    {
     "data": {
      "application/vnd.jupyter.widget-view+json": {
       "model_id": "89e38d4da20b42ac93e7ca443e71f5ad",
       "version_major": 2,
       "version_minor": 0
      },
      "text/plain": [
       "[1/7]  14%|#4         [00:00<?]"
      ]
     },
     "metadata": {},
     "output_type": "display_data"
    },
    {
     "data": {
      "application/vnd.jupyter.widget-view+json": {
       "model_id": "80ddf0c45c8b451696b89e065ae227ef",
       "version_major": 2,
       "version_minor": 0
      },
      "text/plain": [
       "[1/7]  14%|#4         [00:00<?]"
      ]
     },
     "metadata": {},
     "output_type": "display_data"
    },
    {
     "data": {
      "application/vnd.jupyter.widget-view+json": {
       "model_id": "8a1b44409c6b439881abfc643e6d3685",
       "version_major": 2,
       "version_minor": 0
      },
      "text/plain": [
       "[1/7]  14%|#4         [00:00<?]"
      ]
     },
     "metadata": {},
     "output_type": "display_data"
    },
    {
     "data": {
      "application/vnd.jupyter.widget-view+json": {
       "model_id": "04ecf8d01a9c4abf80bba86b7aef4a28",
       "version_major": 2,
       "version_minor": 0
      },
      "text/plain": [
       "[1/7]  14%|#4         [00:00<?]"
      ]
     },
     "metadata": {},
     "output_type": "display_data"
    },
    {
     "data": {
      "application/vnd.jupyter.widget-view+json": {
       "model_id": "0415aa3d38994781861d5df4b232310d",
       "version_major": 2,
       "version_minor": 0
      },
      "text/plain": [
       "[1/7]  14%|#4         [00:00<?]"
      ]
     },
     "metadata": {},
     "output_type": "display_data"
    },
    {
     "data": {
      "application/vnd.jupyter.widget-view+json": {
       "model_id": "6118240c8f3b404eaeebb6e2151073a8",
       "version_major": 2,
       "version_minor": 0
      },
      "text/plain": [
       "[1/7]  14%|#4         [00:00<?]"
      ]
     },
     "metadata": {},
     "output_type": "display_data"
    },
    {
     "data": {
      "application/vnd.jupyter.widget-view+json": {
       "model_id": "8767d9dbab76491b9da548e95ff444c3",
       "version_major": 2,
       "version_minor": 0
      },
      "text/plain": [
       "[1/7]  14%|#4         [00:00<?]"
      ]
     },
     "metadata": {},
     "output_type": "display_data"
    },
    {
     "data": {
      "application/vnd.jupyter.widget-view+json": {
       "model_id": "73ec6f6016b147b39e83f987caa6e883",
       "version_major": 2,
       "version_minor": 0
      },
      "text/plain": [
       "[1/7]  14%|#4         [00:00<?]"
      ]
     },
     "metadata": {},
     "output_type": "display_data"
    },
    {
     "data": {
      "application/vnd.jupyter.widget-view+json": {
       "model_id": "80f5587e470145c1a0cc74071c34a32e",
       "version_major": 2,
       "version_minor": 0
      },
      "text/plain": [
       "[1/7]  14%|#4         [00:00<?]"
      ]
     },
     "metadata": {},
     "output_type": "display_data"
    },
    {
     "data": {
      "application/vnd.jupyter.widget-view+json": {
       "model_id": "097f99fb00fd416e8af049015859f2b2",
       "version_major": 2,
       "version_minor": 0
      },
      "text/plain": [
       "[1/7]  14%|#4         [00:00<?]"
      ]
     },
     "metadata": {},
     "output_type": "display_data"
    },
    {
     "data": {
      "application/vnd.jupyter.widget-view+json": {
       "model_id": "6162c2b12aee4b1d87b9d01939dafc92",
       "version_major": 2,
       "version_minor": 0
      },
      "text/plain": [
       "[1/7]  14%|#4         [00:00<?]"
      ]
     },
     "metadata": {},
     "output_type": "display_data"
    },
    {
     "data": {
      "application/vnd.jupyter.widget-view+json": {
       "model_id": "3a92f4ffb20a4c80a2d7f60fb8c3bf36",
       "version_major": 2,
       "version_minor": 0
      },
      "text/plain": [
       "[1/7]  14%|#4         [00:00<?]"
      ]
     },
     "metadata": {},
     "output_type": "display_data"
    },
    {
     "data": {
      "application/vnd.jupyter.widget-view+json": {
       "model_id": "ffcad3e896944c1d8de7a2a06701044d",
       "version_major": 2,
       "version_minor": 0
      },
      "text/plain": [
       "[1/7]  14%|#4         [00:00<?]"
      ]
     },
     "metadata": {},
     "output_type": "display_data"
    },
    {
     "data": {
      "application/vnd.jupyter.widget-view+json": {
       "model_id": "b897da4242574ba7a43fa03b1afedf64",
       "version_major": 2,
       "version_minor": 0
      },
      "text/plain": [
       "[1/7]  14%|#4         [00:00<?]"
      ]
     },
     "metadata": {},
     "output_type": "display_data"
    },
    {
     "data": {
      "application/vnd.jupyter.widget-view+json": {
       "model_id": "d8774a9e274146c29286f3d8ff488863",
       "version_major": 2,
       "version_minor": 0
      },
      "text/plain": [
       "[1/7]  14%|#4         [00:00<?]"
      ]
     },
     "metadata": {},
     "output_type": "display_data"
    },
    {
     "data": {
      "application/vnd.jupyter.widget-view+json": {
       "model_id": "3ab37bc10f9b4fc494ff88751f161496",
       "version_major": 2,
       "version_minor": 0
      },
      "text/plain": [
       "[1/7]  14%|#4         [00:00<?]"
      ]
     },
     "metadata": {},
     "output_type": "display_data"
    },
    {
     "data": {
      "application/vnd.jupyter.widget-view+json": {
       "model_id": "fdc9e35c51334951ba7d62e28fc74acc",
       "version_major": 2,
       "version_minor": 0
      },
      "text/plain": [
       "[1/7]  14%|#4         [00:00<?]"
      ]
     },
     "metadata": {},
     "output_type": "display_data"
    },
    {
     "data": {
      "application/vnd.jupyter.widget-view+json": {
       "model_id": "af9003f553c941ec995b3dc33b73b414",
       "version_major": 2,
       "version_minor": 0
      },
      "text/plain": [
       "[1/7]  14%|#4         [00:00<?]"
      ]
     },
     "metadata": {},
     "output_type": "display_data"
    },
    {
     "data": {
      "application/vnd.jupyter.widget-view+json": {
       "model_id": "a6fe2924bad74075b73e07350e78caea",
       "version_major": 2,
       "version_minor": 0
      },
      "text/plain": [
       "[1/7]  14%|#4         [00:00<?]"
      ]
     },
     "metadata": {},
     "output_type": "display_data"
    },
    {
     "name": "stdout",
     "output_type": "stream",
     "text": [
      "Results - Epoch: 288 - Test Likelihood: 1.20 - Loss: 1.24\n"
     ]
    },
    {
     "data": {
      "application/vnd.jupyter.widget-view+json": {
       "model_id": "24c05c9448954208ba46dd3bb462ced5",
       "version_major": 2,
       "version_minor": 0
      },
      "text/plain": [
       "[1/7]  14%|#4         [00:00<?]"
      ]
     },
     "metadata": {},
     "output_type": "display_data"
    },
    {
     "data": {
      "application/vnd.jupyter.widget-view+json": {
       "model_id": "559a1af7d1a041d7a5b2faed1769bdab",
       "version_major": 2,
       "version_minor": 0
      },
      "text/plain": [
       "[1/7]  14%|#4         [00:00<?]"
      ]
     },
     "metadata": {},
     "output_type": "display_data"
    },
    {
     "data": {
      "application/vnd.jupyter.widget-view+json": {
       "model_id": "85083b2fd42d4c2696ba1b4321a99b83",
       "version_major": 2,
       "version_minor": 0
      },
      "text/plain": [
       "[1/7]  14%|#4         [00:00<?]"
      ]
     },
     "metadata": {},
     "output_type": "display_data"
    },
    {
     "data": {
      "application/vnd.jupyter.widget-view+json": {
       "model_id": "e051f60618184faaa9364ed88d0b9d0c",
       "version_major": 2,
       "version_minor": 0
      },
      "text/plain": [
       "[1/7]  14%|#4         [00:00<?]"
      ]
     },
     "metadata": {},
     "output_type": "display_data"
    },
    {
     "data": {
      "application/vnd.jupyter.widget-view+json": {
       "model_id": "1acc0c930ae141cb93ebf2e9af999803",
       "version_major": 2,
       "version_minor": 0
      },
      "text/plain": [
       "[1/7]  14%|#4         [00:00<?]"
      ]
     },
     "metadata": {},
     "output_type": "display_data"
    },
    {
     "data": {
      "application/vnd.jupyter.widget-view+json": {
       "model_id": "1078347b7c5a4cb18599b33eacd093d2",
       "version_major": 2,
       "version_minor": 0
      },
      "text/plain": [
       "[1/7]  14%|#4         [00:00<?]"
      ]
     },
     "metadata": {},
     "output_type": "display_data"
    },
    {
     "data": {
      "application/vnd.jupyter.widget-view+json": {
       "model_id": "0149dd332951488c87c558cd590f880c",
       "version_major": 2,
       "version_minor": 0
      },
      "text/plain": [
       "[1/7]  14%|#4         [00:00<?]"
      ]
     },
     "metadata": {},
     "output_type": "display_data"
    },
    {
     "data": {
      "application/vnd.jupyter.widget-view+json": {
       "model_id": "4688f377712a4f36b81f99e979240028",
       "version_major": 2,
       "version_minor": 0
      },
      "text/plain": [
       "[1/7]  14%|#4         [00:00<?]"
      ]
     },
     "metadata": {},
     "output_type": "display_data"
    },
    {
     "data": {
      "application/vnd.jupyter.widget-view+json": {
       "model_id": "e5001c4b6ec54da8bd93dc229723e215",
       "version_major": 2,
       "version_minor": 0
      },
      "text/plain": [
       "[1/7]  14%|#4         [00:00<?]"
      ]
     },
     "metadata": {},
     "output_type": "display_data"
    },
    {
     "data": {
      "application/vnd.jupyter.widget-view+json": {
       "model_id": "e2d5963d6c084fd99b601194a8420922",
       "version_major": 2,
       "version_minor": 0
      },
      "text/plain": [
       "[1/7]  14%|#4         [00:00<?]"
      ]
     },
     "metadata": {},
     "output_type": "display_data"
    },
    {
     "data": {
      "application/vnd.jupyter.widget-view+json": {
       "model_id": "7502f6c9e4d54ab6a4a19c63e3173e96",
       "version_major": 2,
       "version_minor": 0
      },
      "text/plain": [
       "[1/7]  14%|#4         [00:00<?]"
      ]
     },
     "metadata": {},
     "output_type": "display_data"
    },
    {
     "data": {
      "application/vnd.jupyter.widget-view+json": {
       "model_id": "7ce307e2cf80491585b69bf2d25b6114",
       "version_major": 2,
       "version_minor": 0
      },
      "text/plain": [
       "[1/7]  14%|#4         [00:00<?]"
      ]
     },
     "metadata": {},
     "output_type": "display_data"
    },
    {
     "data": {
      "application/vnd.jupyter.widget-view+json": {
       "model_id": "59f42dbd1fa9487f8c29d6ad3e702d50",
       "version_major": 2,
       "version_minor": 0
      },
      "text/plain": [
       "[1/7]  14%|#4         [00:00<?]"
      ]
     },
     "metadata": {},
     "output_type": "display_data"
    },
    {
     "data": {
      "application/vnd.jupyter.widget-view+json": {
       "model_id": "9eebda2f8eaa4ef093e2222ab2c8d85e",
       "version_major": 2,
       "version_minor": 0
      },
      "text/plain": [
       "[1/7]  14%|#4         [00:00<?]"
      ]
     },
     "metadata": {},
     "output_type": "display_data"
    },
    {
     "data": {
      "application/vnd.jupyter.widget-view+json": {
       "model_id": "3f190b3d338c411ba376413c9acdd377",
       "version_major": 2,
       "version_minor": 0
      },
      "text/plain": [
       "[1/7]  14%|#4         [00:00<?]"
      ]
     },
     "metadata": {},
     "output_type": "display_data"
    },
    {
     "data": {
      "application/vnd.jupyter.widget-view+json": {
       "model_id": "2312cf7fefb14e8383c57dbdbe60b8d0",
       "version_major": 2,
       "version_minor": 0
      },
      "text/plain": [
       "[1/7]  14%|#4         [00:00<?]"
      ]
     },
     "metadata": {},
     "output_type": "display_data"
    },
    {
     "data": {
      "application/vnd.jupyter.widget-view+json": {
       "model_id": "1121cfec527743c89279fb357eb1c28d",
       "version_major": 2,
       "version_minor": 0
      },
      "text/plain": [
       "[1/7]  14%|#4         [00:00<?]"
      ]
     },
     "metadata": {},
     "output_type": "display_data"
    },
    {
     "data": {
      "application/vnd.jupyter.widget-view+json": {
       "model_id": "0c6376017cee4487adaa987665affeb2",
       "version_major": 2,
       "version_minor": 0
      },
      "text/plain": [
       "[1/7]  14%|#4         [00:00<?]"
      ]
     },
     "metadata": {},
     "output_type": "display_data"
    },
    {
     "data": {
      "application/vnd.jupyter.widget-view+json": {
       "model_id": "ad52f792c9c448259d62bac378807d7a",
       "version_major": 2,
       "version_minor": 0
      },
      "text/plain": [
       "[1/7]  14%|#4         [00:00<?]"
      ]
     },
     "metadata": {},
     "output_type": "display_data"
    },
    {
     "data": {
      "application/vnd.jupyter.widget-view+json": {
       "model_id": "55086fced0654b9f9a2643c50048e0e9",
       "version_major": 2,
       "version_minor": 0
      },
      "text/plain": [
       "[1/7]  14%|#4         [00:00<?]"
      ]
     },
     "metadata": {},
     "output_type": "display_data"
    },
    {
     "data": {
      "application/vnd.jupyter.widget-view+json": {
       "model_id": "e8d6c2269b714cdd9d77ab20c20efe9f",
       "version_major": 2,
       "version_minor": 0
      },
      "text/plain": [
       "[1/7]  14%|#4         [00:00<?]"
      ]
     },
     "metadata": {},
     "output_type": "display_data"
    },
    {
     "data": {
      "application/vnd.jupyter.widget-view+json": {
       "model_id": "e9cda76fde9949888b0e635b421906e6",
       "version_major": 2,
       "version_minor": 0
      },
      "text/plain": [
       "[1/7]  14%|#4         [00:00<?]"
      ]
     },
     "metadata": {},
     "output_type": "display_data"
    },
    {
     "data": {
      "application/vnd.jupyter.widget-view+json": {
       "model_id": "084778ad90b74643ba902193c07b6371",
       "version_major": 2,
       "version_minor": 0
      },
      "text/plain": [
       "[1/7]  14%|#4         [00:00<?]"
      ]
     },
     "metadata": {},
     "output_type": "display_data"
    },
    {
     "data": {
      "application/vnd.jupyter.widget-view+json": {
       "model_id": "f2ca32bec51f45d48f75e3e1c9c41199",
       "version_major": 2,
       "version_minor": 0
      },
      "text/plain": [
       "[1/7]  14%|#4         [00:00<?]"
      ]
     },
     "metadata": {},
     "output_type": "display_data"
    },
    {
     "data": {
      "application/vnd.jupyter.widget-view+json": {
       "model_id": "027a4caca00b4ccd82bf2d056162712e",
       "version_major": 2,
       "version_minor": 0
      },
      "text/plain": [
       "[1/7]  14%|#4         [00:00<?]"
      ]
     },
     "metadata": {},
     "output_type": "display_data"
    },
    {
     "data": {
      "application/vnd.jupyter.widget-view+json": {
       "model_id": "7b1f3b31176a47f1a1a77c78e7c97daf",
       "version_major": 2,
       "version_minor": 0
      },
      "text/plain": [
       "[1/7]  14%|#4         [00:00<?]"
      ]
     },
     "metadata": {},
     "output_type": "display_data"
    },
    {
     "data": {
      "application/vnd.jupyter.widget-view+json": {
       "model_id": "bf5400b530404c7dbb09b607ee76f130",
       "version_major": 2,
       "version_minor": 0
      },
      "text/plain": [
       "[1/7]  14%|#4         [00:00<?]"
      ]
     },
     "metadata": {},
     "output_type": "display_data"
    },
    {
     "data": {
      "application/vnd.jupyter.widget-view+json": {
       "model_id": "ad6135088ee74af5bd67663c06353964",
       "version_major": 2,
       "version_minor": 0
      },
      "text/plain": [
       "[1/7]  14%|#4         [00:00<?]"
      ]
     },
     "metadata": {},
     "output_type": "display_data"
    },
    {
     "data": {
      "application/vnd.jupyter.widget-view+json": {
       "model_id": "e1a32df53f3b4cf192f0aa928eabef0e",
       "version_major": 2,
       "version_minor": 0
      },
      "text/plain": [
       "[1/7]  14%|#4         [00:00<?]"
      ]
     },
     "metadata": {},
     "output_type": "display_data"
    },
    {
     "data": {
      "application/vnd.jupyter.widget-view+json": {
       "model_id": "3398ba4e6ee94788bd8b3563dfe45719",
       "version_major": 2,
       "version_minor": 0
      },
      "text/plain": [
       "[1/7]  14%|#4         [00:00<?]"
      ]
     },
     "metadata": {},
     "output_type": "display_data"
    },
    {
     "data": {
      "application/vnd.jupyter.widget-view+json": {
       "model_id": "ccc753507ccc4deeb867ef61ba0faee1",
       "version_major": 2,
       "version_minor": 0
      },
      "text/plain": [
       "[1/7]  14%|#4         [00:00<?]"
      ]
     },
     "metadata": {},
     "output_type": "display_data"
    },
    {
     "data": {
      "application/vnd.jupyter.widget-view+json": {
       "model_id": "cc621b8b20954a52b2ebd5fa9f400d20",
       "version_major": 2,
       "version_minor": 0
      },
      "text/plain": [
       "[1/7]  14%|#4         [00:00<?]"
      ]
     },
     "metadata": {},
     "output_type": "display_data"
    },
    {
     "data": {
      "application/vnd.jupyter.widget-view+json": {
       "model_id": "668dda2bc6724031a68238560474decf",
       "version_major": 2,
       "version_minor": 0
      },
      "text/plain": [
       "[1/7]  14%|#4         [00:00<?]"
      ]
     },
     "metadata": {},
     "output_type": "display_data"
    },
    {
     "data": {
      "application/vnd.jupyter.widget-view+json": {
       "model_id": "1de5961c21564e0083129b02d99412a2",
       "version_major": 2,
       "version_minor": 0
      },
      "text/plain": [
       "[1/7]  14%|#4         [00:00<?]"
      ]
     },
     "metadata": {},
     "output_type": "display_data"
    },
    {
     "data": {
      "application/vnd.jupyter.widget-view+json": {
       "model_id": "c5b3f3d7bbd84121a7cdaae5b3b398cc",
       "version_major": 2,
       "version_minor": 0
      },
      "text/plain": [
       "[1/7]  14%|#4         [00:00<?]"
      ]
     },
     "metadata": {},
     "output_type": "display_data"
    },
    {
     "data": {
      "application/vnd.jupyter.widget-view+json": {
       "model_id": "05958b68e5904419bf5f4e78b93e765e",
       "version_major": 2,
       "version_minor": 0
      },
      "text/plain": [
       "[1/7]  14%|#4         [00:00<?]"
      ]
     },
     "metadata": {},
     "output_type": "display_data"
    },
    {
     "data": {
      "application/vnd.jupyter.widget-view+json": {
       "model_id": "c08311383770459584bad19ca092eb67",
       "version_major": 2,
       "version_minor": 0
      },
      "text/plain": [
       "[1/7]  14%|#4         [00:00<?]"
      ]
     },
     "metadata": {},
     "output_type": "display_data"
    },
    {
     "data": {
      "application/vnd.jupyter.widget-view+json": {
       "model_id": "302d80c33a874bcf9010344394db075d",
       "version_major": 2,
       "version_minor": 0
      },
      "text/plain": [
       "[1/7]  14%|#4         [00:00<?]"
      ]
     },
     "metadata": {},
     "output_type": "display_data"
    },
    {
     "data": {
      "application/vnd.jupyter.widget-view+json": {
       "model_id": "c039527fc34c4b2191a726bf4d9fc6ba",
       "version_major": 2,
       "version_minor": 0
      },
      "text/plain": [
       "[1/7]  14%|#4         [00:00<?]"
      ]
     },
     "metadata": {},
     "output_type": "display_data"
    },
    {
     "data": {
      "application/vnd.jupyter.widget-view+json": {
       "model_id": "778e4be90d3f4fa2a654ae230c982d38",
       "version_major": 2,
       "version_minor": 0
      },
      "text/plain": [
       "[1/7]  14%|#4         [00:00<?]"
      ]
     },
     "metadata": {},
     "output_type": "display_data"
    },
    {
     "data": {
      "application/vnd.jupyter.widget-view+json": {
       "model_id": "e6dd3413b29b4a54a1f3f5874877b1e6",
       "version_major": 2,
       "version_minor": 0
      },
      "text/plain": [
       "[1/7]  14%|#4         [00:00<?]"
      ]
     },
     "metadata": {},
     "output_type": "display_data"
    },
    {
     "data": {
      "application/vnd.jupyter.widget-view+json": {
       "model_id": "239bdfedb72647e9b34c4e92901417f3",
       "version_major": 2,
       "version_minor": 0
      },
      "text/plain": [
       "[1/7]  14%|#4         [00:00<?]"
      ]
     },
     "metadata": {},
     "output_type": "display_data"
    },
    {
     "data": {
      "application/vnd.jupyter.widget-view+json": {
       "model_id": "1f062dd6fa684edf87cc313110d95ced",
       "version_major": 2,
       "version_minor": 0
      },
      "text/plain": [
       "[1/7]  14%|#4         [00:00<?]"
      ]
     },
     "metadata": {},
     "output_type": "display_data"
    },
    {
     "data": {
      "application/vnd.jupyter.widget-view+json": {
       "model_id": "8f3d0b245a17404aa8db00aa1161268a",
       "version_major": 2,
       "version_minor": 0
      },
      "text/plain": [
       "[1/7]  14%|#4         [00:00<?]"
      ]
     },
     "metadata": {},
     "output_type": "display_data"
    },
    {
     "data": {
      "application/vnd.jupyter.widget-view+json": {
       "model_id": "851fa978156b443c98957a400af2bb06",
       "version_major": 2,
       "version_minor": 0
      },
      "text/plain": [
       "[1/7]  14%|#4         [00:00<?]"
      ]
     },
     "metadata": {},
     "output_type": "display_data"
    },
    {
     "data": {
      "application/vnd.jupyter.widget-view+json": {
       "model_id": "477523ecdfd94a53986c48dd1d90736b",
       "version_major": 2,
       "version_minor": 0
      },
      "text/plain": [
       "[1/7]  14%|#4         [00:00<?]"
      ]
     },
     "metadata": {},
     "output_type": "display_data"
    },
    {
     "data": {
      "application/vnd.jupyter.widget-view+json": {
       "model_id": "2e379a423d5048ccbc567e04b528c5bf",
       "version_major": 2,
       "version_minor": 0
      },
      "text/plain": [
       "[1/7]  14%|#4         [00:00<?]"
      ]
     },
     "metadata": {},
     "output_type": "display_data"
    },
    {
     "data": {
      "application/vnd.jupyter.widget-view+json": {
       "model_id": "f7f7fbab3b804dc6bee31a948ac761e1",
       "version_major": 2,
       "version_minor": 0
      },
      "text/plain": [
       "[1/7]  14%|#4         [00:00<?]"
      ]
     },
     "metadata": {},
     "output_type": "display_data"
    },
    {
     "data": {
      "application/vnd.jupyter.widget-view+json": {
       "model_id": "3c44421a81ef4f3185aec3aa1c1d1012",
       "version_major": 2,
       "version_minor": 0
      },
      "text/plain": [
       "[1/7]  14%|#4         [00:00<?]"
      ]
     },
     "metadata": {},
     "output_type": "display_data"
    },
    {
     "data": {
      "application/vnd.jupyter.widget-view+json": {
       "model_id": "2640c0bc4c6447f792d0cddb25c4a2fe",
       "version_major": 2,
       "version_minor": 0
      },
      "text/plain": [
       "[1/7]  14%|#4         [00:00<?]"
      ]
     },
     "metadata": {},
     "output_type": "display_data"
    },
    {
     "data": {
      "application/vnd.jupyter.widget-view+json": {
       "model_id": "bed67b2811cb4bab8e79990114fee6f9",
       "version_major": 2,
       "version_minor": 0
      },
      "text/plain": [
       "[1/7]  14%|#4         [00:00<?]"
      ]
     },
     "metadata": {},
     "output_type": "display_data"
    },
    {
     "data": {
      "application/vnd.jupyter.widget-view+json": {
       "model_id": "017e48c5fa644893a77c55e4b5f1e9ed",
       "version_major": 2,
       "version_minor": 0
      },
      "text/plain": [
       "[1/7]  14%|#4         [00:00<?]"
      ]
     },
     "metadata": {},
     "output_type": "display_data"
    },
    {
     "data": {
      "application/vnd.jupyter.widget-view+json": {
       "model_id": "9140e87cd5c147e5a5fdb1b82b33673b",
       "version_major": 2,
       "version_minor": 0
      },
      "text/plain": [
       "[1/7]  14%|#4         [00:00<?]"
      ]
     },
     "metadata": {},
     "output_type": "display_data"
    },
    {
     "data": {
      "application/vnd.jupyter.widget-view+json": {
       "model_id": "0967ba70ec2543398c033ca1b9fa8dd1",
       "version_major": 2,
       "version_minor": 0
      },
      "text/plain": [
       "[1/7]  14%|#4         [00:00<?]"
      ]
     },
     "metadata": {},
     "output_type": "display_data"
    },
    {
     "data": {
      "application/vnd.jupyter.widget-view+json": {
       "model_id": "0db7b34d83334b699fb76675704400bb",
       "version_major": 2,
       "version_minor": 0
      },
      "text/plain": [
       "[1/7]  14%|#4         [00:00<?]"
      ]
     },
     "metadata": {},
     "output_type": "display_data"
    },
    {
     "data": {
      "application/vnd.jupyter.widget-view+json": {
       "model_id": "2bfd554f29404c21922c7a4bfa13e44d",
       "version_major": 2,
       "version_minor": 0
      },
      "text/plain": [
       "[1/7]  14%|#4         [00:00<?]"
      ]
     },
     "metadata": {},
     "output_type": "display_data"
    },
    {
     "data": {
      "application/vnd.jupyter.widget-view+json": {
       "model_id": "bc3f84e325d948e395b4454096bc703f",
       "version_major": 2,
       "version_minor": 0
      },
      "text/plain": [
       "[1/7]  14%|#4         [00:00<?]"
      ]
     },
     "metadata": {},
     "output_type": "display_data"
    },
    {
     "data": {
      "application/vnd.jupyter.widget-view+json": {
       "model_id": "badc81df263a4f938cb07f238e6073e5",
       "version_major": 2,
       "version_minor": 0
      },
      "text/plain": [
       "[1/7]  14%|#4         [00:00<?]"
      ]
     },
     "metadata": {},
     "output_type": "display_data"
    },
    {
     "data": {
      "application/vnd.jupyter.widget-view+json": {
       "model_id": "307af54c8abb4b1487c1195297a970f9",
       "version_major": 2,
       "version_minor": 0
      },
      "text/plain": [
       "[1/7]  14%|#4         [00:00<?]"
      ]
     },
     "metadata": {},
     "output_type": "display_data"
    },
    {
     "data": {
      "application/vnd.jupyter.widget-view+json": {
       "model_id": "ac5e718a80714d2aacbfc8ffbc072a5d",
       "version_major": 2,
       "version_minor": 0
      },
      "text/plain": [
       "[1/7]  14%|#4         [00:00<?]"
      ]
     },
     "metadata": {},
     "output_type": "display_data"
    },
    {
     "data": {
      "application/vnd.jupyter.widget-view+json": {
       "model_id": "a644ce4ecb9248d28e650dab66499333",
       "version_major": 2,
       "version_minor": 0
      },
      "text/plain": [
       "[1/7]  14%|#4         [00:00<?]"
      ]
     },
     "metadata": {},
     "output_type": "display_data"
    },
    {
     "data": {
      "application/vnd.jupyter.widget-view+json": {
       "model_id": "f63773047d6e4693be35e5eb5e69d55e",
       "version_major": 2,
       "version_minor": 0
      },
      "text/plain": [
       "[1/7]  14%|#4         [00:00<?]"
      ]
     },
     "metadata": {},
     "output_type": "display_data"
    },
    {
     "data": {
      "application/vnd.jupyter.widget-view+json": {
       "model_id": "1671e14b5382453b99c923979c2b75e0",
       "version_major": 2,
       "version_minor": 0
      },
      "text/plain": [
       "[1/7]  14%|#4         [00:00<?]"
      ]
     },
     "metadata": {},
     "output_type": "display_data"
    },
    {
     "data": {
      "application/vnd.jupyter.widget-view+json": {
       "model_id": "78fe5eb01c8e40aba29e550c3a0b98c4",
       "version_major": 2,
       "version_minor": 0
      },
      "text/plain": [
       "[1/7]  14%|#4         [00:00<?]"
      ]
     },
     "metadata": {},
     "output_type": "display_data"
    },
    {
     "data": {
      "application/vnd.jupyter.widget-view+json": {
       "model_id": "15b7f62ec05f4769ac1e5f16fa03ff91",
       "version_major": 2,
       "version_minor": 0
      },
      "text/plain": [
       "[1/7]  14%|#4         [00:00<?]"
      ]
     },
     "metadata": {},
     "output_type": "display_data"
    },
    {
     "data": {
      "application/vnd.jupyter.widget-view+json": {
       "model_id": "36a1368d4af6439eb4c89925c5d173c0",
       "version_major": 2,
       "version_minor": 0
      },
      "text/plain": [
       "[1/7]  14%|#4         [00:00<?]"
      ]
     },
     "metadata": {},
     "output_type": "display_data"
    },
    {
     "data": {
      "application/vnd.jupyter.widget-view+json": {
       "model_id": "aac5f171ee6c40638242de94da56c7c0",
       "version_major": 2,
       "version_minor": 0
      },
      "text/plain": [
       "[1/7]  14%|#4         [00:00<?]"
      ]
     },
     "metadata": {},
     "output_type": "display_data"
    },
    {
     "data": {
      "application/vnd.jupyter.widget-view+json": {
       "model_id": "1ba91aff7c064c31bcaa7891bc5b15f3",
       "version_major": 2,
       "version_minor": 0
      },
      "text/plain": [
       "[1/7]  14%|#4         [00:00<?]"
      ]
     },
     "metadata": {},
     "output_type": "display_data"
    },
    {
     "data": {
      "application/vnd.jupyter.widget-view+json": {
       "model_id": "a0173ae45d934e84aa20e66c6dd84da6",
       "version_major": 2,
       "version_minor": 0
      },
      "text/plain": [
       "[1/7]  14%|#4         [00:00<?]"
      ]
     },
     "metadata": {},
     "output_type": "display_data"
    },
    {
     "data": {
      "application/vnd.jupyter.widget-view+json": {
       "model_id": "5b0932aef80244478d6a5e8b88c9d542",
       "version_major": 2,
       "version_minor": 0
      },
      "text/plain": [
       "[1/7]  14%|#4         [00:00<?]"
      ]
     },
     "metadata": {},
     "output_type": "display_data"
    },
    {
     "data": {
      "application/vnd.jupyter.widget-view+json": {
       "model_id": "a5abb3317a4147a59f5dd3b9b412eaf8",
       "version_major": 2,
       "version_minor": 0
      },
      "text/plain": [
       "[1/7]  14%|#4         [00:00<?]"
      ]
     },
     "metadata": {},
     "output_type": "display_data"
    },
    {
     "data": {
      "application/vnd.jupyter.widget-view+json": {
       "model_id": "d9acf7690e004453a016db6c71773fa0",
       "version_major": 2,
       "version_minor": 0
      },
      "text/plain": [
       "[1/7]  14%|#4         [00:00<?]"
      ]
     },
     "metadata": {},
     "output_type": "display_data"
    },
    {
     "name": "stdout",
     "output_type": "stream",
     "text": [
      "Results - Epoch: 360 - Test Likelihood: 1.12 - Loss: 1.16\n"
     ]
    },
    {
     "data": {
      "application/vnd.jupyter.widget-view+json": {
       "model_id": "7d5d2de18c27485292ce92f414903b88",
       "version_major": 2,
       "version_minor": 0
      },
      "text/plain": [
       "[1/7]  14%|#4         [00:00<?]"
      ]
     },
     "metadata": {},
     "output_type": "display_data"
    },
    {
     "data": {
      "application/vnd.jupyter.widget-view+json": {
       "model_id": "a49dfde760da4e238a8ef8191eea5ad9",
       "version_major": 2,
       "version_minor": 0
      },
      "text/plain": [
       "[1/7]  14%|#4         [00:00<?]"
      ]
     },
     "metadata": {},
     "output_type": "display_data"
    },
    {
     "data": {
      "application/vnd.jupyter.widget-view+json": {
       "model_id": "d1f804931e3147ac90743e8941d0b52e",
       "version_major": 2,
       "version_minor": 0
      },
      "text/plain": [
       "[1/7]  14%|#4         [00:00<?]"
      ]
     },
     "metadata": {},
     "output_type": "display_data"
    },
    {
     "data": {
      "application/vnd.jupyter.widget-view+json": {
       "model_id": "3a8132a0ffd14e928ffddb2b86e5c1ee",
       "version_major": 2,
       "version_minor": 0
      },
      "text/plain": [
       "[1/7]  14%|#4         [00:00<?]"
      ]
     },
     "metadata": {},
     "output_type": "display_data"
    },
    {
     "data": {
      "application/vnd.jupyter.widget-view+json": {
       "model_id": "1ae0c762e62e49a69a7313a5aaa65d8f",
       "version_major": 2,
       "version_minor": 0
      },
      "text/plain": [
       "[1/7]  14%|#4         [00:00<?]"
      ]
     },
     "metadata": {},
     "output_type": "display_data"
    },
    {
     "data": {
      "application/vnd.jupyter.widget-view+json": {
       "model_id": "9051d92ad11c4399996f25e1244e475a",
       "version_major": 2,
       "version_minor": 0
      },
      "text/plain": [
       "[1/7]  14%|#4         [00:00<?]"
      ]
     },
     "metadata": {},
     "output_type": "display_data"
    },
    {
     "data": {
      "application/vnd.jupyter.widget-view+json": {
       "model_id": "4b4a87cd2c5e4cdeac867a6d6de9fce0",
       "version_major": 2,
       "version_minor": 0
      },
      "text/plain": [
       "[1/7]  14%|#4         [00:00<?]"
      ]
     },
     "metadata": {},
     "output_type": "display_data"
    },
    {
     "data": {
      "application/vnd.jupyter.widget-view+json": {
       "model_id": "c6b96c15db99497e821e3afe7a4819e1",
       "version_major": 2,
       "version_minor": 0
      },
      "text/plain": [
       "[1/7]  14%|#4         [00:00<?]"
      ]
     },
     "metadata": {},
     "output_type": "display_data"
    },
    {
     "data": {
      "application/vnd.jupyter.widget-view+json": {
       "model_id": "b8938004e2314534adb603957a896545",
       "version_major": 2,
       "version_minor": 0
      },
      "text/plain": [
       "[1/7]  14%|#4         [00:00<?]"
      ]
     },
     "metadata": {},
     "output_type": "display_data"
    },
    {
     "data": {
      "application/vnd.jupyter.widget-view+json": {
       "model_id": "e91616490d554cc79428d3d5f9f3ebf4",
       "version_major": 2,
       "version_minor": 0
      },
      "text/plain": [
       "[1/7]  14%|#4         [00:00<?]"
      ]
     },
     "metadata": {},
     "output_type": "display_data"
    },
    {
     "data": {
      "application/vnd.jupyter.widget-view+json": {
       "model_id": "37f145449f464a70ac105897cf206e85",
       "version_major": 2,
       "version_minor": 0
      },
      "text/plain": [
       "[1/7]  14%|#4         [00:00<?]"
      ]
     },
     "metadata": {},
     "output_type": "display_data"
    },
    {
     "data": {
      "application/vnd.jupyter.widget-view+json": {
       "model_id": "3a388a868fc649bd8974c72a772a0d91",
       "version_major": 2,
       "version_minor": 0
      },
      "text/plain": [
       "[1/7]  14%|#4         [00:00<?]"
      ]
     },
     "metadata": {},
     "output_type": "display_data"
    },
    {
     "data": {
      "application/vnd.jupyter.widget-view+json": {
       "model_id": "6b287867fd1b497badeb4e2de110470b",
       "version_major": 2,
       "version_minor": 0
      },
      "text/plain": [
       "[1/7]  14%|#4         [00:00<?]"
      ]
     },
     "metadata": {},
     "output_type": "display_data"
    },
    {
     "data": {
      "application/vnd.jupyter.widget-view+json": {
       "model_id": "b36de2ba8ad44491ba3f9167351720ae",
       "version_major": 2,
       "version_minor": 0
      },
      "text/plain": [
       "[1/7]  14%|#4         [00:00<?]"
      ]
     },
     "metadata": {},
     "output_type": "display_data"
    },
    {
     "data": {
      "application/vnd.jupyter.widget-view+json": {
       "model_id": "661661466ee149a58587f5220c3174cc",
       "version_major": 2,
       "version_minor": 0
      },
      "text/plain": [
       "[1/7]  14%|#4         [00:00<?]"
      ]
     },
     "metadata": {},
     "output_type": "display_data"
    },
    {
     "data": {
      "application/vnd.jupyter.widget-view+json": {
       "model_id": "e310354f55d444af99e0ba6904018f2b",
       "version_major": 2,
       "version_minor": 0
      },
      "text/plain": [
       "[1/7]  14%|#4         [00:00<?]"
      ]
     },
     "metadata": {},
     "output_type": "display_data"
    },
    {
     "data": {
      "application/vnd.jupyter.widget-view+json": {
       "model_id": "71b1237ed10b477db9fee0599013d87f",
       "version_major": 2,
       "version_minor": 0
      },
      "text/plain": [
       "[1/7]  14%|#4         [00:00<?]"
      ]
     },
     "metadata": {},
     "output_type": "display_data"
    },
    {
     "data": {
      "application/vnd.jupyter.widget-view+json": {
       "model_id": "6cbf1926f8dc4371b0e7689dbecee84a",
       "version_major": 2,
       "version_minor": 0
      },
      "text/plain": [
       "[1/7]  14%|#4         [00:00<?]"
      ]
     },
     "metadata": {},
     "output_type": "display_data"
    },
    {
     "data": {
      "application/vnd.jupyter.widget-view+json": {
       "model_id": "1d82ea17cf57435e987463c4de539425",
       "version_major": 2,
       "version_minor": 0
      },
      "text/plain": [
       "[1/7]  14%|#4         [00:00<?]"
      ]
     },
     "metadata": {},
     "output_type": "display_data"
    },
    {
     "data": {
      "application/vnd.jupyter.widget-view+json": {
       "model_id": "75c5e97fd14346139ba4119a0fa837c0",
       "version_major": 2,
       "version_minor": 0
      },
      "text/plain": [
       "[1/7]  14%|#4         [00:00<?]"
      ]
     },
     "metadata": {},
     "output_type": "display_data"
    },
    {
     "data": {
      "application/vnd.jupyter.widget-view+json": {
       "model_id": "f4f3bb73118c483394ab00f9a2ce640e",
       "version_major": 2,
       "version_minor": 0
      },
      "text/plain": [
       "[1/7]  14%|#4         [00:00<?]"
      ]
     },
     "metadata": {},
     "output_type": "display_data"
    },
    {
     "data": {
      "application/vnd.jupyter.widget-view+json": {
       "model_id": "8d473e91dc184133a0dbeb8628b3eacb",
       "version_major": 2,
       "version_minor": 0
      },
      "text/plain": [
       "[1/7]  14%|#4         [00:00<?]"
      ]
     },
     "metadata": {},
     "output_type": "display_data"
    },
    {
     "data": {
      "application/vnd.jupyter.widget-view+json": {
       "model_id": "92d09ac678674b2c97b0e4d12abfd589",
       "version_major": 2,
       "version_minor": 0
      },
      "text/plain": [
       "[1/7]  14%|#4         [00:00<?]"
      ]
     },
     "metadata": {},
     "output_type": "display_data"
    },
    {
     "data": {
      "application/vnd.jupyter.widget-view+json": {
       "model_id": "501c9a1d947f47189424056f03b5527d",
       "version_major": 2,
       "version_minor": 0
      },
      "text/plain": [
       "[1/7]  14%|#4         [00:00<?]"
      ]
     },
     "metadata": {},
     "output_type": "display_data"
    },
    {
     "data": {
      "application/vnd.jupyter.widget-view+json": {
       "model_id": "ff12a1bb405e46fe9a9b74039b31f63f",
       "version_major": 2,
       "version_minor": 0
      },
      "text/plain": [
       "[1/7]  14%|#4         [00:00<?]"
      ]
     },
     "metadata": {},
     "output_type": "display_data"
    },
    {
     "data": {
      "application/vnd.jupyter.widget-view+json": {
       "model_id": "07652c0b19c04d26a05d22ee9ad7cb1c",
       "version_major": 2,
       "version_minor": 0
      },
      "text/plain": [
       "[1/7]  14%|#4         [00:00<?]"
      ]
     },
     "metadata": {},
     "output_type": "display_data"
    },
    {
     "data": {
      "application/vnd.jupyter.widget-view+json": {
       "model_id": "f8ac9b7d40604aafad4a21f9300fc8d7",
       "version_major": 2,
       "version_minor": 0
      },
      "text/plain": [
       "[1/7]  14%|#4         [00:00<?]"
      ]
     },
     "metadata": {},
     "output_type": "display_data"
    },
    {
     "data": {
      "application/vnd.jupyter.widget-view+json": {
       "model_id": "1085caec0bad4f9692d7946c9982956b",
       "version_major": 2,
       "version_minor": 0
      },
      "text/plain": [
       "[1/7]  14%|#4         [00:00<?]"
      ]
     },
     "metadata": {},
     "output_type": "display_data"
    },
    {
     "data": {
      "application/vnd.jupyter.widget-view+json": {
       "model_id": "235db04387ad4816b0486cf6f1e339bc",
       "version_major": 2,
       "version_minor": 0
      },
      "text/plain": [
       "[1/7]  14%|#4         [00:00<?]"
      ]
     },
     "metadata": {},
     "output_type": "display_data"
    },
    {
     "data": {
      "application/vnd.jupyter.widget-view+json": {
       "model_id": "7eef8d3e22eb4fe9a2b2a0f8f290c67c",
       "version_major": 2,
       "version_minor": 0
      },
      "text/plain": [
       "[1/7]  14%|#4         [00:00<?]"
      ]
     },
     "metadata": {},
     "output_type": "display_data"
    },
    {
     "data": {
      "application/vnd.jupyter.widget-view+json": {
       "model_id": "2c144e7a519b45b1947507131161cb38",
       "version_major": 2,
       "version_minor": 0
      },
      "text/plain": [
       "[1/7]  14%|#4         [00:00<?]"
      ]
     },
     "metadata": {},
     "output_type": "display_data"
    },
    {
     "data": {
      "application/vnd.jupyter.widget-view+json": {
       "model_id": "593cca494a7243dc94fe373272347607",
       "version_major": 2,
       "version_minor": 0
      },
      "text/plain": [
       "[1/7]  14%|#4         [00:00<?]"
      ]
     },
     "metadata": {},
     "output_type": "display_data"
    },
    {
     "data": {
      "application/vnd.jupyter.widget-view+json": {
       "model_id": "4b3650e7ccbc4f85a744b2590a7a67d0",
       "version_major": 2,
       "version_minor": 0
      },
      "text/plain": [
       "[1/7]  14%|#4         [00:00<?]"
      ]
     },
     "metadata": {},
     "output_type": "display_data"
    },
    {
     "data": {
      "application/vnd.jupyter.widget-view+json": {
       "model_id": "f3abf686be8d44a7b516f98b5a8855df",
       "version_major": 2,
       "version_minor": 0
      },
      "text/plain": [
       "[1/7]  14%|#4         [00:00<?]"
      ]
     },
     "metadata": {},
     "output_type": "display_data"
    },
    {
     "data": {
      "application/vnd.jupyter.widget-view+json": {
       "model_id": "28fae7e166a7458d846a4420d3c354d6",
       "version_major": 2,
       "version_minor": 0
      },
      "text/plain": [
       "[1/7]  14%|#4         [00:00<?]"
      ]
     },
     "metadata": {},
     "output_type": "display_data"
    },
    {
     "data": {
      "application/vnd.jupyter.widget-view+json": {
       "model_id": "ee0fe40e410545afb39b145df71e70cf",
       "version_major": 2,
       "version_minor": 0
      },
      "text/plain": [
       "[1/7]  14%|#4         [00:00<?]"
      ]
     },
     "metadata": {},
     "output_type": "display_data"
    },
    {
     "data": {
      "application/vnd.jupyter.widget-view+json": {
       "model_id": "4a3297b92a074a0aa0ecc02e8ecd2849",
       "version_major": 2,
       "version_minor": 0
      },
      "text/plain": [
       "[1/7]  14%|#4         [00:00<?]"
      ]
     },
     "metadata": {},
     "output_type": "display_data"
    },
    {
     "data": {
      "application/vnd.jupyter.widget-view+json": {
       "model_id": "a7b842df6c724ac295df90df37a5649f",
       "version_major": 2,
       "version_minor": 0
      },
      "text/plain": [
       "[1/7]  14%|#4         [00:00<?]"
      ]
     },
     "metadata": {},
     "output_type": "display_data"
    },
    {
     "data": {
      "application/vnd.jupyter.widget-view+json": {
       "model_id": "9e51c4bc66cf497e8ab99c0f482c1074",
       "version_major": 2,
       "version_minor": 0
      },
      "text/plain": [
       "[1/7]  14%|#4         [00:00<?]"
      ]
     },
     "metadata": {},
     "output_type": "display_data"
    },
    {
     "data": {
      "application/vnd.jupyter.widget-view+json": {
       "model_id": "2861e36ebd334efe81751cb1a1af38cf",
       "version_major": 2,
       "version_minor": 0
      },
      "text/plain": [
       "[1/7]  14%|#4         [00:00<?]"
      ]
     },
     "metadata": {},
     "output_type": "display_data"
    },
    {
     "data": {
      "application/vnd.jupyter.widget-view+json": {
       "model_id": "780a2ab276f34b35ac0c367a5bb2a34e",
       "version_major": 2,
       "version_minor": 0
      },
      "text/plain": [
       "[1/7]  14%|#4         [00:00<?]"
      ]
     },
     "metadata": {},
     "output_type": "display_data"
    },
    {
     "data": {
      "application/vnd.jupyter.widget-view+json": {
       "model_id": "da17f407f495441ea4a2c8d6daadde27",
       "version_major": 2,
       "version_minor": 0
      },
      "text/plain": [
       "[1/7]  14%|#4         [00:00<?]"
      ]
     },
     "metadata": {},
     "output_type": "display_data"
    },
    {
     "data": {
      "application/vnd.jupyter.widget-view+json": {
       "model_id": "84ad9fb7f2c24a4eaacfe5ba7eb6fdaf",
       "version_major": 2,
       "version_minor": 0
      },
      "text/plain": [
       "[1/7]  14%|#4         [00:00<?]"
      ]
     },
     "metadata": {},
     "output_type": "display_data"
    },
    {
     "data": {
      "application/vnd.jupyter.widget-view+json": {
       "model_id": "8ddbed53f64c4e168b94a36991c2bf62",
       "version_major": 2,
       "version_minor": 0
      },
      "text/plain": [
       "[1/7]  14%|#4         [00:00<?]"
      ]
     },
     "metadata": {},
     "output_type": "display_data"
    },
    {
     "data": {
      "application/vnd.jupyter.widget-view+json": {
       "model_id": "3d6eafabf83e4bfa88c4bddaa7339f62",
       "version_major": 2,
       "version_minor": 0
      },
      "text/plain": [
       "[1/7]  14%|#4         [00:00<?]"
      ]
     },
     "metadata": {},
     "output_type": "display_data"
    },
    {
     "data": {
      "application/vnd.jupyter.widget-view+json": {
       "model_id": "1e72f9fb554645439261d06fadacd21e",
       "version_major": 2,
       "version_minor": 0
      },
      "text/plain": [
       "[1/7]  14%|#4         [00:00<?]"
      ]
     },
     "metadata": {},
     "output_type": "display_data"
    },
    {
     "data": {
      "application/vnd.jupyter.widget-view+json": {
       "model_id": "ae66a5351b634bc8bc84d5722f2e48b6",
       "version_major": 2,
       "version_minor": 0
      },
      "text/plain": [
       "[1/7]  14%|#4         [00:00<?]"
      ]
     },
     "metadata": {},
     "output_type": "display_data"
    },
    {
     "data": {
      "application/vnd.jupyter.widget-view+json": {
       "model_id": "38431393f287411abb088a9649ce6b4b",
       "version_major": 2,
       "version_minor": 0
      },
      "text/plain": [
       "[1/7]  14%|#4         [00:00<?]"
      ]
     },
     "metadata": {},
     "output_type": "display_data"
    },
    {
     "data": {
      "application/vnd.jupyter.widget-view+json": {
       "model_id": "ac7e90b6c66a4ddbbd53dd97b7e8db79",
       "version_major": 2,
       "version_minor": 0
      },
      "text/plain": [
       "[1/7]  14%|#4         [00:00<?]"
      ]
     },
     "metadata": {},
     "output_type": "display_data"
    },
    {
     "data": {
      "application/vnd.jupyter.widget-view+json": {
       "model_id": "2847b32a96fc4205a5cda314db8d3274",
       "version_major": 2,
       "version_minor": 0
      },
      "text/plain": [
       "[1/7]  14%|#4         [00:00<?]"
      ]
     },
     "metadata": {},
     "output_type": "display_data"
    },
    {
     "data": {
      "application/vnd.jupyter.widget-view+json": {
       "model_id": "8a707766582d4af68518ef15d405f006",
       "version_major": 2,
       "version_minor": 0
      },
      "text/plain": [
       "[1/7]  14%|#4         [00:00<?]"
      ]
     },
     "metadata": {},
     "output_type": "display_data"
    },
    {
     "data": {
      "application/vnd.jupyter.widget-view+json": {
       "model_id": "3c380892c63441f393f7d477201d4fbb",
       "version_major": 2,
       "version_minor": 0
      },
      "text/plain": [
       "[1/7]  14%|#4         [00:00<?]"
      ]
     },
     "metadata": {},
     "output_type": "display_data"
    },
    {
     "data": {
      "application/vnd.jupyter.widget-view+json": {
       "model_id": "7e7b4c39a8ba4046b62cc4f9d1540552",
       "version_major": 2,
       "version_minor": 0
      },
      "text/plain": [
       "[1/7]  14%|#4         [00:00<?]"
      ]
     },
     "metadata": {},
     "output_type": "display_data"
    },
    {
     "data": {
      "application/vnd.jupyter.widget-view+json": {
       "model_id": "4c3e198e4d114a29b3f39ca75087bf2c",
       "version_major": 2,
       "version_minor": 0
      },
      "text/plain": [
       "[1/7]  14%|#4         [00:00<?]"
      ]
     },
     "metadata": {},
     "output_type": "display_data"
    },
    {
     "data": {
      "application/vnd.jupyter.widget-view+json": {
       "model_id": "92967f3fd32a4c85a12da2257269ec17",
       "version_major": 2,
       "version_minor": 0
      },
      "text/plain": [
       "[1/7]  14%|#4         [00:00<?]"
      ]
     },
     "metadata": {},
     "output_type": "display_data"
    },
    {
     "data": {
      "application/vnd.jupyter.widget-view+json": {
       "model_id": "2aa9297078b44faaab2f646dd5c6abf8",
       "version_major": 2,
       "version_minor": 0
      },
      "text/plain": [
       "[1/7]  14%|#4         [00:00<?]"
      ]
     },
     "metadata": {},
     "output_type": "display_data"
    },
    {
     "data": {
      "application/vnd.jupyter.widget-view+json": {
       "model_id": "21e5ba9cee664a8a9f8655acb95ee639",
       "version_major": 2,
       "version_minor": 0
      },
      "text/plain": [
       "[1/7]  14%|#4         [00:00<?]"
      ]
     },
     "metadata": {},
     "output_type": "display_data"
    },
    {
     "data": {
      "application/vnd.jupyter.widget-view+json": {
       "model_id": "fbafedb4533f49549cb2720c5a60dbd5",
       "version_major": 2,
       "version_minor": 0
      },
      "text/plain": [
       "[1/7]  14%|#4         [00:00<?]"
      ]
     },
     "metadata": {},
     "output_type": "display_data"
    },
    {
     "data": {
      "application/vnd.jupyter.widget-view+json": {
       "model_id": "e803977a860d4f009ef0751ad19a63d7",
       "version_major": 2,
       "version_minor": 0
      },
      "text/plain": [
       "[1/7]  14%|#4         [00:00<?]"
      ]
     },
     "metadata": {},
     "output_type": "display_data"
    },
    {
     "data": {
      "application/vnd.jupyter.widget-view+json": {
       "model_id": "b93cfa8a51cd4c769a798450e7c30446",
       "version_major": 2,
       "version_minor": 0
      },
      "text/plain": [
       "[1/7]  14%|#4         [00:00<?]"
      ]
     },
     "metadata": {},
     "output_type": "display_data"
    },
    {
     "data": {
      "application/vnd.jupyter.widget-view+json": {
       "model_id": "2ed4fc00e25b4c979b854bc6ae7be2cb",
       "version_major": 2,
       "version_minor": 0
      },
      "text/plain": [
       "[1/7]  14%|#4         [00:00<?]"
      ]
     },
     "metadata": {},
     "output_type": "display_data"
    },
    {
     "data": {
      "application/vnd.jupyter.widget-view+json": {
       "model_id": "ad35d1efc17e4d00803f498b2d67beb1",
       "version_major": 2,
       "version_minor": 0
      },
      "text/plain": [
       "[1/7]  14%|#4         [00:00<?]"
      ]
     },
     "metadata": {},
     "output_type": "display_data"
    },
    {
     "data": {
      "application/vnd.jupyter.widget-view+json": {
       "model_id": "687372dbc0ae473cbd8b978d73c47e02",
       "version_major": 2,
       "version_minor": 0
      },
      "text/plain": [
       "[1/7]  14%|#4         [00:00<?]"
      ]
     },
     "metadata": {},
     "output_type": "display_data"
    },
    {
     "data": {
      "application/vnd.jupyter.widget-view+json": {
       "model_id": "aac409fe5c334986b6048f8d30a435ce",
       "version_major": 2,
       "version_minor": 0
      },
      "text/plain": [
       "[1/7]  14%|#4         [00:00<?]"
      ]
     },
     "metadata": {},
     "output_type": "display_data"
    },
    {
     "data": {
      "application/vnd.jupyter.widget-view+json": {
       "model_id": "3ba6259a78a94432bc1200588adc2c6d",
       "version_major": 2,
       "version_minor": 0
      },
      "text/plain": [
       "[1/7]  14%|#4         [00:00<?]"
      ]
     },
     "metadata": {},
     "output_type": "display_data"
    },
    {
     "data": {
      "application/vnd.jupyter.widget-view+json": {
       "model_id": "c2eed9de7eb54be1a5ae51da88e6ec00",
       "version_major": 2,
       "version_minor": 0
      },
      "text/plain": [
       "[1/7]  14%|#4         [00:00<?]"
      ]
     },
     "metadata": {},
     "output_type": "display_data"
    },
    {
     "data": {
      "application/vnd.jupyter.widget-view+json": {
       "model_id": "7cc12d9995e6498992bd8228e13a044f",
       "version_major": 2,
       "version_minor": 0
      },
      "text/plain": [
       "[1/7]  14%|#4         [00:00<?]"
      ]
     },
     "metadata": {},
     "output_type": "display_data"
    },
    {
     "data": {
      "application/vnd.jupyter.widget-view+json": {
       "model_id": "81a7784b1eab433fbec52ca159dabb89",
       "version_major": 2,
       "version_minor": 0
      },
      "text/plain": [
       "[1/7]  14%|#4         [00:00<?]"
      ]
     },
     "metadata": {},
     "output_type": "display_data"
    },
    {
     "data": {
      "application/vnd.jupyter.widget-view+json": {
       "model_id": "646b5f716a674f7596c8334b39018376",
       "version_major": 2,
       "version_minor": 0
      },
      "text/plain": [
       "[1/7]  14%|#4         [00:00<?]"
      ]
     },
     "metadata": {},
     "output_type": "display_data"
    },
    {
     "data": {
      "application/vnd.jupyter.widget-view+json": {
       "model_id": "8c60c378ba8c47c0bce81e3c78393a92",
       "version_major": 2,
       "version_minor": 0
      },
      "text/plain": [
       "[1/7]  14%|#4         [00:00<?]"
      ]
     },
     "metadata": {},
     "output_type": "display_data"
    },
    {
     "data": {
      "application/vnd.jupyter.widget-view+json": {
       "model_id": "78253f5dbf794be8bbcdb01cbe3ebc26",
       "version_major": 2,
       "version_minor": 0
      },
      "text/plain": [
       "[1/7]  14%|#4         [00:00<?]"
      ]
     },
     "metadata": {},
     "output_type": "display_data"
    },
    {
     "data": {
      "application/vnd.jupyter.widget-view+json": {
       "model_id": "396615907a754ee89d0c0fed727dac3d",
       "version_major": 2,
       "version_minor": 0
      },
      "text/plain": [
       "[1/7]  14%|#4         [00:00<?]"
      ]
     },
     "metadata": {},
     "output_type": "display_data"
    },
    {
     "name": "stdout",
     "output_type": "stream",
     "text": [
      "Results - Epoch: 432 - Test Likelihood: 1.03 - Loss: 1.08\n"
     ]
    },
    {
     "data": {
      "application/vnd.jupyter.widget-view+json": {
       "model_id": "65d4c6f0641049bbadfc64f837af3223",
       "version_major": 2,
       "version_minor": 0
      },
      "text/plain": [
       "[1/7]  14%|#4         [00:00<?]"
      ]
     },
     "metadata": {},
     "output_type": "display_data"
    },
    {
     "data": {
      "application/vnd.jupyter.widget-view+json": {
       "model_id": "8f86b3fb04ec499da30756943e17a5d2",
       "version_major": 2,
       "version_minor": 0
      },
      "text/plain": [
       "[1/7]  14%|#4         [00:00<?]"
      ]
     },
     "metadata": {},
     "output_type": "display_data"
    },
    {
     "data": {
      "application/vnd.jupyter.widget-view+json": {
       "model_id": "04de525dffb84cb7bd5519dbc95ee096",
       "version_major": 2,
       "version_minor": 0
      },
      "text/plain": [
       "[1/7]  14%|#4         [00:00<?]"
      ]
     },
     "metadata": {},
     "output_type": "display_data"
    },
    {
     "data": {
      "application/vnd.jupyter.widget-view+json": {
       "model_id": "07dea757e1464ee2b0260052482de968",
       "version_major": 2,
       "version_minor": 0
      },
      "text/plain": [
       "[1/7]  14%|#4         [00:00<?]"
      ]
     },
     "metadata": {},
     "output_type": "display_data"
    },
    {
     "data": {
      "application/vnd.jupyter.widget-view+json": {
       "model_id": "26ae835db3b84a6fa934e04aeaad4d10",
       "version_major": 2,
       "version_minor": 0
      },
      "text/plain": [
       "[1/7]  14%|#4         [00:00<?]"
      ]
     },
     "metadata": {},
     "output_type": "display_data"
    },
    {
     "data": {
      "application/vnd.jupyter.widget-view+json": {
       "model_id": "2dbaf1a15add45739db799fa2fcc56ba",
       "version_major": 2,
       "version_minor": 0
      },
      "text/plain": [
       "[1/7]  14%|#4         [00:00<?]"
      ]
     },
     "metadata": {},
     "output_type": "display_data"
    },
    {
     "data": {
      "application/vnd.jupyter.widget-view+json": {
       "model_id": "203ad553b1c94d92a5d04579c87af79f",
       "version_major": 2,
       "version_minor": 0
      },
      "text/plain": [
       "[1/7]  14%|#4         [00:00<?]"
      ]
     },
     "metadata": {},
     "output_type": "display_data"
    },
    {
     "data": {
      "application/vnd.jupyter.widget-view+json": {
       "model_id": "43835eb5b05440a486c3502d3ebf7fe2",
       "version_major": 2,
       "version_minor": 0
      },
      "text/plain": [
       "[1/7]  14%|#4         [00:00<?]"
      ]
     },
     "metadata": {},
     "output_type": "display_data"
    },
    {
     "data": {
      "application/vnd.jupyter.widget-view+json": {
       "model_id": "78889f049a294fa3b6d670e569ec1d07",
       "version_major": 2,
       "version_minor": 0
      },
      "text/plain": [
       "[1/7]  14%|#4         [00:00<?]"
      ]
     },
     "metadata": {},
     "output_type": "display_data"
    },
    {
     "data": {
      "application/vnd.jupyter.widget-view+json": {
       "model_id": "df74d05679d1480595d6fa94d3acc7e9",
       "version_major": 2,
       "version_minor": 0
      },
      "text/plain": [
       "[1/7]  14%|#4         [00:00<?]"
      ]
     },
     "metadata": {},
     "output_type": "display_data"
    },
    {
     "data": {
      "application/vnd.jupyter.widget-view+json": {
       "model_id": "5455bd204dbb4077a88ba6b7ed2e709d",
       "version_major": 2,
       "version_minor": 0
      },
      "text/plain": [
       "[1/7]  14%|#4         [00:00<?]"
      ]
     },
     "metadata": {},
     "output_type": "display_data"
    },
    {
     "data": {
      "application/vnd.jupyter.widget-view+json": {
       "model_id": "44cc8975d9a84389af9ed56c0aa928c3",
       "version_major": 2,
       "version_minor": 0
      },
      "text/plain": [
       "[1/7]  14%|#4         [00:00<?]"
      ]
     },
     "metadata": {},
     "output_type": "display_data"
    },
    {
     "data": {
      "application/vnd.jupyter.widget-view+json": {
       "model_id": "54b7e774f8424df685b2023c0cee93f9",
       "version_major": 2,
       "version_minor": 0
      },
      "text/plain": [
       "[1/7]  14%|#4         [00:00<?]"
      ]
     },
     "metadata": {},
     "output_type": "display_data"
    },
    {
     "data": {
      "application/vnd.jupyter.widget-view+json": {
       "model_id": "e03b0f0ccd5d4666ab169b1a768359d3",
       "version_major": 2,
       "version_minor": 0
      },
      "text/plain": [
       "[1/7]  14%|#4         [00:00<?]"
      ]
     },
     "metadata": {},
     "output_type": "display_data"
    },
    {
     "data": {
      "application/vnd.jupyter.widget-view+json": {
       "model_id": "984b2b4adfbf4e35b16f80b32bd1d47c",
       "version_major": 2,
       "version_minor": 0
      },
      "text/plain": [
       "[1/7]  14%|#4         [00:00<?]"
      ]
     },
     "metadata": {},
     "output_type": "display_data"
    },
    {
     "data": {
      "application/vnd.jupyter.widget-view+json": {
       "model_id": "43b7624c350f470bbff1ebe5658b7f1d",
       "version_major": 2,
       "version_minor": 0
      },
      "text/plain": [
       "[1/7]  14%|#4         [00:00<?]"
      ]
     },
     "metadata": {},
     "output_type": "display_data"
    },
    {
     "data": {
      "application/vnd.jupyter.widget-view+json": {
       "model_id": "176ceb49b1af4e66b55d301327cdcfe9",
       "version_major": 2,
       "version_minor": 0
      },
      "text/plain": [
       "[1/7]  14%|#4         [00:00<?]"
      ]
     },
     "metadata": {},
     "output_type": "display_data"
    },
    {
     "data": {
      "application/vnd.jupyter.widget-view+json": {
       "model_id": "cd1d9e4c4e184e24b87100f35682955d",
       "version_major": 2,
       "version_minor": 0
      },
      "text/plain": [
       "[1/7]  14%|#4         [00:00<?]"
      ]
     },
     "metadata": {},
     "output_type": "display_data"
    },
    {
     "data": {
      "application/vnd.jupyter.widget-view+json": {
       "model_id": "a7cfd540b4014753a9210fa51fae6ada",
       "version_major": 2,
       "version_minor": 0
      },
      "text/plain": [
       "[1/7]  14%|#4         [00:00<?]"
      ]
     },
     "metadata": {},
     "output_type": "display_data"
    },
    {
     "data": {
      "application/vnd.jupyter.widget-view+json": {
       "model_id": "d8ace00427044858b1030d7765a1725f",
       "version_major": 2,
       "version_minor": 0
      },
      "text/plain": [
       "[1/7]  14%|#4         [00:00<?]"
      ]
     },
     "metadata": {},
     "output_type": "display_data"
    },
    {
     "data": {
      "application/vnd.jupyter.widget-view+json": {
       "model_id": "a7f69efd2a954f25a318fc368c384bfe",
       "version_major": 2,
       "version_minor": 0
      },
      "text/plain": [
       "[1/7]  14%|#4         [00:00<?]"
      ]
     },
     "metadata": {},
     "output_type": "display_data"
    },
    {
     "data": {
      "application/vnd.jupyter.widget-view+json": {
       "model_id": "4079a39922434bd498e0b7e0fac23fbd",
       "version_major": 2,
       "version_minor": 0
      },
      "text/plain": [
       "[1/7]  14%|#4         [00:00<?]"
      ]
     },
     "metadata": {},
     "output_type": "display_data"
    },
    {
     "data": {
      "application/vnd.jupyter.widget-view+json": {
       "model_id": "11b7badbe2fe41f987ed9e2794c373f6",
       "version_major": 2,
       "version_minor": 0
      },
      "text/plain": [
       "[1/7]  14%|#4         [00:00<?]"
      ]
     },
     "metadata": {},
     "output_type": "display_data"
    },
    {
     "data": {
      "application/vnd.jupyter.widget-view+json": {
       "model_id": "14bafc243e0542a995a05fa904e25380",
       "version_major": 2,
       "version_minor": 0
      },
      "text/plain": [
       "[1/7]  14%|#4         [00:00<?]"
      ]
     },
     "metadata": {},
     "output_type": "display_data"
    },
    {
     "data": {
      "application/vnd.jupyter.widget-view+json": {
       "model_id": "12cb5e0a86c94dd5abe30150305ca289",
       "version_major": 2,
       "version_minor": 0
      },
      "text/plain": [
       "[1/7]  14%|#4         [00:00<?]"
      ]
     },
     "metadata": {},
     "output_type": "display_data"
    },
    {
     "data": {
      "application/vnd.jupyter.widget-view+json": {
       "model_id": "8d3e587770234edda735bd4652a8db99",
       "version_major": 2,
       "version_minor": 0
      },
      "text/plain": [
       "[1/7]  14%|#4         [00:00<?]"
      ]
     },
     "metadata": {},
     "output_type": "display_data"
    },
    {
     "data": {
      "application/vnd.jupyter.widget-view+json": {
       "model_id": "f39277ce9453474cbbe36ac149006952",
       "version_major": 2,
       "version_minor": 0
      },
      "text/plain": [
       "[1/7]  14%|#4         [00:00<?]"
      ]
     },
     "metadata": {},
     "output_type": "display_data"
    },
    {
     "data": {
      "application/vnd.jupyter.widget-view+json": {
       "model_id": "92b7cd0c388848f5bef65b4c0e48cc6e",
       "version_major": 2,
       "version_minor": 0
      },
      "text/plain": [
       "[1/7]  14%|#4         [00:00<?]"
      ]
     },
     "metadata": {},
     "output_type": "display_data"
    },
    {
     "data": {
      "application/vnd.jupyter.widget-view+json": {
       "model_id": "dd00efb0a4f94a17a5a24604eb8c7a01",
       "version_major": 2,
       "version_minor": 0
      },
      "text/plain": [
       "[1/7]  14%|#4         [00:00<?]"
      ]
     },
     "metadata": {},
     "output_type": "display_data"
    },
    {
     "data": {
      "application/vnd.jupyter.widget-view+json": {
       "model_id": "a31510e7504646bdac2b227f69998fdf",
       "version_major": 2,
       "version_minor": 0
      },
      "text/plain": [
       "[1/7]  14%|#4         [00:00<?]"
      ]
     },
     "metadata": {},
     "output_type": "display_data"
    },
    {
     "data": {
      "application/vnd.jupyter.widget-view+json": {
       "model_id": "c3b96080776842f4907f4720425279be",
       "version_major": 2,
       "version_minor": 0
      },
      "text/plain": [
       "[1/7]  14%|#4         [00:00<?]"
      ]
     },
     "metadata": {},
     "output_type": "display_data"
    },
    {
     "data": {
      "application/vnd.jupyter.widget-view+json": {
       "model_id": "5877c26030c342d1aa0daaec2de46e7d",
       "version_major": 2,
       "version_minor": 0
      },
      "text/plain": [
       "[1/7]  14%|#4         [00:00<?]"
      ]
     },
     "metadata": {},
     "output_type": "display_data"
    },
    {
     "data": {
      "application/vnd.jupyter.widget-view+json": {
       "model_id": "e2de1928b5cf4ecab0e1b9b71e869913",
       "version_major": 2,
       "version_minor": 0
      },
      "text/plain": [
       "[1/7]  14%|#4         [00:00<?]"
      ]
     },
     "metadata": {},
     "output_type": "display_data"
    },
    {
     "data": {
      "application/vnd.jupyter.widget-view+json": {
       "model_id": "0d2db4af5c99450884390971647491db",
       "version_major": 2,
       "version_minor": 0
      },
      "text/plain": [
       "[1/7]  14%|#4         [00:00<?]"
      ]
     },
     "metadata": {},
     "output_type": "display_data"
    },
    {
     "data": {
      "application/vnd.jupyter.widget-view+json": {
       "model_id": "fcdef878cb1f44438a50f51cd696495b",
       "version_major": 2,
       "version_minor": 0
      },
      "text/plain": [
       "[1/7]  14%|#4         [00:00<?]"
      ]
     },
     "metadata": {},
     "output_type": "display_data"
    },
    {
     "data": {
      "application/vnd.jupyter.widget-view+json": {
       "model_id": "270f6a11cdf24467ba6497e179d25763",
       "version_major": 2,
       "version_minor": 0
      },
      "text/plain": [
       "[1/7]  14%|#4         [00:00<?]"
      ]
     },
     "metadata": {},
     "output_type": "display_data"
    },
    {
     "data": {
      "application/vnd.jupyter.widget-view+json": {
       "model_id": "2f342db3819c4a3797aac978556d3f54",
       "version_major": 2,
       "version_minor": 0
      },
      "text/plain": [
       "[1/7]  14%|#4         [00:00<?]"
      ]
     },
     "metadata": {},
     "output_type": "display_data"
    },
    {
     "data": {
      "application/vnd.jupyter.widget-view+json": {
       "model_id": "82d302f8823e4953ab9be4d49a3758e1",
       "version_major": 2,
       "version_minor": 0
      },
      "text/plain": [
       "[1/7]  14%|#4         [00:00<?]"
      ]
     },
     "metadata": {},
     "output_type": "display_data"
    },
    {
     "data": {
      "application/vnd.jupyter.widget-view+json": {
       "model_id": "279d173285fb46b9b3f7096bf56f7dab",
       "version_major": 2,
       "version_minor": 0
      },
      "text/plain": [
       "[1/7]  14%|#4         [00:00<?]"
      ]
     },
     "metadata": {},
     "output_type": "display_data"
    },
    {
     "data": {
      "application/vnd.jupyter.widget-view+json": {
       "model_id": "5946e94303d041f6b1b97edb9fc5d1e3",
       "version_major": 2,
       "version_minor": 0
      },
      "text/plain": [
       "[1/7]  14%|#4         [00:00<?]"
      ]
     },
     "metadata": {},
     "output_type": "display_data"
    },
    {
     "data": {
      "application/vnd.jupyter.widget-view+json": {
       "model_id": "f6216c35990e4b78a69bef31cc6f39dc",
       "version_major": 2,
       "version_minor": 0
      },
      "text/plain": [
       "[1/7]  14%|#4         [00:00<?]"
      ]
     },
     "metadata": {},
     "output_type": "display_data"
    },
    {
     "data": {
      "application/vnd.jupyter.widget-view+json": {
       "model_id": "3596a5a47f544b6e891e66d81e4fd2a4",
       "version_major": 2,
       "version_minor": 0
      },
      "text/plain": [
       "[1/7]  14%|#4         [00:00<?]"
      ]
     },
     "metadata": {},
     "output_type": "display_data"
    },
    {
     "data": {
      "application/vnd.jupyter.widget-view+json": {
       "model_id": "796b370938e84728991ff74404df4e73",
       "version_major": 2,
       "version_minor": 0
      },
      "text/plain": [
       "[1/7]  14%|#4         [00:00<?]"
      ]
     },
     "metadata": {},
     "output_type": "display_data"
    },
    {
     "data": {
      "application/vnd.jupyter.widget-view+json": {
       "model_id": "d078822bad9141169a9e348d0b52c84a",
       "version_major": 2,
       "version_minor": 0
      },
      "text/plain": [
       "[1/7]  14%|#4         [00:00<?]"
      ]
     },
     "metadata": {},
     "output_type": "display_data"
    },
    {
     "data": {
      "application/vnd.jupyter.widget-view+json": {
       "model_id": "3f1d56b36f37453fa7f529907e136f34",
       "version_major": 2,
       "version_minor": 0
      },
      "text/plain": [
       "[1/7]  14%|#4         [00:00<?]"
      ]
     },
     "metadata": {},
     "output_type": "display_data"
    },
    {
     "data": {
      "application/vnd.jupyter.widget-view+json": {
       "model_id": "1741ab92f19b4183abc643fc7071a360",
       "version_major": 2,
       "version_minor": 0
      },
      "text/plain": [
       "[1/7]  14%|#4         [00:00<?]"
      ]
     },
     "metadata": {},
     "output_type": "display_data"
    },
    {
     "data": {
      "application/vnd.jupyter.widget-view+json": {
       "model_id": "6412df321e484b939e858eba9301f86e",
       "version_major": 2,
       "version_minor": 0
      },
      "text/plain": [
       "[1/7]  14%|#4         [00:00<?]"
      ]
     },
     "metadata": {},
     "output_type": "display_data"
    },
    {
     "data": {
      "application/vnd.jupyter.widget-view+json": {
       "model_id": "0e42c3d343b645af80a9a0c9cf2aefa0",
       "version_major": 2,
       "version_minor": 0
      },
      "text/plain": [
       "[1/7]  14%|#4         [00:00<?]"
      ]
     },
     "metadata": {},
     "output_type": "display_data"
    },
    {
     "data": {
      "application/vnd.jupyter.widget-view+json": {
       "model_id": "067e9e382f9b4cd4a97a2a49912a1f12",
       "version_major": 2,
       "version_minor": 0
      },
      "text/plain": [
       "[1/7]  14%|#4         [00:00<?]"
      ]
     },
     "metadata": {},
     "output_type": "display_data"
    },
    {
     "data": {
      "application/vnd.jupyter.widget-view+json": {
       "model_id": "04cfee182ffc4e338c2e492d1ae39968",
       "version_major": 2,
       "version_minor": 0
      },
      "text/plain": [
       "[1/7]  14%|#4         [00:00<?]"
      ]
     },
     "metadata": {},
     "output_type": "display_data"
    },
    {
     "data": {
      "application/vnd.jupyter.widget-view+json": {
       "model_id": "a15ae998d4794ae2a0f24c49de34fbc7",
       "version_major": 2,
       "version_minor": 0
      },
      "text/plain": [
       "[1/7]  14%|#4         [00:00<?]"
      ]
     },
     "metadata": {},
     "output_type": "display_data"
    },
    {
     "data": {
      "application/vnd.jupyter.widget-view+json": {
       "model_id": "c49e5637e95643a3a08f7ba1bf0a4291",
       "version_major": 2,
       "version_minor": 0
      },
      "text/plain": [
       "[1/7]  14%|#4         [00:00<?]"
      ]
     },
     "metadata": {},
     "output_type": "display_data"
    },
    {
     "data": {
      "application/vnd.jupyter.widget-view+json": {
       "model_id": "f194b9423a5043be947242d8b86c751b",
       "version_major": 2,
       "version_minor": 0
      },
      "text/plain": [
       "[1/7]  14%|#4         [00:00<?]"
      ]
     },
     "metadata": {},
     "output_type": "display_data"
    },
    {
     "data": {
      "application/vnd.jupyter.widget-view+json": {
       "model_id": "4721572bcba84ed6af3a39d4b6fe654e",
       "version_major": 2,
       "version_minor": 0
      },
      "text/plain": [
       "[1/7]  14%|#4         [00:00<?]"
      ]
     },
     "metadata": {},
     "output_type": "display_data"
    },
    {
     "data": {
      "application/vnd.jupyter.widget-view+json": {
       "model_id": "c239b0c1f7e9498da1b28b486a1f8990",
       "version_major": 2,
       "version_minor": 0
      },
      "text/plain": [
       "[1/7]  14%|#4         [00:00<?]"
      ]
     },
     "metadata": {},
     "output_type": "display_data"
    },
    {
     "data": {
      "application/vnd.jupyter.widget-view+json": {
       "model_id": "5b678e550e8449e3b94658d4cc5d39dc",
       "version_major": 2,
       "version_minor": 0
      },
      "text/plain": [
       "[1/7]  14%|#4         [00:00<?]"
      ]
     },
     "metadata": {},
     "output_type": "display_data"
    },
    {
     "data": {
      "application/vnd.jupyter.widget-view+json": {
       "model_id": "f60f6bd3e5224d44b33936f96b459aa0",
       "version_major": 2,
       "version_minor": 0
      },
      "text/plain": [
       "[1/7]  14%|#4         [00:00<?]"
      ]
     },
     "metadata": {},
     "output_type": "display_data"
    },
    {
     "data": {
      "application/vnd.jupyter.widget-view+json": {
       "model_id": "2412469d0e344718a441bb67b53bfda0",
       "version_major": 2,
       "version_minor": 0
      },
      "text/plain": [
       "[1/7]  14%|#4         [00:00<?]"
      ]
     },
     "metadata": {},
     "output_type": "display_data"
    },
    {
     "data": {
      "application/vnd.jupyter.widget-view+json": {
       "model_id": "2d250d5a625048f8b19c04eebe4664d0",
       "version_major": 2,
       "version_minor": 0
      },
      "text/plain": [
       "[1/7]  14%|#4         [00:00<?]"
      ]
     },
     "metadata": {},
     "output_type": "display_data"
    },
    {
     "data": {
      "application/vnd.jupyter.widget-view+json": {
       "model_id": "59d592dbd5e0448b8fafcba31146ea50",
       "version_major": 2,
       "version_minor": 0
      },
      "text/plain": [
       "[1/7]  14%|#4         [00:00<?]"
      ]
     },
     "metadata": {},
     "output_type": "display_data"
    },
    {
     "data": {
      "application/vnd.jupyter.widget-view+json": {
       "model_id": "2aa0984a0c2840f4a686aa2ef4ae2852",
       "version_major": 2,
       "version_minor": 0
      },
      "text/plain": [
       "[1/7]  14%|#4         [00:00<?]"
      ]
     },
     "metadata": {},
     "output_type": "display_data"
    },
    {
     "data": {
      "application/vnd.jupyter.widget-view+json": {
       "model_id": "e1bf530f3b2c4e13986c62d927cd4c72",
       "version_major": 2,
       "version_minor": 0
      },
      "text/plain": [
       "[1/7]  14%|#4         [00:00<?]"
      ]
     },
     "metadata": {},
     "output_type": "display_data"
    },
    {
     "data": {
      "application/vnd.jupyter.widget-view+json": {
       "model_id": "e360a4ddee8840cdade6bb266fc05557",
       "version_major": 2,
       "version_minor": 0
      },
      "text/plain": [
       "[1/7]  14%|#4         [00:00<?]"
      ]
     },
     "metadata": {},
     "output_type": "display_data"
    },
    {
     "data": {
      "application/vnd.jupyter.widget-view+json": {
       "model_id": "d2fca296d5e240d993dd760862f76608",
       "version_major": 2,
       "version_minor": 0
      },
      "text/plain": [
       "[1/7]  14%|#4         [00:00<?]"
      ]
     },
     "metadata": {},
     "output_type": "display_data"
    },
    {
     "data": {
      "application/vnd.jupyter.widget-view+json": {
       "model_id": "47a861f52c1d4f17bb9ea11ffc220360",
       "version_major": 2,
       "version_minor": 0
      },
      "text/plain": [
       "[1/7]  14%|#4         [00:00<?]"
      ]
     },
     "metadata": {},
     "output_type": "display_data"
    },
    {
     "data": {
      "application/vnd.jupyter.widget-view+json": {
       "model_id": "7eb5b29533f14bf0a418f5c48b3cd062",
       "version_major": 2,
       "version_minor": 0
      },
      "text/plain": [
       "[1/7]  14%|#4         [00:00<?]"
      ]
     },
     "metadata": {},
     "output_type": "display_data"
    },
    {
     "data": {
      "application/vnd.jupyter.widget-view+json": {
       "model_id": "1ec4c7c59c5649789718619baa2ef88c",
       "version_major": 2,
       "version_minor": 0
      },
      "text/plain": [
       "[1/7]  14%|#4         [00:00<?]"
      ]
     },
     "metadata": {},
     "output_type": "display_data"
    },
    {
     "data": {
      "application/vnd.jupyter.widget-view+json": {
       "model_id": "ff8f01a72cf84379997c32af8c06b12c",
       "version_major": 2,
       "version_minor": 0
      },
      "text/plain": [
       "[1/7]  14%|#4         [00:00<?]"
      ]
     },
     "metadata": {},
     "output_type": "display_data"
    },
    {
     "data": {
      "application/vnd.jupyter.widget-view+json": {
       "model_id": "e11f6506af514ef68c3aa35cd4cc8919",
       "version_major": 2,
       "version_minor": 0
      },
      "text/plain": [
       "[1/7]  14%|#4         [00:00<?]"
      ]
     },
     "metadata": {},
     "output_type": "display_data"
    },
    {
     "data": {
      "application/vnd.jupyter.widget-view+json": {
       "model_id": "3af3a58db7dc46be9cd642ca6a9dad44",
       "version_major": 2,
       "version_minor": 0
      },
      "text/plain": [
       "[1/7]  14%|#4         [00:00<?]"
      ]
     },
     "metadata": {},
     "output_type": "display_data"
    },
    {
     "data": {
      "application/vnd.jupyter.widget-view+json": {
       "model_id": "b30dc71fad33497eb099fac76becf9db",
       "version_major": 2,
       "version_minor": 0
      },
      "text/plain": [
       "[1/7]  14%|#4         [00:00<?]"
      ]
     },
     "metadata": {},
     "output_type": "display_data"
    },
    {
     "data": {
      "application/vnd.jupyter.widget-view+json": {
       "model_id": "80d5b371da65474db6f181277dddb682",
       "version_major": 2,
       "version_minor": 0
      },
      "text/plain": [
       "[1/7]  14%|#4         [00:00<?]"
      ]
     },
     "metadata": {},
     "output_type": "display_data"
    },
    {
     "name": "stdout",
     "output_type": "stream",
     "text": [
      "Results - Epoch: 504 - Test Likelihood: 0.93 - Loss: 0.99\n"
     ]
    },
    {
     "data": {
      "application/vnd.jupyter.widget-view+json": {
       "model_id": "0242b4128afb4d6da1639c28e1f9d3ad",
       "version_major": 2,
       "version_minor": 0
      },
      "text/plain": [
       "[1/7]  14%|#4         [00:00<?]"
      ]
     },
     "metadata": {},
     "output_type": "display_data"
    },
    {
     "data": {
      "application/vnd.jupyter.widget-view+json": {
       "model_id": "1227055dec744d0b964fec92a291c77a",
       "version_major": 2,
       "version_minor": 0
      },
      "text/plain": [
       "[1/7]  14%|#4         [00:00<?]"
      ]
     },
     "metadata": {},
     "output_type": "display_data"
    },
    {
     "data": {
      "application/vnd.jupyter.widget-view+json": {
       "model_id": "45e2d4c0f14a46f1a57107be6804599f",
       "version_major": 2,
       "version_minor": 0
      },
      "text/plain": [
       "[1/7]  14%|#4         [00:00<?]"
      ]
     },
     "metadata": {},
     "output_type": "display_data"
    },
    {
     "data": {
      "application/vnd.jupyter.widget-view+json": {
       "model_id": "911e9bfb7f5a44a7814efab299e8f729",
       "version_major": 2,
       "version_minor": 0
      },
      "text/plain": [
       "[1/7]  14%|#4         [00:00<?]"
      ]
     },
     "metadata": {},
     "output_type": "display_data"
    },
    {
     "data": {
      "application/vnd.jupyter.widget-view+json": {
       "model_id": "4b2df0fbfeaf48b59fd9a3df08735470",
       "version_major": 2,
       "version_minor": 0
      },
      "text/plain": [
       "[1/7]  14%|#4         [00:00<?]"
      ]
     },
     "metadata": {},
     "output_type": "display_data"
    },
    {
     "data": {
      "application/vnd.jupyter.widget-view+json": {
       "model_id": "d8b6171ef0ac40388d3eb8d058c99bc0",
       "version_major": 2,
       "version_minor": 0
      },
      "text/plain": [
       "[1/7]  14%|#4         [00:00<?]"
      ]
     },
     "metadata": {},
     "output_type": "display_data"
    },
    {
     "data": {
      "application/vnd.jupyter.widget-view+json": {
       "model_id": "93ad367299c940a68b406f9182589caf",
       "version_major": 2,
       "version_minor": 0
      },
      "text/plain": [
       "[1/7]  14%|#4         [00:00<?]"
      ]
     },
     "metadata": {},
     "output_type": "display_data"
    },
    {
     "data": {
      "application/vnd.jupyter.widget-view+json": {
       "model_id": "a1a20bd1b69247e1802c3785a1c8943c",
       "version_major": 2,
       "version_minor": 0
      },
      "text/plain": [
       "[1/7]  14%|#4         [00:00<?]"
      ]
     },
     "metadata": {},
     "output_type": "display_data"
    },
    {
     "data": {
      "application/vnd.jupyter.widget-view+json": {
       "model_id": "5efd98a09b854ca7b9e14af807d92223",
       "version_major": 2,
       "version_minor": 0
      },
      "text/plain": [
       "[1/7]  14%|#4         [00:00<?]"
      ]
     },
     "metadata": {},
     "output_type": "display_data"
    },
    {
     "data": {
      "application/vnd.jupyter.widget-view+json": {
       "model_id": "03805deb86044bfe8c59c3d994263a9c",
       "version_major": 2,
       "version_minor": 0
      },
      "text/plain": [
       "[1/7]  14%|#4         [00:00<?]"
      ]
     },
     "metadata": {},
     "output_type": "display_data"
    },
    {
     "data": {
      "application/vnd.jupyter.widget-view+json": {
       "model_id": "53f75b7839e448da80753a2fd5b7a330",
       "version_major": 2,
       "version_minor": 0
      },
      "text/plain": [
       "[1/7]  14%|#4         [00:00<?]"
      ]
     },
     "metadata": {},
     "output_type": "display_data"
    },
    {
     "data": {
      "application/vnd.jupyter.widget-view+json": {
       "model_id": "4cc194bdb62d4457a96c736a9b811f02",
       "version_major": 2,
       "version_minor": 0
      },
      "text/plain": [
       "[1/7]  14%|#4         [00:00<?]"
      ]
     },
     "metadata": {},
     "output_type": "display_data"
    },
    {
     "data": {
      "application/vnd.jupyter.widget-view+json": {
       "model_id": "b7bbd7a830994ef7977a1b831b49f1b2",
       "version_major": 2,
       "version_minor": 0
      },
      "text/plain": [
       "[1/7]  14%|#4         [00:00<?]"
      ]
     },
     "metadata": {},
     "output_type": "display_data"
    },
    {
     "data": {
      "application/vnd.jupyter.widget-view+json": {
       "model_id": "612334b613054bb0ad298ca15aaec33d",
       "version_major": 2,
       "version_minor": 0
      },
      "text/plain": [
       "[1/7]  14%|#4         [00:00<?]"
      ]
     },
     "metadata": {},
     "output_type": "display_data"
    },
    {
     "data": {
      "application/vnd.jupyter.widget-view+json": {
       "model_id": "8e00997e032f4b139958c65bbe20a0be",
       "version_major": 2,
       "version_minor": 0
      },
      "text/plain": [
       "[1/7]  14%|#4         [00:00<?]"
      ]
     },
     "metadata": {},
     "output_type": "display_data"
    },
    {
     "data": {
      "application/vnd.jupyter.widget-view+json": {
       "model_id": "00042553f1ba43c590d9206baa587c59",
       "version_major": 2,
       "version_minor": 0
      },
      "text/plain": [
       "[1/7]  14%|#4         [00:00<?]"
      ]
     },
     "metadata": {},
     "output_type": "display_data"
    },
    {
     "data": {
      "application/vnd.jupyter.widget-view+json": {
       "model_id": "033b4a7df69d4f219f43a9bb39c5ad38",
       "version_major": 2,
       "version_minor": 0
      },
      "text/plain": [
       "[1/7]  14%|#4         [00:00<?]"
      ]
     },
     "metadata": {},
     "output_type": "display_data"
    },
    {
     "data": {
      "application/vnd.jupyter.widget-view+json": {
       "model_id": "3749f4eab3c14c6cbff21008934d04a7",
       "version_major": 2,
       "version_minor": 0
      },
      "text/plain": [
       "[1/7]  14%|#4         [00:00<?]"
      ]
     },
     "metadata": {},
     "output_type": "display_data"
    },
    {
     "data": {
      "application/vnd.jupyter.widget-view+json": {
       "model_id": "0289dd5cda674c90ae4653ede781952a",
       "version_major": 2,
       "version_minor": 0
      },
      "text/plain": [
       "[1/7]  14%|#4         [00:00<?]"
      ]
     },
     "metadata": {},
     "output_type": "display_data"
    },
    {
     "data": {
      "application/vnd.jupyter.widget-view+json": {
       "model_id": "45ecd7ef255c44fb848804ac37dc9c2b",
       "version_major": 2,
       "version_minor": 0
      },
      "text/plain": [
       "[1/7]  14%|#4         [00:00<?]"
      ]
     },
     "metadata": {},
     "output_type": "display_data"
    },
    {
     "data": {
      "application/vnd.jupyter.widget-view+json": {
       "model_id": "01b3dea2bcf64324b6dfaf956b05398c",
       "version_major": 2,
       "version_minor": 0
      },
      "text/plain": [
       "[1/7]  14%|#4         [00:00<?]"
      ]
     },
     "metadata": {},
     "output_type": "display_data"
    },
    {
     "data": {
      "application/vnd.jupyter.widget-view+json": {
       "model_id": "b2989bc6a6b4400d861dff979c57c4db",
       "version_major": 2,
       "version_minor": 0
      },
      "text/plain": [
       "[1/7]  14%|#4         [00:00<?]"
      ]
     },
     "metadata": {},
     "output_type": "display_data"
    },
    {
     "data": {
      "application/vnd.jupyter.widget-view+json": {
       "model_id": "32e09206bc084156a840420948e8120d",
       "version_major": 2,
       "version_minor": 0
      },
      "text/plain": [
       "[1/7]  14%|#4         [00:00<?]"
      ]
     },
     "metadata": {},
     "output_type": "display_data"
    },
    {
     "data": {
      "application/vnd.jupyter.widget-view+json": {
       "model_id": "6a04173b12234eb28605bc72f125273e",
       "version_major": 2,
       "version_minor": 0
      },
      "text/plain": [
       "[1/7]  14%|#4         [00:00<?]"
      ]
     },
     "metadata": {},
     "output_type": "display_data"
    },
    {
     "data": {
      "application/vnd.jupyter.widget-view+json": {
       "model_id": "164cd0180b7d4467833dcd88c2ca21a7",
       "version_major": 2,
       "version_minor": 0
      },
      "text/plain": [
       "[1/7]  14%|#4         [00:00<?]"
      ]
     },
     "metadata": {},
     "output_type": "display_data"
    },
    {
     "data": {
      "application/vnd.jupyter.widget-view+json": {
       "model_id": "51d08a08f12e41648b2211627cb91437",
       "version_major": 2,
       "version_minor": 0
      },
      "text/plain": [
       "[1/7]  14%|#4         [00:00<?]"
      ]
     },
     "metadata": {},
     "output_type": "display_data"
    },
    {
     "data": {
      "application/vnd.jupyter.widget-view+json": {
       "model_id": "ed62c9fd4a364520a5daf526a2150c96",
       "version_major": 2,
       "version_minor": 0
      },
      "text/plain": [
       "[1/7]  14%|#4         [00:00<?]"
      ]
     },
     "metadata": {},
     "output_type": "display_data"
    },
    {
     "data": {
      "application/vnd.jupyter.widget-view+json": {
       "model_id": "0b98b88c3e894959b6622c60a878d6b5",
       "version_major": 2,
       "version_minor": 0
      },
      "text/plain": [
       "[1/7]  14%|#4         [00:00<?]"
      ]
     },
     "metadata": {},
     "output_type": "display_data"
    },
    {
     "data": {
      "application/vnd.jupyter.widget-view+json": {
       "model_id": "d8c27e11e54748f4928cccbfd989e8a1",
       "version_major": 2,
       "version_minor": 0
      },
      "text/plain": [
       "[1/7]  14%|#4         [00:00<?]"
      ]
     },
     "metadata": {},
     "output_type": "display_data"
    },
    {
     "data": {
      "application/vnd.jupyter.widget-view+json": {
       "model_id": "901f31fc200243b8b3b3d0f089c44794",
       "version_major": 2,
       "version_minor": 0
      },
      "text/plain": [
       "[1/7]  14%|#4         [00:00<?]"
      ]
     },
     "metadata": {},
     "output_type": "display_data"
    },
    {
     "data": {
      "application/vnd.jupyter.widget-view+json": {
       "model_id": "a128c2799b844a36898f9a04c9db841c",
       "version_major": 2,
       "version_minor": 0
      },
      "text/plain": [
       "[1/7]  14%|#4         [00:00<?]"
      ]
     },
     "metadata": {},
     "output_type": "display_data"
    },
    {
     "data": {
      "application/vnd.jupyter.widget-view+json": {
       "model_id": "14fc513dd31f4e6a8bd09f6d5864b045",
       "version_major": 2,
       "version_minor": 0
      },
      "text/plain": [
       "[1/7]  14%|#4         [00:00<?]"
      ]
     },
     "metadata": {},
     "output_type": "display_data"
    },
    {
     "data": {
      "application/vnd.jupyter.widget-view+json": {
       "model_id": "bbdf48018644443fab5cf186137d68e1",
       "version_major": 2,
       "version_minor": 0
      },
      "text/plain": [
       "[1/7]  14%|#4         [00:00<?]"
      ]
     },
     "metadata": {},
     "output_type": "display_data"
    },
    {
     "data": {
      "application/vnd.jupyter.widget-view+json": {
       "model_id": "e8ddb70c31f74e56b063a46dd866e2f7",
       "version_major": 2,
       "version_minor": 0
      },
      "text/plain": [
       "[1/7]  14%|#4         [00:00<?]"
      ]
     },
     "metadata": {},
     "output_type": "display_data"
    },
    {
     "data": {
      "application/vnd.jupyter.widget-view+json": {
       "model_id": "5973a8ce348e460d9a883b0854c6d4b0",
       "version_major": 2,
       "version_minor": 0
      },
      "text/plain": [
       "[1/7]  14%|#4         [00:00<?]"
      ]
     },
     "metadata": {},
     "output_type": "display_data"
    },
    {
     "data": {
      "application/vnd.jupyter.widget-view+json": {
       "model_id": "da4c3280c06a4927a69388780c983ed3",
       "version_major": 2,
       "version_minor": 0
      },
      "text/plain": [
       "[1/7]  14%|#4         [00:00<?]"
      ]
     },
     "metadata": {},
     "output_type": "display_data"
    },
    {
     "data": {
      "application/vnd.jupyter.widget-view+json": {
       "model_id": "99e79a5b525842b4aaf14c23eb750414",
       "version_major": 2,
       "version_minor": 0
      },
      "text/plain": [
       "[1/7]  14%|#4         [00:00<?]"
      ]
     },
     "metadata": {},
     "output_type": "display_data"
    },
    {
     "data": {
      "application/vnd.jupyter.widget-view+json": {
       "model_id": "d02550c17755487298c32360339914d4",
       "version_major": 2,
       "version_minor": 0
      },
      "text/plain": [
       "[1/7]  14%|#4         [00:00<?]"
      ]
     },
     "metadata": {},
     "output_type": "display_data"
    },
    {
     "data": {
      "application/vnd.jupyter.widget-view+json": {
       "model_id": "b7bdd54f982a404ca870b95063a309a8",
       "version_major": 2,
       "version_minor": 0
      },
      "text/plain": [
       "[1/7]  14%|#4         [00:00<?]"
      ]
     },
     "metadata": {},
     "output_type": "display_data"
    },
    {
     "data": {
      "application/vnd.jupyter.widget-view+json": {
       "model_id": "abf02257db4c4866aa6458e5472832d4",
       "version_major": 2,
       "version_minor": 0
      },
      "text/plain": [
       "[1/7]  14%|#4         [00:00<?]"
      ]
     },
     "metadata": {},
     "output_type": "display_data"
    },
    {
     "data": {
      "application/vnd.jupyter.widget-view+json": {
       "model_id": "72a3ebff1c3b4dd89b00727fd387feac",
       "version_major": 2,
       "version_minor": 0
      },
      "text/plain": [
       "[1/7]  14%|#4         [00:00<?]"
      ]
     },
     "metadata": {},
     "output_type": "display_data"
    },
    {
     "data": {
      "application/vnd.jupyter.widget-view+json": {
       "model_id": "180eac6cd37d4fd28f3004294bab5e7a",
       "version_major": 2,
       "version_minor": 0
      },
      "text/plain": [
       "[1/7]  14%|#4         [00:00<?]"
      ]
     },
     "metadata": {},
     "output_type": "display_data"
    },
    {
     "data": {
      "application/vnd.jupyter.widget-view+json": {
       "model_id": "dcbfc20c89ef4e0dacbee0dcc4c5e733",
       "version_major": 2,
       "version_minor": 0
      },
      "text/plain": [
       "[1/7]  14%|#4         [00:00<?]"
      ]
     },
     "metadata": {},
     "output_type": "display_data"
    },
    {
     "data": {
      "application/vnd.jupyter.widget-view+json": {
       "model_id": "2dafeabae63541f8be122fe0050b4e5d",
       "version_major": 2,
       "version_minor": 0
      },
      "text/plain": [
       "[1/7]  14%|#4         [00:00<?]"
      ]
     },
     "metadata": {},
     "output_type": "display_data"
    },
    {
     "data": {
      "application/vnd.jupyter.widget-view+json": {
       "model_id": "766b73d203204ec8abbf8aec5532943a",
       "version_major": 2,
       "version_minor": 0
      },
      "text/plain": [
       "[1/7]  14%|#4         [00:00<?]"
      ]
     },
     "metadata": {},
     "output_type": "display_data"
    },
    {
     "data": {
      "application/vnd.jupyter.widget-view+json": {
       "model_id": "ebd99ae03144466d863babd19d94517f",
       "version_major": 2,
       "version_minor": 0
      },
      "text/plain": [
       "[1/7]  14%|#4         [00:00<?]"
      ]
     },
     "metadata": {},
     "output_type": "display_data"
    },
    {
     "data": {
      "application/vnd.jupyter.widget-view+json": {
       "model_id": "8b93f4304e14471a8989da545aceced3",
       "version_major": 2,
       "version_minor": 0
      },
      "text/plain": [
       "[1/7]  14%|#4         [00:00<?]"
      ]
     },
     "metadata": {},
     "output_type": "display_data"
    },
    {
     "data": {
      "application/vnd.jupyter.widget-view+json": {
       "model_id": "dae08ac6ef3b4e7c97497129875dcd08",
       "version_major": 2,
       "version_minor": 0
      },
      "text/plain": [
       "[1/7]  14%|#4         [00:00<?]"
      ]
     },
     "metadata": {},
     "output_type": "display_data"
    },
    {
     "data": {
      "application/vnd.jupyter.widget-view+json": {
       "model_id": "1cb12fc4f7ba40daa4094c5b0c7f1352",
       "version_major": 2,
       "version_minor": 0
      },
      "text/plain": [
       "[1/7]  14%|#4         [00:00<?]"
      ]
     },
     "metadata": {},
     "output_type": "display_data"
    },
    {
     "data": {
      "application/vnd.jupyter.widget-view+json": {
       "model_id": "eb1b9eb7b5814b0ca50fa8bf985b5851",
       "version_major": 2,
       "version_minor": 0
      },
      "text/plain": [
       "[1/7]  14%|#4         [00:00<?]"
      ]
     },
     "metadata": {},
     "output_type": "display_data"
    },
    {
     "data": {
      "application/vnd.jupyter.widget-view+json": {
       "model_id": "2a11a29800ce49ea836ea404545d58df",
       "version_major": 2,
       "version_minor": 0
      },
      "text/plain": [
       "[1/7]  14%|#4         [00:00<?]"
      ]
     },
     "metadata": {},
     "output_type": "display_data"
    },
    {
     "data": {
      "application/vnd.jupyter.widget-view+json": {
       "model_id": "52c4cd6302944f7fb1965341e1c0f53b",
       "version_major": 2,
       "version_minor": 0
      },
      "text/plain": [
       "[1/7]  14%|#4         [00:00<?]"
      ]
     },
     "metadata": {},
     "output_type": "display_data"
    },
    {
     "data": {
      "application/vnd.jupyter.widget-view+json": {
       "model_id": "2dc5f860baaa47e3979520d2c1beaa48",
       "version_major": 2,
       "version_minor": 0
      },
      "text/plain": [
       "[1/7]  14%|#4         [00:00<?]"
      ]
     },
     "metadata": {},
     "output_type": "display_data"
    },
    {
     "data": {
      "application/vnd.jupyter.widget-view+json": {
       "model_id": "48e4003f926b4b7498dcd378aa111ad3",
       "version_major": 2,
       "version_minor": 0
      },
      "text/plain": [
       "[1/7]  14%|#4         [00:00<?]"
      ]
     },
     "metadata": {},
     "output_type": "display_data"
    },
    {
     "data": {
      "application/vnd.jupyter.widget-view+json": {
       "model_id": "da93d474f3f843f5a7b65d8417138f63",
       "version_major": 2,
       "version_minor": 0
      },
      "text/plain": [
       "[1/7]  14%|#4         [00:00<?]"
      ]
     },
     "metadata": {},
     "output_type": "display_data"
    },
    {
     "data": {
      "application/vnd.jupyter.widget-view+json": {
       "model_id": "99615962182b48b38a861891c01f8f58",
       "version_major": 2,
       "version_minor": 0
      },
      "text/plain": [
       "[1/7]  14%|#4         [00:00<?]"
      ]
     },
     "metadata": {},
     "output_type": "display_data"
    },
    {
     "data": {
      "application/vnd.jupyter.widget-view+json": {
       "model_id": "cf8f2de5afe4491e88fbf89afa361a30",
       "version_major": 2,
       "version_minor": 0
      },
      "text/plain": [
       "[1/7]  14%|#4         [00:00<?]"
      ]
     },
     "metadata": {},
     "output_type": "display_data"
    },
    {
     "data": {
      "application/vnd.jupyter.widget-view+json": {
       "model_id": "510146a039b64d76ba2ffed9a2a15c3c",
       "version_major": 2,
       "version_minor": 0
      },
      "text/plain": [
       "[1/7]  14%|#4         [00:00<?]"
      ]
     },
     "metadata": {},
     "output_type": "display_data"
    },
    {
     "data": {
      "application/vnd.jupyter.widget-view+json": {
       "model_id": "ed5a65c3e3b748a28d6eaefd781047b1",
       "version_major": 2,
       "version_minor": 0
      },
      "text/plain": [
       "[1/7]  14%|#4         [00:00<?]"
      ]
     },
     "metadata": {},
     "output_type": "display_data"
    },
    {
     "data": {
      "application/vnd.jupyter.widget-view+json": {
       "model_id": "1e9851c049a9401883c0b1844a3feacc",
       "version_major": 2,
       "version_minor": 0
      },
      "text/plain": [
       "[1/7]  14%|#4         [00:00<?]"
      ]
     },
     "metadata": {},
     "output_type": "display_data"
    },
    {
     "data": {
      "application/vnd.jupyter.widget-view+json": {
       "model_id": "6e43337a8edd45e9814bdf3368e11255",
       "version_major": 2,
       "version_minor": 0
      },
      "text/plain": [
       "[1/7]  14%|#4         [00:00<?]"
      ]
     },
     "metadata": {},
     "output_type": "display_data"
    },
    {
     "data": {
      "application/vnd.jupyter.widget-view+json": {
       "model_id": "a9b7611a573a41f9b016274396f5f106",
       "version_major": 2,
       "version_minor": 0
      },
      "text/plain": [
       "[1/7]  14%|#4         [00:00<?]"
      ]
     },
     "metadata": {},
     "output_type": "display_data"
    },
    {
     "data": {
      "application/vnd.jupyter.widget-view+json": {
       "model_id": "1650d1862afe4eb88cf58484f99cedd2",
       "version_major": 2,
       "version_minor": 0
      },
      "text/plain": [
       "[1/7]  14%|#4         [00:00<?]"
      ]
     },
     "metadata": {},
     "output_type": "display_data"
    },
    {
     "data": {
      "application/vnd.jupyter.widget-view+json": {
       "model_id": "d0c2536f19774db3ba6ff61f43095004",
       "version_major": 2,
       "version_minor": 0
      },
      "text/plain": [
       "[1/7]  14%|#4         [00:00<?]"
      ]
     },
     "metadata": {},
     "output_type": "display_data"
    },
    {
     "data": {
      "application/vnd.jupyter.widget-view+json": {
       "model_id": "3dc9424cd86c44179b08ff3366d3c1fe",
       "version_major": 2,
       "version_minor": 0
      },
      "text/plain": [
       "[1/7]  14%|#4         [00:00<?]"
      ]
     },
     "metadata": {},
     "output_type": "display_data"
    },
    {
     "data": {
      "application/vnd.jupyter.widget-view+json": {
       "model_id": "46e36f9f26004026ab83db57afe5333b",
       "version_major": 2,
       "version_minor": 0
      },
      "text/plain": [
       "[1/7]  14%|#4         [00:00<?]"
      ]
     },
     "metadata": {},
     "output_type": "display_data"
    },
    {
     "data": {
      "application/vnd.jupyter.widget-view+json": {
       "model_id": "b6796473a3124de79f24c5e62f206f72",
       "version_major": 2,
       "version_minor": 0
      },
      "text/plain": [
       "[1/7]  14%|#4         [00:00<?]"
      ]
     },
     "metadata": {},
     "output_type": "display_data"
    },
    {
     "data": {
      "application/vnd.jupyter.widget-view+json": {
       "model_id": "8eaf4ac10ad940f287dc074df41e3d23",
       "version_major": 2,
       "version_minor": 0
      },
      "text/plain": [
       "[1/7]  14%|#4         [00:00<?]"
      ]
     },
     "metadata": {},
     "output_type": "display_data"
    },
    {
     "data": {
      "application/vnd.jupyter.widget-view+json": {
       "model_id": "b701441aaca344b0a750341734c92b3b",
       "version_major": 2,
       "version_minor": 0
      },
      "text/plain": [
       "[1/7]  14%|#4         [00:00<?]"
      ]
     },
     "metadata": {},
     "output_type": "display_data"
    },
    {
     "data": {
      "application/vnd.jupyter.widget-view+json": {
       "model_id": "9d89394b5da74eee9fc5b225320e1854",
       "version_major": 2,
       "version_minor": 0
      },
      "text/plain": [
       "[1/7]  14%|#4         [00:00<?]"
      ]
     },
     "metadata": {},
     "output_type": "display_data"
    },
    {
     "data": {
      "application/vnd.jupyter.widget-view+json": {
       "model_id": "f6e74090be7a420cac76a7c08708769e",
       "version_major": 2,
       "version_minor": 0
      },
      "text/plain": [
       "[1/7]  14%|#4         [00:00<?]"
      ]
     },
     "metadata": {},
     "output_type": "display_data"
    },
    {
     "data": {
      "application/vnd.jupyter.widget-view+json": {
       "model_id": "4b8a689ea26740f7856d0e551755d74e",
       "version_major": 2,
       "version_minor": 0
      },
      "text/plain": [
       "[1/7]  14%|#4         [00:00<?]"
      ]
     },
     "metadata": {},
     "output_type": "display_data"
    },
    {
     "name": "stdout",
     "output_type": "stream",
     "text": [
      "Results - Epoch: 576 - Test Likelihood: 0.79 - Loss: 0.86\n"
     ]
    },
    {
     "data": {
      "application/vnd.jupyter.widget-view+json": {
       "model_id": "ff730fd2ab544e9082774a59ac839905",
       "version_major": 2,
       "version_minor": 0
      },
      "text/plain": [
       "[1/7]  14%|#4         [00:00<?]"
      ]
     },
     "metadata": {},
     "output_type": "display_data"
    },
    {
     "data": {
      "application/vnd.jupyter.widget-view+json": {
       "model_id": "d4760150fe9f46a48541f67c6130d80a",
       "version_major": 2,
       "version_minor": 0
      },
      "text/plain": [
       "[1/7]  14%|#4         [00:00<?]"
      ]
     },
     "metadata": {},
     "output_type": "display_data"
    },
    {
     "data": {
      "application/vnd.jupyter.widget-view+json": {
       "model_id": "08161b523ccd41ceaf377c14c6fae792",
       "version_major": 2,
       "version_minor": 0
      },
      "text/plain": [
       "[1/7]  14%|#4         [00:00<?]"
      ]
     },
     "metadata": {},
     "output_type": "display_data"
    },
    {
     "data": {
      "application/vnd.jupyter.widget-view+json": {
       "model_id": "365a2c06cf7e48a79f120904322cb62a",
       "version_major": 2,
       "version_minor": 0
      },
      "text/plain": [
       "[1/7]  14%|#4         [00:00<?]"
      ]
     },
     "metadata": {},
     "output_type": "display_data"
    },
    {
     "data": {
      "application/vnd.jupyter.widget-view+json": {
       "model_id": "58f226394bed4aadbad6741b9cf64ec3",
       "version_major": 2,
       "version_minor": 0
      },
      "text/plain": [
       "[1/7]  14%|#4         [00:00<?]"
      ]
     },
     "metadata": {},
     "output_type": "display_data"
    },
    {
     "data": {
      "application/vnd.jupyter.widget-view+json": {
       "model_id": "5582aeb38c504aad8ed2ecf977121732",
       "version_major": 2,
       "version_minor": 0
      },
      "text/plain": [
       "[1/7]  14%|#4         [00:00<?]"
      ]
     },
     "metadata": {},
     "output_type": "display_data"
    },
    {
     "data": {
      "application/vnd.jupyter.widget-view+json": {
       "model_id": "eeeb96a79cf34678838d30f897dcfd48",
       "version_major": 2,
       "version_minor": 0
      },
      "text/plain": [
       "[1/7]  14%|#4         [00:00<?]"
      ]
     },
     "metadata": {},
     "output_type": "display_data"
    },
    {
     "data": {
      "application/vnd.jupyter.widget-view+json": {
       "model_id": "f10cc0e5981a47a7be34d417c25ec478",
       "version_major": 2,
       "version_minor": 0
      },
      "text/plain": [
       "[1/7]  14%|#4         [00:00<?]"
      ]
     },
     "metadata": {},
     "output_type": "display_data"
    },
    {
     "data": {
      "application/vnd.jupyter.widget-view+json": {
       "model_id": "a321ea99c7c541cea46ed197b3f0f5d0",
       "version_major": 2,
       "version_minor": 0
      },
      "text/plain": [
       "[1/7]  14%|#4         [00:00<?]"
      ]
     },
     "metadata": {},
     "output_type": "display_data"
    },
    {
     "data": {
      "application/vnd.jupyter.widget-view+json": {
       "model_id": "cce6d1078bb04ad2a722c7e0aeb9dd88",
       "version_major": 2,
       "version_minor": 0
      },
      "text/plain": [
       "[1/7]  14%|#4         [00:00<?]"
      ]
     },
     "metadata": {},
     "output_type": "display_data"
    },
    {
     "data": {
      "application/vnd.jupyter.widget-view+json": {
       "model_id": "1d3d0079934a483cace9c0601d16e9a3",
       "version_major": 2,
       "version_minor": 0
      },
      "text/plain": [
       "[1/7]  14%|#4         [00:00<?]"
      ]
     },
     "metadata": {},
     "output_type": "display_data"
    },
    {
     "data": {
      "application/vnd.jupyter.widget-view+json": {
       "model_id": "48e45c730a2f43659961681448d71de0",
       "version_major": 2,
       "version_minor": 0
      },
      "text/plain": [
       "[1/7]  14%|#4         [00:00<?]"
      ]
     },
     "metadata": {},
     "output_type": "display_data"
    },
    {
     "data": {
      "application/vnd.jupyter.widget-view+json": {
       "model_id": "7f50b07490f446ad85c857c97dc92e3b",
       "version_major": 2,
       "version_minor": 0
      },
      "text/plain": [
       "[1/7]  14%|#4         [00:00<?]"
      ]
     },
     "metadata": {},
     "output_type": "display_data"
    },
    {
     "data": {
      "application/vnd.jupyter.widget-view+json": {
       "model_id": "43c748d0a7bf4376b4a50825bb8197c7",
       "version_major": 2,
       "version_minor": 0
      },
      "text/plain": [
       "[1/7]  14%|#4         [00:00<?]"
      ]
     },
     "metadata": {},
     "output_type": "display_data"
    },
    {
     "data": {
      "application/vnd.jupyter.widget-view+json": {
       "model_id": "99177be2d8624b7193e1c772c3c044ec",
       "version_major": 2,
       "version_minor": 0
      },
      "text/plain": [
       "[1/7]  14%|#4         [00:00<?]"
      ]
     },
     "metadata": {},
     "output_type": "display_data"
    },
    {
     "data": {
      "application/vnd.jupyter.widget-view+json": {
       "model_id": "56eaafc8b394428ba79f3deb03d72203",
       "version_major": 2,
       "version_minor": 0
      },
      "text/plain": [
       "[1/7]  14%|#4         [00:00<?]"
      ]
     },
     "metadata": {},
     "output_type": "display_data"
    },
    {
     "data": {
      "application/vnd.jupyter.widget-view+json": {
       "model_id": "be41b1a89755476096982bbb1b6434e9",
       "version_major": 2,
       "version_minor": 0
      },
      "text/plain": [
       "[1/7]  14%|#4         [00:00<?]"
      ]
     },
     "metadata": {},
     "output_type": "display_data"
    },
    {
     "data": {
      "application/vnd.jupyter.widget-view+json": {
       "model_id": "75ade68f78894e38877f0272d71ba40b",
       "version_major": 2,
       "version_minor": 0
      },
      "text/plain": [
       "[1/7]  14%|#4         [00:00<?]"
      ]
     },
     "metadata": {},
     "output_type": "display_data"
    },
    {
     "data": {
      "application/vnd.jupyter.widget-view+json": {
       "model_id": "1da518c6395c4961811588067a87a428",
       "version_major": 2,
       "version_minor": 0
      },
      "text/plain": [
       "[1/7]  14%|#4         [00:00<?]"
      ]
     },
     "metadata": {},
     "output_type": "display_data"
    },
    {
     "data": {
      "application/vnd.jupyter.widget-view+json": {
       "model_id": "d321ac41b77f43cbbd981af608f8cb03",
       "version_major": 2,
       "version_minor": 0
      },
      "text/plain": [
       "[1/7]  14%|#4         [00:00<?]"
      ]
     },
     "metadata": {},
     "output_type": "display_data"
    },
    {
     "data": {
      "application/vnd.jupyter.widget-view+json": {
       "model_id": "0ee3d049139e4b1fa599f8d4a4c0998e",
       "version_major": 2,
       "version_minor": 0
      },
      "text/plain": [
       "[1/7]  14%|#4         [00:00<?]"
      ]
     },
     "metadata": {},
     "output_type": "display_data"
    },
    {
     "data": {
      "application/vnd.jupyter.widget-view+json": {
       "model_id": "e513f19639394144839d782b6ce1f456",
       "version_major": 2,
       "version_minor": 0
      },
      "text/plain": [
       "[1/7]  14%|#4         [00:00<?]"
      ]
     },
     "metadata": {},
     "output_type": "display_data"
    },
    {
     "data": {
      "application/vnd.jupyter.widget-view+json": {
       "model_id": "fe94c792968c422aac42dc6d48e02e8c",
       "version_major": 2,
       "version_minor": 0
      },
      "text/plain": [
       "[1/7]  14%|#4         [00:00<?]"
      ]
     },
     "metadata": {},
     "output_type": "display_data"
    },
    {
     "data": {
      "application/vnd.jupyter.widget-view+json": {
       "model_id": "4a736ef950054a5fa64bbb9774f2ac4b",
       "version_major": 2,
       "version_minor": 0
      },
      "text/plain": [
       "[1/7]  14%|#4         [00:00<?]"
      ]
     },
     "metadata": {},
     "output_type": "display_data"
    },
    {
     "data": {
      "application/vnd.jupyter.widget-view+json": {
       "model_id": "57fd023a51914fdc869c4decbe0d691a",
       "version_major": 2,
       "version_minor": 0
      },
      "text/plain": [
       "[1/7]  14%|#4         [00:00<?]"
      ]
     },
     "metadata": {},
     "output_type": "display_data"
    },
    {
     "data": {
      "application/vnd.jupyter.widget-view+json": {
       "model_id": "3285ef67d0384bcf82e3961e1166fce2",
       "version_major": 2,
       "version_minor": 0
      },
      "text/plain": [
       "[1/7]  14%|#4         [00:00<?]"
      ]
     },
     "metadata": {},
     "output_type": "display_data"
    },
    {
     "data": {
      "application/vnd.jupyter.widget-view+json": {
       "model_id": "8cd1675bee4340299354adf2b1ae1cc1",
       "version_major": 2,
       "version_minor": 0
      },
      "text/plain": [
       "[1/7]  14%|#4         [00:00<?]"
      ]
     },
     "metadata": {},
     "output_type": "display_data"
    },
    {
     "data": {
      "application/vnd.jupyter.widget-view+json": {
       "model_id": "256cdc2a50bb4843b030fbfa4978ebf1",
       "version_major": 2,
       "version_minor": 0
      },
      "text/plain": [
       "[1/7]  14%|#4         [00:00<?]"
      ]
     },
     "metadata": {},
     "output_type": "display_data"
    },
    {
     "data": {
      "application/vnd.jupyter.widget-view+json": {
       "model_id": "1948a495c2d4426f9502255c9d37f529",
       "version_major": 2,
       "version_minor": 0
      },
      "text/plain": [
       "[1/7]  14%|#4         [00:00<?]"
      ]
     },
     "metadata": {},
     "output_type": "display_data"
    },
    {
     "data": {
      "application/vnd.jupyter.widget-view+json": {
       "model_id": "2528000d1ec64dc59228e258b2a1af2d",
       "version_major": 2,
       "version_minor": 0
      },
      "text/plain": [
       "[1/7]  14%|#4         [00:00<?]"
      ]
     },
     "metadata": {},
     "output_type": "display_data"
    },
    {
     "data": {
      "application/vnd.jupyter.widget-view+json": {
       "model_id": "6fd8f8abaf8a4e67982220c26f565d02",
       "version_major": 2,
       "version_minor": 0
      },
      "text/plain": [
       "[1/7]  14%|#4         [00:00<?]"
      ]
     },
     "metadata": {},
     "output_type": "display_data"
    },
    {
     "data": {
      "application/vnd.jupyter.widget-view+json": {
       "model_id": "7354c9a8121a4b07802ad963d116d6cf",
       "version_major": 2,
       "version_minor": 0
      },
      "text/plain": [
       "[1/7]  14%|#4         [00:00<?]"
      ]
     },
     "metadata": {},
     "output_type": "display_data"
    },
    {
     "data": {
      "application/vnd.jupyter.widget-view+json": {
       "model_id": "fb25c69e2b6a49b5a80556b98324d711",
       "version_major": 2,
       "version_minor": 0
      },
      "text/plain": [
       "[1/7]  14%|#4         [00:00<?]"
      ]
     },
     "metadata": {},
     "output_type": "display_data"
    },
    {
     "data": {
      "application/vnd.jupyter.widget-view+json": {
       "model_id": "dd891814ce02420b9787a53a9f8e8d8b",
       "version_major": 2,
       "version_minor": 0
      },
      "text/plain": [
       "[1/7]  14%|#4         [00:00<?]"
      ]
     },
     "metadata": {},
     "output_type": "display_data"
    },
    {
     "data": {
      "application/vnd.jupyter.widget-view+json": {
       "model_id": "98a1e286bcf84d8685767642ea57c82f",
       "version_major": 2,
       "version_minor": 0
      },
      "text/plain": [
       "[1/7]  14%|#4         [00:00<?]"
      ]
     },
     "metadata": {},
     "output_type": "display_data"
    },
    {
     "data": {
      "application/vnd.jupyter.widget-view+json": {
       "model_id": "00ca3be32c1b4840870c71f6c0c4965c",
       "version_major": 2,
       "version_minor": 0
      },
      "text/plain": [
       "[1/7]  14%|#4         [00:00<?]"
      ]
     },
     "metadata": {},
     "output_type": "display_data"
    },
    {
     "data": {
      "application/vnd.jupyter.widget-view+json": {
       "model_id": "6cbdd90592c9467abd1e53f5586379b9",
       "version_major": 2,
       "version_minor": 0
      },
      "text/plain": [
       "[1/7]  14%|#4         [00:00<?]"
      ]
     },
     "metadata": {},
     "output_type": "display_data"
    },
    {
     "data": {
      "application/vnd.jupyter.widget-view+json": {
       "model_id": "a87772a67ab64067af2ae0c98a415de7",
       "version_major": 2,
       "version_minor": 0
      },
      "text/plain": [
       "[1/7]  14%|#4         [00:00<?]"
      ]
     },
     "metadata": {},
     "output_type": "display_data"
    },
    {
     "data": {
      "application/vnd.jupyter.widget-view+json": {
       "model_id": "25b9d344722c4f4a945ba12a9ceb8fa8",
       "version_major": 2,
       "version_minor": 0
      },
      "text/plain": [
       "[1/7]  14%|#4         [00:00<?]"
      ]
     },
     "metadata": {},
     "output_type": "display_data"
    },
    {
     "data": {
      "application/vnd.jupyter.widget-view+json": {
       "model_id": "1d86ac83401a4a35aaab709370d21e07",
       "version_major": 2,
       "version_minor": 0
      },
      "text/plain": [
       "[1/7]  14%|#4         [00:00<?]"
      ]
     },
     "metadata": {},
     "output_type": "display_data"
    },
    {
     "data": {
      "application/vnd.jupyter.widget-view+json": {
       "model_id": "ce377b8bc2a049f2b78c4ee7bc1baf18",
       "version_major": 2,
       "version_minor": 0
      },
      "text/plain": [
       "[1/7]  14%|#4         [00:00<?]"
      ]
     },
     "metadata": {},
     "output_type": "display_data"
    },
    {
     "data": {
      "application/vnd.jupyter.widget-view+json": {
       "model_id": "d16e1cf70a044985b9ab0449b5d2bbcd",
       "version_major": 2,
       "version_minor": 0
      },
      "text/plain": [
       "[1/7]  14%|#4         [00:00<?]"
      ]
     },
     "metadata": {},
     "output_type": "display_data"
    },
    {
     "data": {
      "application/vnd.jupyter.widget-view+json": {
       "model_id": "07bf569a1768407ca8d5871a85ab7240",
       "version_major": 2,
       "version_minor": 0
      },
      "text/plain": [
       "[1/7]  14%|#4         [00:00<?]"
      ]
     },
     "metadata": {},
     "output_type": "display_data"
    },
    {
     "data": {
      "application/vnd.jupyter.widget-view+json": {
       "model_id": "20e9ce056740472fb4f3d9b8490d8ab3",
       "version_major": 2,
       "version_minor": 0
      },
      "text/plain": [
       "[1/7]  14%|#4         [00:00<?]"
      ]
     },
     "metadata": {},
     "output_type": "display_data"
    },
    {
     "data": {
      "application/vnd.jupyter.widget-view+json": {
       "model_id": "00cc7d4320b542f58a27adfeca8943f6",
       "version_major": 2,
       "version_minor": 0
      },
      "text/plain": [
       "[1/7]  14%|#4         [00:00<?]"
      ]
     },
     "metadata": {},
     "output_type": "display_data"
    },
    {
     "data": {
      "application/vnd.jupyter.widget-view+json": {
       "model_id": "31ba8180b2214831a5b63346ce883879",
       "version_major": 2,
       "version_minor": 0
      },
      "text/plain": [
       "[1/7]  14%|#4         [00:00<?]"
      ]
     },
     "metadata": {},
     "output_type": "display_data"
    },
    {
     "data": {
      "application/vnd.jupyter.widget-view+json": {
       "model_id": "4a95abc4f51f4910b0f0b913898f908e",
       "version_major": 2,
       "version_minor": 0
      },
      "text/plain": [
       "[1/7]  14%|#4         [00:00<?]"
      ]
     },
     "metadata": {},
     "output_type": "display_data"
    },
    {
     "data": {
      "application/vnd.jupyter.widget-view+json": {
       "model_id": "bc3bc56f2ee14d80bbd0e300113388f3",
       "version_major": 2,
       "version_minor": 0
      },
      "text/plain": [
       "[1/7]  14%|#4         [00:00<?]"
      ]
     },
     "metadata": {},
     "output_type": "display_data"
    },
    {
     "data": {
      "application/vnd.jupyter.widget-view+json": {
       "model_id": "9e1a11d8f5d84dc99bf3712391604e02",
       "version_major": 2,
       "version_minor": 0
      },
      "text/plain": [
       "[1/7]  14%|#4         [00:00<?]"
      ]
     },
     "metadata": {},
     "output_type": "display_data"
    },
    {
     "data": {
      "application/vnd.jupyter.widget-view+json": {
       "model_id": "f40052457561411f96d3dc0e1fbb80c5",
       "version_major": 2,
       "version_minor": 0
      },
      "text/plain": [
       "[1/7]  14%|#4         [00:00<?]"
      ]
     },
     "metadata": {},
     "output_type": "display_data"
    },
    {
     "data": {
      "application/vnd.jupyter.widget-view+json": {
       "model_id": "8c99c3f6ef504448bbb0f55bb012be6b",
       "version_major": 2,
       "version_minor": 0
      },
      "text/plain": [
       "[1/7]  14%|#4         [00:00<?]"
      ]
     },
     "metadata": {},
     "output_type": "display_data"
    },
    {
     "data": {
      "application/vnd.jupyter.widget-view+json": {
       "model_id": "8fdf1d80f8354c7dbba513ff93abdd37",
       "version_major": 2,
       "version_minor": 0
      },
      "text/plain": [
       "[1/7]  14%|#4         [00:00<?]"
      ]
     },
     "metadata": {},
     "output_type": "display_data"
    },
    {
     "data": {
      "application/vnd.jupyter.widget-view+json": {
       "model_id": "b8d7e3bd555a4b5a844f38077bf64641",
       "version_major": 2,
       "version_minor": 0
      },
      "text/plain": [
       "[1/7]  14%|#4         [00:00<?]"
      ]
     },
     "metadata": {},
     "output_type": "display_data"
    },
    {
     "data": {
      "application/vnd.jupyter.widget-view+json": {
       "model_id": "80b64edb24734fa2a87be20691db3446",
       "version_major": 2,
       "version_minor": 0
      },
      "text/plain": [
       "[1/7]  14%|#4         [00:00<?]"
      ]
     },
     "metadata": {},
     "output_type": "display_data"
    },
    {
     "data": {
      "application/vnd.jupyter.widget-view+json": {
       "model_id": "76441ad0d5de4e098150004946ca489d",
       "version_major": 2,
       "version_minor": 0
      },
      "text/plain": [
       "[1/7]  14%|#4         [00:00<?]"
      ]
     },
     "metadata": {},
     "output_type": "display_data"
    },
    {
     "data": {
      "application/vnd.jupyter.widget-view+json": {
       "model_id": "ff55c2a7d97f40bc968a85c6f84edf4c",
       "version_major": 2,
       "version_minor": 0
      },
      "text/plain": [
       "[1/7]  14%|#4         [00:00<?]"
      ]
     },
     "metadata": {},
     "output_type": "display_data"
    },
    {
     "data": {
      "application/vnd.jupyter.widget-view+json": {
       "model_id": "2a33fc947a9b43de89cd3f0fe8236a50",
       "version_major": 2,
       "version_minor": 0
      },
      "text/plain": [
       "[1/7]  14%|#4         [00:00<?]"
      ]
     },
     "metadata": {},
     "output_type": "display_data"
    },
    {
     "data": {
      "application/vnd.jupyter.widget-view+json": {
       "model_id": "a9c35645b5584c629dd259b9a058e679",
       "version_major": 2,
       "version_minor": 0
      },
      "text/plain": [
       "[1/7]  14%|#4         [00:00<?]"
      ]
     },
     "metadata": {},
     "output_type": "display_data"
    },
    {
     "data": {
      "application/vnd.jupyter.widget-view+json": {
       "model_id": "5f6c8135ddf149debddfc6dcd4c969a7",
       "version_major": 2,
       "version_minor": 0
      },
      "text/plain": [
       "[1/7]  14%|#4         [00:00<?]"
      ]
     },
     "metadata": {},
     "output_type": "display_data"
    },
    {
     "data": {
      "application/vnd.jupyter.widget-view+json": {
       "model_id": "6658eb99129440c3bbfe2fc47e50d555",
       "version_major": 2,
       "version_minor": 0
      },
      "text/plain": [
       "[1/7]  14%|#4         [00:00<?]"
      ]
     },
     "metadata": {},
     "output_type": "display_data"
    },
    {
     "data": {
      "application/vnd.jupyter.widget-view+json": {
       "model_id": "1b08f47b9fac4b0793dac1df9fc741c8",
       "version_major": 2,
       "version_minor": 0
      },
      "text/plain": [
       "[1/7]  14%|#4         [00:00<?]"
      ]
     },
     "metadata": {},
     "output_type": "display_data"
    },
    {
     "data": {
      "application/vnd.jupyter.widget-view+json": {
       "model_id": "d0d2cdf1b769493998ef82a928d75bea",
       "version_major": 2,
       "version_minor": 0
      },
      "text/plain": [
       "[1/7]  14%|#4         [00:00<?]"
      ]
     },
     "metadata": {},
     "output_type": "display_data"
    },
    {
     "data": {
      "application/vnd.jupyter.widget-view+json": {
       "model_id": "2242975927e44d08aa71698e068128c4",
       "version_major": 2,
       "version_minor": 0
      },
      "text/plain": [
       "[1/7]  14%|#4         [00:00<?]"
      ]
     },
     "metadata": {},
     "output_type": "display_data"
    },
    {
     "data": {
      "application/vnd.jupyter.widget-view+json": {
       "model_id": "a464bc555d4845249b0353a758f7bfbd",
       "version_major": 2,
       "version_minor": 0
      },
      "text/plain": [
       "[1/7]  14%|#4         [00:00<?]"
      ]
     },
     "metadata": {},
     "output_type": "display_data"
    },
    {
     "data": {
      "application/vnd.jupyter.widget-view+json": {
       "model_id": "615e8c326b6643f08868b2e4575ca9df",
       "version_major": 2,
       "version_minor": 0
      },
      "text/plain": [
       "[1/7]  14%|#4         [00:00<?]"
      ]
     },
     "metadata": {},
     "output_type": "display_data"
    },
    {
     "data": {
      "application/vnd.jupyter.widget-view+json": {
       "model_id": "df29ee19e73f4d9fb413b96746b72025",
       "version_major": 2,
       "version_minor": 0
      },
      "text/plain": [
       "[1/7]  14%|#4         [00:00<?]"
      ]
     },
     "metadata": {},
     "output_type": "display_data"
    },
    {
     "data": {
      "application/vnd.jupyter.widget-view+json": {
       "model_id": "01783884cc3a48528f50826a1de81ea7",
       "version_major": 2,
       "version_minor": 0
      },
      "text/plain": [
       "[1/7]  14%|#4         [00:00<?]"
      ]
     },
     "metadata": {},
     "output_type": "display_data"
    },
    {
     "data": {
      "application/vnd.jupyter.widget-view+json": {
       "model_id": "7182a08077284349bc871cbe5dca2fc7",
       "version_major": 2,
       "version_minor": 0
      },
      "text/plain": [
       "[1/7]  14%|#4         [00:00<?]"
      ]
     },
     "metadata": {},
     "output_type": "display_data"
    },
    {
     "data": {
      "application/vnd.jupyter.widget-view+json": {
       "model_id": "e0db9891807346f487e8f9af1360ee9e",
       "version_major": 2,
       "version_minor": 0
      },
      "text/plain": [
       "[1/7]  14%|#4         [00:00<?]"
      ]
     },
     "metadata": {},
     "output_type": "display_data"
    },
    {
     "data": {
      "application/vnd.jupyter.widget-view+json": {
       "model_id": "1da5a37c3c5d4fda8cb30052c2e21af4",
       "version_major": 2,
       "version_minor": 0
      },
      "text/plain": [
       "[1/7]  14%|#4         [00:00<?]"
      ]
     },
     "metadata": {},
     "output_type": "display_data"
    },
    {
     "data": {
      "application/vnd.jupyter.widget-view+json": {
       "model_id": "39abb6a5f4a14438bc6f2484cece2995",
       "version_major": 2,
       "version_minor": 0
      },
      "text/plain": [
       "[1/7]  14%|#4         [00:00<?]"
      ]
     },
     "metadata": {},
     "output_type": "display_data"
    },
    {
     "data": {
      "application/vnd.jupyter.widget-view+json": {
       "model_id": "bd5a58f9f26342c4b4a08ed99d2738b2",
       "version_major": 2,
       "version_minor": 0
      },
      "text/plain": [
       "[1/7]  14%|#4         [00:00<?]"
      ]
     },
     "metadata": {},
     "output_type": "display_data"
    },
    {
     "name": "stdout",
     "output_type": "stream",
     "text": [
      "Results - Epoch: 648 - Test Likelihood: 0.60 - Loss: 0.69\n"
     ]
    },
    {
     "data": {
      "application/vnd.jupyter.widget-view+json": {
       "model_id": "dedb5c819ae5414c8faa64c3910a9ec0",
       "version_major": 2,
       "version_minor": 0
      },
      "text/plain": [
       "[1/7]  14%|#4         [00:00<?]"
      ]
     },
     "metadata": {},
     "output_type": "display_data"
    },
    {
     "data": {
      "application/vnd.jupyter.widget-view+json": {
       "model_id": "81ada94e737b4dd5a5d9c525dfc523df",
       "version_major": 2,
       "version_minor": 0
      },
      "text/plain": [
       "[1/7]  14%|#4         [00:00<?]"
      ]
     },
     "metadata": {},
     "output_type": "display_data"
    },
    {
     "data": {
      "application/vnd.jupyter.widget-view+json": {
       "model_id": "0bb9cb32fe6f4aa18e75dbfc0cdefaf9",
       "version_major": 2,
       "version_minor": 0
      },
      "text/plain": [
       "[1/7]  14%|#4         [00:00<?]"
      ]
     },
     "metadata": {},
     "output_type": "display_data"
    },
    {
     "data": {
      "application/vnd.jupyter.widget-view+json": {
       "model_id": "20dba0ef25254c9ba1eb1e9fd0f49105",
       "version_major": 2,
       "version_minor": 0
      },
      "text/plain": [
       "[1/7]  14%|#4         [00:00<?]"
      ]
     },
     "metadata": {},
     "output_type": "display_data"
    },
    {
     "data": {
      "application/vnd.jupyter.widget-view+json": {
       "model_id": "dc6e8ef3eb294abaa5a6dc064dab4f5a",
       "version_major": 2,
       "version_minor": 0
      },
      "text/plain": [
       "[1/7]  14%|#4         [00:00<?]"
      ]
     },
     "metadata": {},
     "output_type": "display_data"
    },
    {
     "data": {
      "application/vnd.jupyter.widget-view+json": {
       "model_id": "9f706b8225fc42439f61667fd9ae7bc6",
       "version_major": 2,
       "version_minor": 0
      },
      "text/plain": [
       "[1/7]  14%|#4         [00:00<?]"
      ]
     },
     "metadata": {},
     "output_type": "display_data"
    },
    {
     "data": {
      "application/vnd.jupyter.widget-view+json": {
       "model_id": "a4a76d67d77c4e799f38de67ec7f3dab",
       "version_major": 2,
       "version_minor": 0
      },
      "text/plain": [
       "[1/7]  14%|#4         [00:00<?]"
      ]
     },
     "metadata": {},
     "output_type": "display_data"
    },
    {
     "data": {
      "application/vnd.jupyter.widget-view+json": {
       "model_id": "adfc3afbca6a4a008bf7764172e56a74",
       "version_major": 2,
       "version_minor": 0
      },
      "text/plain": [
       "[1/7]  14%|#4         [00:00<?]"
      ]
     },
     "metadata": {},
     "output_type": "display_data"
    },
    {
     "data": {
      "application/vnd.jupyter.widget-view+json": {
       "model_id": "0f4fc3f18f524fc1bd25acdf280fc790",
       "version_major": 2,
       "version_minor": 0
      },
      "text/plain": [
       "[1/7]  14%|#4         [00:00<?]"
      ]
     },
     "metadata": {},
     "output_type": "display_data"
    },
    {
     "data": {
      "application/vnd.jupyter.widget-view+json": {
       "model_id": "d00d84261fbc4d97b8e946976e3ce616",
       "version_major": 2,
       "version_minor": 0
      },
      "text/plain": [
       "[1/7]  14%|#4         [00:00<?]"
      ]
     },
     "metadata": {},
     "output_type": "display_data"
    },
    {
     "data": {
      "application/vnd.jupyter.widget-view+json": {
       "model_id": "d79ce4811608402b98dadae20867351a",
       "version_major": 2,
       "version_minor": 0
      },
      "text/plain": [
       "[1/7]  14%|#4         [00:00<?]"
      ]
     },
     "metadata": {},
     "output_type": "display_data"
    },
    {
     "data": {
      "application/vnd.jupyter.widget-view+json": {
       "model_id": "cadf39dfdce74cedb0a1926a42a8020d",
       "version_major": 2,
       "version_minor": 0
      },
      "text/plain": [
       "[1/7]  14%|#4         [00:00<?]"
      ]
     },
     "metadata": {},
     "output_type": "display_data"
    },
    {
     "data": {
      "application/vnd.jupyter.widget-view+json": {
       "model_id": "79bd66ef77aa45bc840dac331d084882",
       "version_major": 2,
       "version_minor": 0
      },
      "text/plain": [
       "[1/7]  14%|#4         [00:00<?]"
      ]
     },
     "metadata": {},
     "output_type": "display_data"
    },
    {
     "data": {
      "application/vnd.jupyter.widget-view+json": {
       "model_id": "12c9748951574192a6b444d31c96047e",
       "version_major": 2,
       "version_minor": 0
      },
      "text/plain": [
       "[1/7]  14%|#4         [00:00<?]"
      ]
     },
     "metadata": {},
     "output_type": "display_data"
    },
    {
     "data": {
      "application/vnd.jupyter.widget-view+json": {
       "model_id": "afcbcccf2a9c4c329284b3fc0e8eee08",
       "version_major": 2,
       "version_minor": 0
      },
      "text/plain": [
       "[1/7]  14%|#4         [00:00<?]"
      ]
     },
     "metadata": {},
     "output_type": "display_data"
    },
    {
     "data": {
      "application/vnd.jupyter.widget-view+json": {
       "model_id": "f9b64547284d480f90e718d70ff50a6e",
       "version_major": 2,
       "version_minor": 0
      },
      "text/plain": [
       "[1/7]  14%|#4         [00:00<?]"
      ]
     },
     "metadata": {},
     "output_type": "display_data"
    },
    {
     "data": {
      "application/vnd.jupyter.widget-view+json": {
       "model_id": "565d848e72454b3983b841cf31e4d647",
       "version_major": 2,
       "version_minor": 0
      },
      "text/plain": [
       "[1/7]  14%|#4         [00:00<?]"
      ]
     },
     "metadata": {},
     "output_type": "display_data"
    },
    {
     "data": {
      "application/vnd.jupyter.widget-view+json": {
       "model_id": "c688b4123e1f4cc585b3661d58732236",
       "version_major": 2,
       "version_minor": 0
      },
      "text/plain": [
       "[1/7]  14%|#4         [00:00<?]"
      ]
     },
     "metadata": {},
     "output_type": "display_data"
    },
    {
     "data": {
      "application/vnd.jupyter.widget-view+json": {
       "model_id": "236249fe43374a3e9c8311593cc3fdc6",
       "version_major": 2,
       "version_minor": 0
      },
      "text/plain": [
       "[1/7]  14%|#4         [00:00<?]"
      ]
     },
     "metadata": {},
     "output_type": "display_data"
    },
    {
     "data": {
      "application/vnd.jupyter.widget-view+json": {
       "model_id": "d7085e2c7236483f81cad7fceb8a6988",
       "version_major": 2,
       "version_minor": 0
      },
      "text/plain": [
       "[1/7]  14%|#4         [00:00<?]"
      ]
     },
     "metadata": {},
     "output_type": "display_data"
    },
    {
     "data": {
      "application/vnd.jupyter.widget-view+json": {
       "model_id": "ef096a8fa2514475a385dcb706861f60",
       "version_major": 2,
       "version_minor": 0
      },
      "text/plain": [
       "[1/7]  14%|#4         [00:00<?]"
      ]
     },
     "metadata": {},
     "output_type": "display_data"
    },
    {
     "data": {
      "application/vnd.jupyter.widget-view+json": {
       "model_id": "5643a2acdc26466f8fbc35741fbce294",
       "version_major": 2,
       "version_minor": 0
      },
      "text/plain": [
       "[1/7]  14%|#4         [00:00<?]"
      ]
     },
     "metadata": {},
     "output_type": "display_data"
    },
    {
     "data": {
      "application/vnd.jupyter.widget-view+json": {
       "model_id": "6cf1a2a4de584daea870f787cbe48394",
       "version_major": 2,
       "version_minor": 0
      },
      "text/plain": [
       "[1/7]  14%|#4         [00:00<?]"
      ]
     },
     "metadata": {},
     "output_type": "display_data"
    },
    {
     "data": {
      "application/vnd.jupyter.widget-view+json": {
       "model_id": "1373f6eec18a425c8b44ec9ea3ec6058",
       "version_major": 2,
       "version_minor": 0
      },
      "text/plain": [
       "[1/7]  14%|#4         [00:00<?]"
      ]
     },
     "metadata": {},
     "output_type": "display_data"
    },
    {
     "data": {
      "application/vnd.jupyter.widget-view+json": {
       "model_id": "cc82cd38e3064418ba692eb6716178d3",
       "version_major": 2,
       "version_minor": 0
      },
      "text/plain": [
       "[1/7]  14%|#4         [00:00<?]"
      ]
     },
     "metadata": {},
     "output_type": "display_data"
    },
    {
     "data": {
      "application/vnd.jupyter.widget-view+json": {
       "model_id": "6d7f61d6ef9541649e96d7facc330e11",
       "version_major": 2,
       "version_minor": 0
      },
      "text/plain": [
       "[1/7]  14%|#4         [00:00<?]"
      ]
     },
     "metadata": {},
     "output_type": "display_data"
    },
    {
     "data": {
      "application/vnd.jupyter.widget-view+json": {
       "model_id": "e37025b8b0ad48bb9a8ca4f42f7db1fd",
       "version_major": 2,
       "version_minor": 0
      },
      "text/plain": [
       "[1/7]  14%|#4         [00:00<?]"
      ]
     },
     "metadata": {},
     "output_type": "display_data"
    },
    {
     "data": {
      "application/vnd.jupyter.widget-view+json": {
       "model_id": "02cce7ed645b4574a60fbfc397e48c2b",
       "version_major": 2,
       "version_minor": 0
      },
      "text/plain": [
       "[1/7]  14%|#4         [00:00<?]"
      ]
     },
     "metadata": {},
     "output_type": "display_data"
    },
    {
     "data": {
      "application/vnd.jupyter.widget-view+json": {
       "model_id": "14f3a8d7c5b246928a55504e39155956",
       "version_major": 2,
       "version_minor": 0
      },
      "text/plain": [
       "[1/7]  14%|#4         [00:00<?]"
      ]
     },
     "metadata": {},
     "output_type": "display_data"
    },
    {
     "data": {
      "application/vnd.jupyter.widget-view+json": {
       "model_id": "3ff23ca9be584016814b5ca6ea00157a",
       "version_major": 2,
       "version_minor": 0
      },
      "text/plain": [
       "[1/7]  14%|#4         [00:00<?]"
      ]
     },
     "metadata": {},
     "output_type": "display_data"
    },
    {
     "data": {
      "application/vnd.jupyter.widget-view+json": {
       "model_id": "fb5ae262ac90440e8c33270ec5bea280",
       "version_major": 2,
       "version_minor": 0
      },
      "text/plain": [
       "[1/7]  14%|#4         [00:00<?]"
      ]
     },
     "metadata": {},
     "output_type": "display_data"
    },
    {
     "data": {
      "application/vnd.jupyter.widget-view+json": {
       "model_id": "f37f4cbb4ba946a0a21afe50afbefa91",
       "version_major": 2,
       "version_minor": 0
      },
      "text/plain": [
       "[1/7]  14%|#4         [00:00<?]"
      ]
     },
     "metadata": {},
     "output_type": "display_data"
    },
    {
     "data": {
      "application/vnd.jupyter.widget-view+json": {
       "model_id": "86821c43ca884ecbad4a11c7281c17fe",
       "version_major": 2,
       "version_minor": 0
      },
      "text/plain": [
       "[1/7]  14%|#4         [00:00<?]"
      ]
     },
     "metadata": {},
     "output_type": "display_data"
    },
    {
     "data": {
      "application/vnd.jupyter.widget-view+json": {
       "model_id": "339e3acee480430c9001af0bf381c544",
       "version_major": 2,
       "version_minor": 0
      },
      "text/plain": [
       "[1/7]  14%|#4         [00:00<?]"
      ]
     },
     "metadata": {},
     "output_type": "display_data"
    },
    {
     "data": {
      "application/vnd.jupyter.widget-view+json": {
       "model_id": "294b3fef61114796a6e1f3b34df494a9",
       "version_major": 2,
       "version_minor": 0
      },
      "text/plain": [
       "[1/7]  14%|#4         [00:00<?]"
      ]
     },
     "metadata": {},
     "output_type": "display_data"
    },
    {
     "data": {
      "application/vnd.jupyter.widget-view+json": {
       "model_id": "3e6d4f172d8f47229043bde9d57001a8",
       "version_major": 2,
       "version_minor": 0
      },
      "text/plain": [
       "[1/7]  14%|#4         [00:00<?]"
      ]
     },
     "metadata": {},
     "output_type": "display_data"
    },
    {
     "data": {
      "application/vnd.jupyter.widget-view+json": {
       "model_id": "38cca1e9d5f848298299bcc33339dec2",
       "version_major": 2,
       "version_minor": 0
      },
      "text/plain": [
       "[1/7]  14%|#4         [00:00<?]"
      ]
     },
     "metadata": {},
     "output_type": "display_data"
    },
    {
     "data": {
      "application/vnd.jupyter.widget-view+json": {
       "model_id": "a521feb980eb455e876a545eb096f8ce",
       "version_major": 2,
       "version_minor": 0
      },
      "text/plain": [
       "[1/7]  14%|#4         [00:00<?]"
      ]
     },
     "metadata": {},
     "output_type": "display_data"
    },
    {
     "data": {
      "application/vnd.jupyter.widget-view+json": {
       "model_id": "737ae87ba5b445009eaf856468905723",
       "version_major": 2,
       "version_minor": 0
      },
      "text/plain": [
       "[1/7]  14%|#4         [00:00<?]"
      ]
     },
     "metadata": {},
     "output_type": "display_data"
    },
    {
     "data": {
      "application/vnd.jupyter.widget-view+json": {
       "model_id": "f70446435c7b4ea8926fa3fa582d62c0",
       "version_major": 2,
       "version_minor": 0
      },
      "text/plain": [
       "[1/7]  14%|#4         [00:00<?]"
      ]
     },
     "metadata": {},
     "output_type": "display_data"
    },
    {
     "data": {
      "application/vnd.jupyter.widget-view+json": {
       "model_id": "095a4d89793c4df5877d09e4ae099833",
       "version_major": 2,
       "version_minor": 0
      },
      "text/plain": [
       "[1/7]  14%|#4         [00:00<?]"
      ]
     },
     "metadata": {},
     "output_type": "display_data"
    },
    {
     "data": {
      "application/vnd.jupyter.widget-view+json": {
       "model_id": "d3cf401056d540cda9f41e22a4c7827b",
       "version_major": 2,
       "version_minor": 0
      },
      "text/plain": [
       "[1/7]  14%|#4         [00:00<?]"
      ]
     },
     "metadata": {},
     "output_type": "display_data"
    },
    {
     "data": {
      "application/vnd.jupyter.widget-view+json": {
       "model_id": "4106a725ab23441f8fc585fa8f809b66",
       "version_major": 2,
       "version_minor": 0
      },
      "text/plain": [
       "[1/7]  14%|#4         [00:00<?]"
      ]
     },
     "metadata": {},
     "output_type": "display_data"
    },
    {
     "data": {
      "application/vnd.jupyter.widget-view+json": {
       "model_id": "762c8fc2c9f04c2aaaaadc5cbc8a8115",
       "version_major": 2,
       "version_minor": 0
      },
      "text/plain": [
       "[1/7]  14%|#4         [00:00<?]"
      ]
     },
     "metadata": {},
     "output_type": "display_data"
    },
    {
     "data": {
      "application/vnd.jupyter.widget-view+json": {
       "model_id": "f70ed7d2aeda4d50a7ebe8dbf7930534",
       "version_major": 2,
       "version_minor": 0
      },
      "text/plain": [
       "[1/7]  14%|#4         [00:00<?]"
      ]
     },
     "metadata": {},
     "output_type": "display_data"
    },
    {
     "data": {
      "application/vnd.jupyter.widget-view+json": {
       "model_id": "22c7546ef35e4b7597e9ef2483980419",
       "version_major": 2,
       "version_minor": 0
      },
      "text/plain": [
       "[1/7]  14%|#4         [00:00<?]"
      ]
     },
     "metadata": {},
     "output_type": "display_data"
    },
    {
     "data": {
      "application/vnd.jupyter.widget-view+json": {
       "model_id": "04681baef99f4d9d968c95f394282505",
       "version_major": 2,
       "version_minor": 0
      },
      "text/plain": [
       "[1/7]  14%|#4         [00:00<?]"
      ]
     },
     "metadata": {},
     "output_type": "display_data"
    },
    {
     "data": {
      "application/vnd.jupyter.widget-view+json": {
       "model_id": "fadccb067dca40a6828a92b5a5fb3a05",
       "version_major": 2,
       "version_minor": 0
      },
      "text/plain": [
       "[1/7]  14%|#4         [00:00<?]"
      ]
     },
     "metadata": {},
     "output_type": "display_data"
    },
    {
     "data": {
      "application/vnd.jupyter.widget-view+json": {
       "model_id": "e579d801a4224e329d0a353ac6b2abf0",
       "version_major": 2,
       "version_minor": 0
      },
      "text/plain": [
       "[1/7]  14%|#4         [00:00<?]"
      ]
     },
     "metadata": {},
     "output_type": "display_data"
    },
    {
     "data": {
      "application/vnd.jupyter.widget-view+json": {
       "model_id": "14b87d90b11242c0baffa68934ce8f31",
       "version_major": 2,
       "version_minor": 0
      },
      "text/plain": [
       "[1/7]  14%|#4         [00:00<?]"
      ]
     },
     "metadata": {},
     "output_type": "display_data"
    },
    {
     "data": {
      "application/vnd.jupyter.widget-view+json": {
       "model_id": "d7bf798da2f3466dbd6d5b98fcf6f6df",
       "version_major": 2,
       "version_minor": 0
      },
      "text/plain": [
       "[1/7]  14%|#4         [00:00<?]"
      ]
     },
     "metadata": {},
     "output_type": "display_data"
    },
    {
     "data": {
      "application/vnd.jupyter.widget-view+json": {
       "model_id": "3e85e1bec7ff4227995227b746fe53bd",
       "version_major": 2,
       "version_minor": 0
      },
      "text/plain": [
       "[1/7]  14%|#4         [00:00<?]"
      ]
     },
     "metadata": {},
     "output_type": "display_data"
    },
    {
     "data": {
      "application/vnd.jupyter.widget-view+json": {
       "model_id": "28c6629c906849a7a05c94ccb4323d27",
       "version_major": 2,
       "version_minor": 0
      },
      "text/plain": [
       "[1/7]  14%|#4         [00:00<?]"
      ]
     },
     "metadata": {},
     "output_type": "display_data"
    },
    {
     "data": {
      "application/vnd.jupyter.widget-view+json": {
       "model_id": "b8d7322274b540399dd7568952d3bc7c",
       "version_major": 2,
       "version_minor": 0
      },
      "text/plain": [
       "[1/7]  14%|#4         [00:00<?]"
      ]
     },
     "metadata": {},
     "output_type": "display_data"
    },
    {
     "data": {
      "application/vnd.jupyter.widget-view+json": {
       "model_id": "3394c449b2cb4fbe890622a970fcb5de",
       "version_major": 2,
       "version_minor": 0
      },
      "text/plain": [
       "[1/7]  14%|#4         [00:00<?]"
      ]
     },
     "metadata": {},
     "output_type": "display_data"
    },
    {
     "data": {
      "application/vnd.jupyter.widget-view+json": {
       "model_id": "eff7eb9478a04ddf83eb4cc0025eae7e",
       "version_major": 2,
       "version_minor": 0
      },
      "text/plain": [
       "[1/7]  14%|#4         [00:00<?]"
      ]
     },
     "metadata": {},
     "output_type": "display_data"
    },
    {
     "data": {
      "application/vnd.jupyter.widget-view+json": {
       "model_id": "09dff79d7ede4ad4800e82ee3fb9e131",
       "version_major": 2,
       "version_minor": 0
      },
      "text/plain": [
       "[1/7]  14%|#4         [00:00<?]"
      ]
     },
     "metadata": {},
     "output_type": "display_data"
    },
    {
     "data": {
      "application/vnd.jupyter.widget-view+json": {
       "model_id": "7629f7effea64ba0bf2fc8c6df3dad8f",
       "version_major": 2,
       "version_minor": 0
      },
      "text/plain": [
       "[1/7]  14%|#4         [00:00<?]"
      ]
     },
     "metadata": {},
     "output_type": "display_data"
    },
    {
     "data": {
      "application/vnd.jupyter.widget-view+json": {
       "model_id": "d7befafa462144238ace14bf7e7c54e0",
       "version_major": 2,
       "version_minor": 0
      },
      "text/plain": [
       "[1/7]  14%|#4         [00:00<?]"
      ]
     },
     "metadata": {},
     "output_type": "display_data"
    },
    {
     "data": {
      "application/vnd.jupyter.widget-view+json": {
       "model_id": "6494da37c06f416ca41e3a799d8ea26b",
       "version_major": 2,
       "version_minor": 0
      },
      "text/plain": [
       "[1/7]  14%|#4         [00:00<?]"
      ]
     },
     "metadata": {},
     "output_type": "display_data"
    },
    {
     "data": {
      "application/vnd.jupyter.widget-view+json": {
       "model_id": "f61919fb7c234be188304103a2226638",
       "version_major": 2,
       "version_minor": 0
      },
      "text/plain": [
       "[1/7]  14%|#4         [00:00<?]"
      ]
     },
     "metadata": {},
     "output_type": "display_data"
    },
    {
     "data": {
      "application/vnd.jupyter.widget-view+json": {
       "model_id": "fa7e8869d52c40008898475be102ec03",
       "version_major": 2,
       "version_minor": 0
      },
      "text/plain": [
       "[1/7]  14%|#4         [00:00<?]"
      ]
     },
     "metadata": {},
     "output_type": "display_data"
    },
    {
     "data": {
      "application/vnd.jupyter.widget-view+json": {
       "model_id": "8a45223826c942c89983b6a9d446b40c",
       "version_major": 2,
       "version_minor": 0
      },
      "text/plain": [
       "[1/7]  14%|#4         [00:00<?]"
      ]
     },
     "metadata": {},
     "output_type": "display_data"
    },
    {
     "data": {
      "application/vnd.jupyter.widget-view+json": {
       "model_id": "f0a627f9175942dfaccc57ea742475d9",
       "version_major": 2,
       "version_minor": 0
      },
      "text/plain": [
       "[1/7]  14%|#4         [00:00<?]"
      ]
     },
     "metadata": {},
     "output_type": "display_data"
    },
    {
     "data": {
      "application/vnd.jupyter.widget-view+json": {
       "model_id": "c500b0a2f3d54756b89f0e9db075f93f",
       "version_major": 2,
       "version_minor": 0
      },
      "text/plain": [
       "[1/7]  14%|#4         [00:00<?]"
      ]
     },
     "metadata": {},
     "output_type": "display_data"
    },
    {
     "data": {
      "application/vnd.jupyter.widget-view+json": {
       "model_id": "6bd15bd41dcb4706ad3fdf0ef55036c3",
       "version_major": 2,
       "version_minor": 0
      },
      "text/plain": [
       "[1/7]  14%|#4         [00:00<?]"
      ]
     },
     "metadata": {},
     "output_type": "display_data"
    },
    {
     "data": {
      "application/vnd.jupyter.widget-view+json": {
       "model_id": "35c1afcdb041428f846b777a2cf4666d",
       "version_major": 2,
       "version_minor": 0
      },
      "text/plain": [
       "[1/7]  14%|#4         [00:00<?]"
      ]
     },
     "metadata": {},
     "output_type": "display_data"
    },
    {
     "data": {
      "text/plain": [
       "State:\n",
       "\titeration: 5005\n",
       "\tepoch: 715\n",
       "\tepoch_length: 7\n",
       "\tmax_epochs: 715.0\n",
       "\toutput: 0.6194212436676025\n",
       "\tbatch: <class 'list'>\n",
       "\tmetrics: <class 'dict'>\n",
       "\tdataloader: <class 'torch.utils.data.dataloader.DataLoader'>\n",
       "\tseed: <class 'NoneType'>\n",
       "\ttimes: <class 'dict'>"
      ]
     },
     "execution_count": 13,
     "metadata": {},
     "output_type": "execute_result"
    }
   ],
   "source": [
    "trainer.run(dl_train, max_epochs=epochs)"
   ]
  },
  {
   "cell_type": "code",
   "execution_count": null,
   "metadata": {},
   "outputs": [],
   "source": [
    "model.eval()\n",
    "if DUE:\n",
    "    likelihood.eval()\n",
    "\n",
    "x_lin = np.linspace(-domain, domain, 100)\n",
    "            \n",
    "with torch.no_grad(), gpytorch.settings.num_likelihood_samples(64):\n",
    "    xx = torch.tensor(x_lin[..., None]).float()\n",
    "    if torch.cuda.is_available():\n",
    "        xx = xx.cuda()\n",
    "    pred = model(xx)\n",
    "\n",
    "    if DUE:\n",
    "        ol = likelihood(pred)\n",
    "        output = ol.mean.cpu()\n",
    "        output_std = ol.stddev.cpu()\n",
    "    else:\n",
    "        output = pred[0].squeeze().cpu()\n",
    "        output_var = pred[1].diagonal()\n",
    "        output_std = output_var.sqrt().cpu()"
   ]
  },
  {
   "cell_type": "code",
   "execution_count": 15,
   "metadata": {
    "ExecuteTime": {
     "end_time": "2024-02-29T22:55:35.030885Z",
     "start_time": "2024-02-29T22:55:34.985329Z"
    }
   },
   "outputs": [
    {
     "data": {
      "text/plain": [
       "tensor(0.0774)"
      ]
     },
     "execution_count": 15,
     "metadata": {},
     "output_type": "execute_result"
    }
   ],
   "source": [
    "model.eval()\n",
    "if DUE:\n",
    "    likelihood.eval()\n",
    "\n",
    "\n",
    "with torch.no_grad(), gpytorch.settings.num_likelihood_samples(100):\n",
    "    xx = torch.from_numpy(X_test[:100]).float()\n",
    "    yy = torch.from_numpy(y_test[:100]).float()\n",
    "    pred_test = model(xx)\n",
    "    ol = likelihood(pred_test)\n",
    "    output = ol.mean.cpu()\n",
    "    mse = F.mse_loss(output, yy)\n",
    "    \n",
    "    \n",
    "mse"
   ]
  },
  {
   "cell_type": "code",
   "execution_count": null,
   "metadata": {},
   "outputs": [],
   "source": [
    "plt.xlim(-domain, domain)\n",
    "plt.ylim(-10, 10)\n",
    "plt.fill_between(x_lin, output - output_std, output + output_std, alpha=0.2, color='b')\n",
    "plt.fill_between(x_lin, output - 2 * output_std, output + 2 * output_std, alpha=0.2, color='b')\n",
    "\n",
    "plt.scatter([], [])\n",
    "plt.scatter([], [])\n",
    "X_vis, y_vis = make_data(n_samples=300)\n",
    "\n",
    "plt.scatter(X_vis.squeeze(), y_vis, facecolors='none', edgecolors='g', linewidth=2)\n",
    "plt.plot(x_lin, output, alpha=0.5)"
   ]
  },
  {
   "cell_type": "code",
   "execution_count": null,
   "metadata": {},
   "outputs": [],
   "source": [
    "plt.xlim(-domain, domain)\n",
    "\n",
    "for i in range(12):\n",
    "    plt.plot(x_lin, ol.rsample().cpu(), alpha=0.3, color='b')\n",
    "    \n",
    "plt.scatter([], [])\n",
    "plt.scatter([], [])\n",
    "X_vis, y_vis = make_data(n_samples=200)\n",
    "plt.scatter(X_vis.squeeze(), y_vis, s=50)"
   ]
  },
  {
   "cell_type": "code",
   "execution_count": null,
   "metadata": {},
   "outputs": [],
   "source": [
    "# Inspired by https://docs.gpytorch.ai/en/stable/examples/01_Exact_GPs/Simple_GP_Regression.html\n",
    "# only works on 1,000 samples\n",
    "\n",
    "train_x, train_y = torch.tensor(x).float(), torch.tensor(y).float()\n",
    "\n",
    "class ExactGPModel(gpytorch.models.ExactGP):\n",
    "    def __init__(self, train_x, train_y, likelihood):\n",
    "        super(ExactGPModel, self).__init__(train_x, train_y, likelihood)\n",
    "        self.mean_module = gpytorch.means.ConstantMean()\n",
    "        self.covar_module = gpytorch.kernels.ScaleKernel(gpytorch.kernels.RBFKernel())\n",
    "\n",
    "    def forward(self, x):\n",
    "        mean_x = self.mean_module(x)\n",
    "        covar_x = self.covar_module(x)\n",
    "        return gpytorch.distributions.MultivariateNormal(mean_x, covar_x)\n",
    "\n",
    "likelihood = GaussianLikelihood()\n",
    "exact_gp = ExactGPModel(train_x, train_y, likelihood)\n",
    "\n",
    "exact_gp.train()\n",
    "likelihood.train()\n",
    "\n",
    "optimizer = torch.optim.Adam(exact_gp.parameters(), lr=0.1)\n",
    "\n",
    "mll = gpytorch.mlls.ExactMarginalLogLikelihood(likelihood, exact_gp)\n",
    "\n",
    "training_iter = 100\n",
    "\n",
    "for i in range(training_iter):\n",
    "    optimizer.zero_grad()\n",
    "    output = exact_gp(train_x)\n",
    "    loss = -mll(output, train_y)\n",
    "    loss.backward()\n",
    "    print('Iter %d/%d - Loss: %.3f   lengthscale: %.3f   noise: %.3f' % (\n",
    "        i + 1, training_iter, loss.item(),\n",
    "        exact_gp.covar_module.base_kernel.lengthscale.item(),\n",
    "        exact_gp.likelihood.noise.item()\n",
    "    ))\n",
    "    optimizer.step()"
   ]
  },
  {
   "cell_type": "code",
   "execution_count": null,
   "metadata": {},
   "outputs": [],
   "source": [
    "exact_gp.eval()\n",
    "likelihood.eval()\n",
    "\n",
    "with torch.no_grad(), gpytorch.settings.fast_pred_var():\n",
    "    test_x = torch.linspace(-domain, domain, 100)\n",
    "    observed_pred = likelihood(exact_gp(test_x))\n",
    "\n",
    "\n",
    "    output = observed_pred.mean\n",
    "    output_std = observed_pred.stddev\n",
    "\n",
    "plt.xlim(-domain, domain)\n",
    "plt.fill_between(x_lin, output - output_std, output + output_std, alpha=0.2, color='b')\n",
    "plt.fill_between(x_lin, output - 2 * output_std, output + 2 * output_std, alpha=0.2, color='b')\n",
    "\n",
    "plt.scatter([], [])\n",
    "plt.scatter([], [])\n",
    "X_vis, y_vis = make_data(n_samples=300)\n",
    "\n",
    "plt.scatter(X_vis.squeeze(), y_vis, facecolors='none', edgecolors='g', linewidth=2)\n",
    "plt.plot(x_lin, output, alpha=0.5)"
   ]
  }
 ],
 "metadata": {
  "kernelspec": {
   "display_name": "cirkit1",
   "language": "python",
   "name": "cirkit1"
  },
  "language_info": {
   "codemirror_mode": {
    "name": "ipython",
    "version": 3
   },
   "file_extension": ".py",
   "mimetype": "text/x-python",
   "name": "python",
   "nbconvert_exporter": "python",
   "pygments_lexer": "ipython3",
   "version": "3.8.18"
  },
  "varInspector": {
   "cols": {
    "lenName": 16,
    "lenType": 16,
    "lenVar": 40
   },
   "kernels_config": {
    "python": {
     "delete_cmd_postfix": "",
     "delete_cmd_prefix": "del ",
     "library": "var_list.py",
     "varRefreshCmd": "print(var_dic_list())"
    },
    "r": {
     "delete_cmd_postfix": ") ",
     "delete_cmd_prefix": "rm(",
     "library": "var_list.r",
     "varRefreshCmd": "cat(var_dic_list()) "
    }
   },
   "types_to_exclude": [
    "module",
    "function",
    "builtin_function_or_method",
    "instance",
    "_Feature"
   ],
   "window_display": false
  }
 },
 "nbformat": 4,
 "nbformat_minor": 4
}
