{
 "cells": [
  {
   "cell_type": "code",
   "execution_count": 582,
   "metadata": {},
   "outputs": [],
   "source": [
    "import sys\n",
    "sys.path.append(\"..\")\n",
    "import torch\n",
    "import torch.nn as nn\n",
    "import numpy as np\n",
    "import matplotlib.pyplot as plt\n",
    "import matplotlib.cm as cm\n",
    "from mpl_toolkits.mplot3d import Axes3D  \n",
    "# from rbf_layer import RBFLayer, l_norm, rbf_gaussian\n",
    "from rbf_layer import RBFLayer\n",
    "from hbf_layer import HBFLayer\n",
    "from rbf_utils import l_norm, rbf_gaussian\n",
    "from uci_datasets import Dataset"
   ]
  },
  {
   "cell_type": "code",
   "execution_count": 583,
   "metadata": {},
   "outputs": [
    {
     "name": "stdout",
     "output_type": "stream",
     "text": [
      "The autoreload extension is already loaded. To reload it, use:\n",
      "  %reload_ext autoreload\n"
     ]
    }
   ],
   "source": [
    "%load_ext autoreload\n",
    "%autoreload 2"
   ]
  },
  {
   "cell_type": "code",
   "execution_count": 584,
   "metadata": {},
   "outputs": [
    {
     "name": "stdout",
     "output_type": "stream",
     "text": [
      "protein dataset, N=45730, d=9\n"
     ]
    },
    {
     "data": {
      "text/plain": [
       "((41157, 9), (4573, 9))"
      ]
     },
     "execution_count": 584,
     "metadata": {},
     "output_type": "execute_result"
    }
   ],
   "source": [
    "data = Dataset(\"protein\")\n",
    "x_train, y_train, x_test, y_test = data.get_split(split=2)\n",
    "x_train.shape, x_test.shape"
   ]
  },
  {
   "cell_type": "code",
   "execution_count": 389,
   "metadata": {},
   "outputs": [],
   "source": []
  },
  {
   "cell_type": "code",
   "execution_count": 585,
   "metadata": {},
   "outputs": [],
   "source": [
    "x_train_real = x_train[:36584] #32000 # 2053 13903  36625  42800  36584    36584     39063   13281    2672   # RE-RUN # 13279   # 1279  4699 4701  824   12000\n",
    "y_train_real = y_train[:36584]\n",
    "y_train_real = y_train_real.squeeze()\n",
    "x_val = x_train[36584:]\n",
    "y_val = y_train[36584:]\n",
    "y_val = y_val.squeeze()\n",
    "y_test = y_test.squeeze()\n",
    "\n",
    "mean = x_train_real.mean(axis=0)\n",
    "std = x_train_real.std(axis=0)\n",
    "\n",
    "# x_train_real_normalized = (x_train_real - mean) / std\n",
    "# x_val_normalized = (x_val - mean) / std\n",
    "# x_test_normalized = (x_test - mean) / std\n",
    "\n",
    "x_train_real_normalized = x_train_real\n",
    "x_val_normalized = x_val\n",
    "x_test_normalized = x_test\n",
    "\n"
   ]
  },
  {
   "cell_type": "code",
   "execution_count": 586,
   "metadata": {},
   "outputs": [],
   "source": [
    "np.random.seed(24)\n",
    "torch.manual_seed(24) ####################### CHANGE\n",
    "\n",
    "batch_size = 32 # 64\n",
    "\n",
    "# X_train, y_train = make_data(n_samples)\n",
    "# X_test, y_test = X_train, y_train\n",
    "\n",
    "# x_train, y_train, x_test, y_test\n",
    "\n",
    "ds_train = torch.utils.data.TensorDataset(torch.from_numpy(x_train_real_normalized).float(), torch.from_numpy(y_train_real).float())\n",
    "dl_train = torch.utils.data.DataLoader(ds_train, batch_size=batch_size, shuffle=True, drop_last=True) # suffle \n",
    "\n",
    "ds_val = torch.utils.data.TensorDataset(torch.from_numpy(x_val_normalized).float(), torch.from_numpy(y_val).float())\n",
    "dl_val = torch.utils.data.DataLoader(ds_val, batch_size=512, shuffle=False)\n",
    "\n",
    "ds_test = torch.utils.data.TensorDataset(torch.from_numpy(x_test_normalized).float(), torch.from_numpy(y_test).float())\n",
    "dl_test = torch.utils.data.DataLoader(ds_test, batch_size=512, shuffle=False)"
   ]
  },
  {
   "cell_type": "code",
   "execution_count": 587,
   "metadata": {},
   "outputs": [],
   "source": [
    "# Define an RBF layer where the dimensionality of the input feature is 2,\n",
    "# the number of kernels is 3, and 2 output features\n",
    "\n",
    "input_dim = 9\n",
    "\n",
    "# euclidean norm\n",
    "def euclidean_norm(x):\n",
    "    return torch.norm(x, p=2, dim=-1)\n",
    "\n",
    "\n",
    "# Gaussian RBF\n",
    "def rbf_gaussian(x):\n",
    "    return (-x.pow(2)).exp()\n",
    "\n",
    "rbf = HBFLayer(in_features_dim=input_dim,\n",
    "               num_kernels=1004,\n",
    "               out_features_dim=1,\n",
    "               radial_function=rbf_gaussian,\n",
    "               norm_function=euclidean_norm,\n",
    "               normalization=False)"
   ]
  },
  {
   "cell_type": "code",
   "execution_count": 588,
   "metadata": {},
   "outputs": [
    {
     "name": "stdout",
     "output_type": "stream",
     "text": [
      "torch.Size([1004, 1])\n",
      "torch.Size([9, 1004])\n",
      "torch.Size([9, 1004])\n"
     ]
    }
   ],
   "source": [
    "for param in rbf.parameters():\n",
    "    print(param.shape)"
   ]
  },
  {
   "cell_type": "code",
   "execution_count": 589,
   "metadata": {},
   "outputs": [
    {
     "data": {
      "text/plain": [
       "19076"
      ]
     },
     "execution_count": 589,
     "metadata": {},
     "output_type": "execute_result"
    }
   ],
   "source": [
    "total_params = sum(p.numel() for p in rbf.parameters() if p.requires_grad)\n",
    "total_params"
   ]
  },
  {
   "cell_type": "code",
   "execution_count": 590,
   "metadata": {},
   "outputs": [
    {
     "name": "stdout",
     "output_type": "stream",
     "text": [
      "Epoch 1: Train Loss: 0.5951, Val Loss: 0.6070\n",
      "Epoch 2: Train Loss: 0.5951, Val Loss: 0.6070\n",
      "Epoch 3: Train Loss: 0.5951, Val Loss: 0.6070\n",
      "Epoch 4: Train Loss: 0.5950, Val Loss: 0.6070\n",
      "Epoch 5: Train Loss: 0.5951, Val Loss: 0.6070\n",
      "Epoch 6: Train Loss: 0.5950, Val Loss: 0.6070\n",
      "Epoch 7: Train Loss: 0.5951, Val Loss: 0.6070\n",
      "Epoch 8: Train Loss: 0.5951, Val Loss: 0.6070\n",
      "Epoch 9: Train Loss: 0.5951, Val Loss: 0.6070\n",
      "Epoch 10: Train Loss: 0.5951, Val Loss: 0.6070\n",
      "Epoch 11: Train Loss: 0.5950, Val Loss: 0.6070\n",
      "Epoch 12: Train Loss: 0.5951, Val Loss: 0.6070\n",
      "Epoch 13: Train Loss: 0.5951, Val Loss: 0.6070\n",
      "Epoch 14: Train Loss: 0.5951, Val Loss: 0.6070\n",
      "Epoch 15: Train Loss: 0.5951, Val Loss: 0.6070\n",
      "Epoch 16: Train Loss: 0.5951, Val Loss: 0.6070\n",
      "Epoch 17: Train Loss: 0.5951, Val Loss: 0.6070\n",
      "Epoch 18: Train Loss: 0.5951, Val Loss: 0.6070\n",
      "Epoch 19: Train Loss: 0.5951, Val Loss: 0.6070\n",
      "Epoch 20: Train Loss: 0.5951, Val Loss: 0.6070\n",
      "Epoch 21: Train Loss: 0.5951, Val Loss: 0.6070\n",
      "Epoch 22: Train Loss: 0.5952, Val Loss: 0.6070\n",
      "Epoch 23: Train Loss: 0.5951, Val Loss: 0.6070\n",
      "Epoch 24: Train Loss: 0.5951, Val Loss: 0.6070\n",
      "Epoch 25: Train Loss: 0.5951, Val Loss: 0.6070\n",
      "Epoch 26: Train Loss: 0.5951, Val Loss: 0.6070\n",
      "Epoch 27: Train Loss: 0.5951, Val Loss: 0.6070\n",
      "Epoch 28: Train Loss: 0.5950, Val Loss: 0.6070\n",
      "Epoch 29: Train Loss: 0.5950, Val Loss: 0.6070\n",
      "Epoch 30: Train Loss: 0.5951, Val Loss: 0.6070\n",
      "Epoch 31: Train Loss: 0.5950, Val Loss: 0.6070\n",
      "Epoch 32: Train Loss: 0.5951, Val Loss: 0.6070\n",
      "Epoch 33: Train Loss: 0.5951, Val Loss: 0.6070\n"
     ]
    }
   ],
   "source": [
    "import torch\n",
    "import torch.nn as nn\n",
    "import torch.optim as optim\n",
    "import numpy as np\n",
    "\n",
    "# Set random seed for reproducibility\n",
    "torch.manual_seed(24)\n",
    "np.random.seed(24)\n",
    "\n",
    "# Parameters\n",
    "batch_size = 32\n",
    "epochs = 100\n",
    "learning_rate = 1e-3\n",
    "\n",
    "# Assume pc_rbfn is your model, already defined and initialized elsewhere\n",
    "\n",
    "# Loss function\n",
    "criterion = nn.MSELoss()\n",
    "\n",
    "# Optimizer\n",
    "optimizer = optim.Adam(rbf.parameters(), lr=learning_rate)\n",
    "\n",
    "\n",
    "nan_counter = 0\n",
    "exit_loops = False\n",
    "\n",
    "# Training and Validation Loop\n",
    "for epoch in range(epochs):\n",
    "    # Training phase\n",
    "    rbf.train()\n",
    "    train_loss = 0.0\n",
    "    \n",
    "    for inputs, targets in dl_train:\n",
    "        optimizer.zero_grad()\n",
    "        outputs = rbf(inputs)\n",
    "        outputs = outputs.squeeze(1)  # Ensure outputs match the target's shape\n",
    "        \n",
    "        # if(torch.isnan(outputs).any() == False):\n",
    "        #     print(\"no NAN\")\n",
    "\n",
    "        if(torch.isnan(outputs).any()):\n",
    "            print(\"outputs\", outputs)\n",
    "        \n",
    "        if(torch.isnan(targets).any()):\n",
    "            print(\"targets\", targets)\n",
    "        \n",
    "        loss = criterion(outputs, targets)\n",
    "        if(torch.isnan(loss).any()):\n",
    "            print(\"loss\", loss)\n",
    "            nan_counter += 1\n",
    "        if (nan_counter > 3):\n",
    "            exit_loops = True\n",
    "            break\n",
    "        loss.backward()\n",
    "        optimizer.step()\n",
    "        train_loss += loss.item() * inputs.size(0)\n",
    "        \n",
    "    if exit_loops:\n",
    "        break\n",
    "    train_loss /= len(dl_train.dataset)\n",
    "\n",
    "    # Validation phase\n",
    "    rbf.eval()\n",
    "    val_loss = 0.0\n",
    "    with torch.no_grad():\n",
    "        for inputs, targets in dl_val:\n",
    "            outputs = rbf(inputs)\n",
    "            outputs = outputs.squeeze(1)  # Ensure outputs match the target's shape\n",
    "            loss = criterion(outputs, targets)\n",
    "            val_loss += loss.item() * inputs.size(0)\n",
    "    val_loss /= len(dl_val.dataset)\n",
    "\n",
    "    print(f\"Epoch {epoch+1}: Train Loss: {train_loss:.4f}, Val Loss: {val_loss:.4f}\")\n",
    "\n"
   ]
  },
  {
   "cell_type": "code",
   "execution_count": 581,
   "metadata": {},
   "outputs": [
    {
     "name": "stdout",
     "output_type": "stream",
     "text": [
      "Test RMSE: 0.7789\n"
     ]
    }
   ],
   "source": [
    "# Testing\n",
    "test_loss = 0.0\n",
    "rbf.eval()  # Ensure model is in evaluation mode\n",
    "with torch.no_grad():  # No gradients needed\n",
    "    for inputs, targets in dl_test:\n",
    "        outputs = rbf(inputs).squeeze(1)\n",
    "        loss = criterion(outputs, targets)\n",
    "        test_loss += loss.item() * inputs.size(0)\n",
    "test_loss /= len(dl_test.dataset)\n",
    "rmse = np.sqrt(test_loss)  # Calculate RMSE\n",
    "print(f\"Test RMSE: {rmse:.4f}\")"
   ]
  },
  {
   "cell_type": "code",
   "execution_count": 166,
   "metadata": {},
   "outputs": [
    {
     "data": {
      "text/plain": [
       "torch.Size([2, 2])"
      ]
     },
     "execution_count": 166,
     "metadata": {},
     "output_type": "execute_result"
    }
   ],
   "source": [
    "tensor = torch.rand((2,2))\n",
    "tensor.shape"
   ]
  },
  {
   "cell_type": "code",
   "execution_count": 167,
   "metadata": {},
   "outputs": [
    {
     "ename": "RuntimeError",
     "evalue": "The expanded size of the tensor (4) must match the existing size (2) at non-singleton dimension 3.  Target sizes: [3, 2, 2, 4].  Tensor sizes: [2, 2]",
     "output_type": "error",
     "traceback": [
      "\u001b[0;31m---------------------------------------------------------------------------\u001b[0m",
      "\u001b[0;31mRuntimeError\u001b[0m                              Traceback (most recent call last)",
      "Cell \u001b[0;32mIn[167], line 1\u001b[0m\n\u001b[0;32m----> 1\u001b[0m \u001b[43mtensor\u001b[49m\u001b[38;5;241;43m.\u001b[39;49m\u001b[43mexpand\u001b[49m\u001b[43m(\u001b[49m\u001b[38;5;241;43m3\u001b[39;49m\u001b[43m,\u001b[49m\u001b[43m \u001b[49m\u001b[38;5;241;43m2\u001b[39;49m\u001b[43m,\u001b[49m\u001b[43m \u001b[49m\u001b[38;5;241;43m2\u001b[39;49m\u001b[43m,\u001b[49m\u001b[43m \u001b[49m\u001b[38;5;241;43m4\u001b[39;49m\u001b[43m)\u001b[49m\n",
      "\u001b[0;31mRuntimeError\u001b[0m: The expanded size of the tensor (4) must match the existing size (2) at non-singleton dimension 3.  Target sizes: [3, 2, 2, 4].  Tensor sizes: [2, 2]"
     ]
    }
   ],
   "source": [
    "tensor.expand(3, 2, 2, 4)"
   ]
  },
  {
   "cell_type": "code",
   "execution_count": null,
   "metadata": {},
   "outputs": [],
   "source": []
  },
  {
   "cell_type": "code",
   "execution_count": null,
   "metadata": {},
   "outputs": [],
   "source": []
  },
  {
   "cell_type": "code",
   "execution_count": null,
   "metadata": {},
   "outputs": [],
   "source": []
  },
  {
   "cell_type": "code",
   "execution_count": null,
   "metadata": {},
   "outputs": [],
   "source": []
  },
  {
   "cell_type": "code",
   "execution_count": null,
   "metadata": {},
   "outputs": [],
   "source": []
  },
  {
   "cell_type": "code",
   "execution_count": null,
   "metadata": {},
   "outputs": [],
   "source": []
  },
  {
   "cell_type": "code",
   "execution_count": null,
   "metadata": {},
   "outputs": [],
   "source": []
  },
  {
   "cell_type": "code",
   "execution_count": null,
   "metadata": {},
   "outputs": [],
   "source": []
  }
 ],
 "metadata": {
  "kernelspec": {
   "display_name": "cirkit1",
   "language": "python",
   "name": "python3"
  },
  "language_info": {
   "codemirror_mode": {
    "name": "ipython",
    "version": 3
   },
   "file_extension": ".py",
   "mimetype": "text/x-python",
   "name": "python",
   "nbconvert_exporter": "python",
   "pygments_lexer": "ipython3",
   "version": "3.8.18"
  }
 },
 "nbformat": 4,
 "nbformat_minor": 2
}
