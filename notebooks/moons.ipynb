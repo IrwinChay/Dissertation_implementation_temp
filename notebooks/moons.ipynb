{
 "cells": [
  {
   "cell_type": "markdown",
   "metadata": {},
   "source": [
    "# Train and Visualize a PC on the Moons Dataset"
   ]
  },
  {
   "cell_type": "code",
   "execution_count": null,
   "metadata": {
    "ExecuteTime": {
     "end_time": "2024-03-14T12:40:20.730191Z",
     "start_time": "2024-03-14T12:39:59.185490Z"
    }
   },
   "outputs": [],
   "source": [
    "import random\n",
    "import torch\n",
    "import numpy as np\n",
    "import matplotlib.pyplot as plt"
   ]
  },
  {
   "cell_type": "code",
   "execution_count": null,
   "metadata": {},
   "outputs": [],
   "source": [
    "device = torch.device(\"cpu\")  # The device to use, e.g., \"cpu\", \"cuda\", \"cuda:1\""
   ]
  },
  {
   "cell_type": "markdown",
   "metadata": {},
   "source": [
    "Set the random seeds."
   ]
  },
  {
   "cell_type": "code",
   "execution_count": null,
   "metadata": {},
   "outputs": [],
   "source": [
    "random.seed(42)\n",
    "np.random.seed(42)\n",
    "torch.manual_seed(42)\n",
    "if 'cuda' in device.type:\n",
    "    torch.cuda.manual_seed(42)"
   ]
  },
  {
   "cell_type": "markdown",
   "metadata": {},
   "source": [
    "Generate the Dataset"
   ]
  },
  {
   "cell_type": "code",
   "execution_count": null,
   "metadata": {},
   "outputs": [],
   "source": [
    "from sklearn.datasets import make_moons\n",
    "from sklearn.model_selection import train_test_split\n",
    "\n",
    "data = make_moons(n_samples = 3000, noise=0.1, random_state=0)\n",
    "\n",
    "X, y = data\n",
    "X_train, X_test, y_train, y_test = train_test_split(\n",
    "    X, y, test_size=0.2, random_state=42\n",
    ") "
   ]
  },
  {
   "cell_type": "markdown",
   "metadata": {},
   "source": [
    "## create the PC"
   ]
  },
  {
   "cell_type": "code",
   "execution_count": null,
   "metadata": {},
   "outputs": [],
   "source": [
    "import cirkit.new.region_graph as rg\n",
    "\n",
    "# region_graph = rg.algorithms.FullyFactorized(num_vars=2)\n",
    "region_graph = rg.algorithms.QuadTree(width, height, struct_decomp=False)"
   ]
  },
  {
   "cell_type": "code",
   "execution_count": null,
   "metadata": {},
   "outputs": [],
   "source": [
    "assert region_graph.is_smooth and region_graph.is_decomposable and region_graph.is_structured_decomposable and region_graph.is_omni_compatible\n",
    "print(region_graph)"
   ]
  },
  {
   "cell_type": "code",
   "execution_count": null,
   "metadata": {},
   "outputs": [],
   "source": [
    "from cirkit.new.symbolic import (\n",
    "    SymbolicTensorizedCircuit,\n",
    ")\n",
    "from cirkit.new.layers import (\n",
    "    CPLayer,\n",
    "    NormalLayer,\n",
    ")\n",
    "from cirkit.new.utils.type_aliases import ReparamFactory, SymbLayerCfg\n",
    "from cirkit.new.reparams import EFNormalReparam, SoftmaxReparam\n"
   ]
  },
  {
   "cell_type": "code",
   "execution_count": null,
   "metadata": {},
   "outputs": [],
   "source": [
    "input_layer_cls = NormalLayer\n",
    "input_reparam: ReparamFactory = EFNormalReparam\n",
    "\n",
    "sum_layer_cls = CPLayer\n",
    "sum_layer_kwargs = {}\n",
    "sum_reparam = SoftmaxReparam\n",
    "\n",
    "prod_layer_cls = CPLayer\n",
    "prod_layer_kwargs = {}\n",
    "\n",
    "symb_circuit = SymbolicTensorizedCircuit(region_graph,\n",
    "                                         num_input_units=1024,\n",
    "                                         num_sum_units=512,\n",
    "                                         input_cfg=SymbLayerCfg(\n",
    "                                            layer_cls=input_layer_cls,\n",
    "                                            reparam_factory=input_reparam,\n",
    "                                        ),\n",
    "                                        sum_cfg=SymbLayerCfg(\n",
    "                                            layer_cls=sum_layer_cls,\n",
    "                                            layer_kwargs=sum_layer_kwargs, \n",
    "                                            reparam_factory=sum_reparam,\n",
    "                                        ),\n",
    "                                        prod_cfg=SymbLayerCfg(\n",
    "                                            layer_cls=prod_layer_cls, \n",
    "                                            layer_kwargs=prod_layer_kwargs \n",
    "                                        ),\n",
    ")"
   ]
  },
  {
   "cell_type": "code",
   "execution_count": null,
   "metadata": {},
   "outputs": [],
   "source": [
    "from cirkit.new.model.tensorized_circuit import TensorizedCircuit\n",
    "tens_circuit = TensorizedCircuit(symb_circuit)"
   ]
  },
  {
   "cell_type": "code",
   "execution_count": null,
   "metadata": {},
   "outputs": [],
   "source": [
    "tens_circuit.to(device)\n",
    "print(tens_circuit)"
   ]
  },
  {
   "cell_type": "markdown",
   "metadata": {},
   "source": [
    "prepare the dataset for pytorch"
   ]
  },
  {
   "cell_type": "code",
   "execution_count": null,
   "metadata": {},
   "outputs": [],
   "source": [
    "from torch import optim\n",
    "from torch.utils.data import DataLoader\n",
    "train_dataloader = DataLoader(X_train, shuffle=True, batch_size=64)\n",
    "test_dataloader = DataLoader(X_test, shuffle=False, batch_size=256)\n",
    "#optimizer = optim.SGD(tens_circuit.parameters(), lr=0.5, momentum=0.9)\n",
    "optimizer = optim.Adam(tens_circuit.parameters(), lr=0.05)"
   ]
  },
  {
   "cell_type": "markdown",
   "metadata": {},
   "source": [
    "setting up the data for the plots"
   ]
  },
  {
   "cell_type": "code",
   "execution_count": null,
   "metadata": {},
   "outputs": [],
   "source": [
    "x1_bounds = (-1.5,2.5)\n",
    "x2_bounds = (-1,1.5)\n",
    "num_samples = 400\n",
    "x2 = np.linspace(0, 1, num_samples)*(x2_bounds[1] - x2_bounds[0]) + x2_bounds[0]\n",
    "x1 = np.linspace(0, 1, num_samples)*(x1_bounds[1] - x1_bounds[0]) + x1_bounds[0]\n",
    "x1v, x2v = np.meshgrid(x1, x2)\n",
    "X_meshgrid_np = np.stack((x1v,x2v), axis=-1).reshape(-1,2)\n",
    "X_meshgrid_np.shape\n",
    "X_meshgrid = torch.from_numpy(X_meshgrid_np).float()"
   ]
  },
  {
   "cell_type": "code",
   "execution_count": null,
   "metadata": {},
   "outputs": [],
   "source": [
    "X_meshgrid.min(0).values, X_meshgrid.max(0).values"
   ]
  },
  {
   "cell_type": "code",
   "execution_count": null,
   "metadata": {},
   "outputs": [],
   "source": [
    "from matplotlib.pyplot import xlim, ylim\n",
    "\n",
    "def print_density(title=None, scatter=False):\n",
    "    log_score = tens_circuit(X_meshgrid.to(device).float().unsqueeze(dim=-1))\n",
    "    log_score = log_score.reshape(num_samples,num_samples)\n",
    "    plt.imshow(log_score.cpu().detach().numpy(), extent=(*x1_bounds, *x2_bounds), origin=\"lower\")\n",
    "    if title is not None:\n",
    "        plt.title(title)\n",
    "    if scatter:\n",
    "        plt.scatter(X_train[:, 0], X_train[:, 1], alpha=0.5)\n",
    "    plt.show()"
   ]
  },
  {
   "cell_type": "code",
   "execution_count": null,
   "metadata": {},
   "outputs": [],
   "source": [
    "print_density(\"initial density\")"
   ]
  },
  {
   "cell_type": "code",
   "execution_count": null,
   "metadata": {},
   "outputs": [],
   "source": [
    "plt.title(\"data samples\")\n",
    "plt.scatter(X_train[:, 0], X_train[:, 1], c=y_train, edgecolors=\"k\")\n",
    "plt.show()"
   ]
  },
  {
   "cell_type": "code",
   "execution_count": null,
   "metadata": {},
   "outputs": [],
   "source": [
    "losses = []"
   ]
  },
  {
   "cell_type": "code",
   "execution_count": null,
   "metadata": {},
   "outputs": [],
   "source": [
    "num_epochs = 500\n",
    "for epoch_idx in range(num_epochs):\n",
    "    running_loss = 0.0\n",
    "    for batch in train_dataloader:\n",
    "        batch = batch.to(device).float().unsqueeze(dim=-1)  # Add a channel dimension\n",
    "        log_score = tens_circuit(batch)\n",
    "        lls = log_score\n",
    "        loss = -torch.mean(lls)   # The loss is the negative average log-likelihood\n",
    "        optimizer.zero_grad()\n",
    "        loss.backward()\n",
    "        optimizer.step()\n",
    "        running_loss += loss * len(batch)\n",
    "\n",
    "    losses.append((running_loss / len(X_train)).cpu().detach().numpy())\n",
    "    if epoch_idx % (num_epochs // 5) == 0:\n",
    "        print_density(f\"Epoch: {epoch_idx}\")\n",
    "    if epoch_idx % (num_epochs // 100) == 0:\n",
    "        print(f\"Epoch {epoch_idx}: Average NLL: {running_loss / len(X_train):.3f}\")\n",
    "print_density(f\"final Epoch: {epoch_idx}\", scatter=False)\n",
    "print_density(f\"final Epoch: {epoch_idx} \\nwith training data-set\", scatter=True)"
   ]
  },
  {
   "cell_type": "markdown",
   "metadata": {},
   "source": [
    "test hold-out average log-likelihood"
   ]
  },
  {
   "cell_type": "code",
   "execution_count": null,
   "metadata": {},
   "outputs": [],
   "source": [
    "test_running_loss = 0.0\n",
    "with torch.no_grad():\n",
    "    for batch in test_dataloader:\n",
    "        batch = batch.to(device).float().unsqueeze(dim=-1)  # Add a channel dimension\n",
    "        log_score = tens_circuit(batch)\n",
    "        lls = log_score\n",
    "        loss = -torch.mean(lls)   # The loss is the negative average log-likelihood\n",
    "        test_running_loss += loss * len(batch)\n",
    "train_running_loss = 0.0\n",
    "with torch.no_grad():\n",
    "    for batch in train_dataloader:\n",
    "        batch = batch.to(device).float().unsqueeze(dim=-1)  # Add a channel dimension\n",
    "        log_score = tens_circuit(batch)\n",
    "        lls = log_score\n",
    "        loss = -torch.mean(lls)   # The loss is the negative average log-likelihood\n",
    "        train_running_loss += loss * len(batch)\n",
    "print(f\"hold-out avg log-like.: {test_running_loss/len(X_test):.2f} vs train: {train_running_loss/len(X_train):.2f}\")"
   ]
  },
  {
   "cell_type": "markdown",
   "metadata": {},
   "source": [
    "A 3d-plot better visualizes our resulting density"
   ]
  },
  {
   "cell_type": "code",
   "execution_count": null,
   "metadata": {},
   "outputs": [],
   "source": [
    "from matplotlib import cbook, cm\n",
    "from matplotlib.colors import LightSource\n",
    "from matplotlib import colormaps\n",
    "\n",
    "\n",
    "log_score = tens_circuit(X_meshgrid.to(device).float().unsqueeze(dim=-1)).detach().cpu()\n",
    "log_score = log_score.reshape(num_samples,num_samples).numpy()\n",
    "nrows, ncols = log_score.shape\n",
    "\n",
    "# Set up plot\n",
    "fig, ax = plt.subplots(figsize=(15,5), subplot_kw=dict(projection='3d'))\n",
    "ax.set_title(\"3D surface plot\")\n",
    "ls = LightSource(270, 25)\n",
    "\n",
    "# To use a custom hillshading mode, override the built-in shading and pass\n",
    "# in the rgb colors of the shaded surface calculated from \"shade\".\n",
    "rgb = ls.shade(log_score, cmap=colormaps[\"magma\"], vert_exag=1.0, blend_mode='soft')\n",
    "ax.view_init(elev=35.)\n",
    "surf = ax.plot_surface(x1v, x2v, log_score, rstride=1, cstride=1, facecolors=rgb,\n",
    "                       linewidth=0, antialiased=False, shade=False)\n",
    "\n",
    "plt.show()"
   ]
  },
  {
   "cell_type": "markdown",
   "metadata": {},
   "source": [
    "our log-likelihood over iterations"
   ]
  },
  {
   "cell_type": "code",
   "execution_count": null,
   "metadata": {},
   "outputs": [],
   "source": [
    "plt.title(\"loss over iterations\")\n",
    "plt.plot(losses)\n",
    "plt.show()"
   ]
  },
  {
   "cell_type": "markdown",
   "metadata": {},
   "source": [
    "our circuit is normalized by construction, which we can verify like this:"
   ]
  },
  {
   "cell_type": "code",
   "execution_count": null,
   "metadata": {},
   "outputs": [],
   "source": [
    "from cirkit.new.model.functional import integrate\n",
    "pc_pf = integrate(tens_circuit)"
   ]
  },
  {
   "cell_type": "code",
   "execution_count": null,
   "metadata": {},
   "outputs": [],
   "source": [
    "log_pf = pc_pf(batch)\n",
    "assert torch.allclose(log_pf, torch.tensor(0.), atol=1e-6)"
   ]
  },
  {
   "cell_type": "code",
   "execution_count": null,
   "metadata": {},
   "outputs": [],
   "source": []
  },
  {
   "cell_type": "code",
   "execution_count": null,
   "metadata": {},
   "outputs": [],
   "source": []
  },
  {
   "cell_type": "code",
   "execution_count": null,
   "metadata": {},
   "outputs": [],
   "source": []
  },
  {
   "cell_type": "code",
   "execution_count": null,
   "metadata": {},
   "outputs": [],
   "source": [
    "#!/usr/bin/env python3\n",
    "\n",
    "import gpytorch\n",
    "\n",
    "# from ..functions import RBFCovariance\n",
    "# from ..settings import trace_mode\n",
    "from gpytorch.kernels import Kernel\n",
    "\n",
    "\n",
    "def postprocess_rbf(dist_mat):\n",
    "    return dist_mat.div_(-2).exp_()\n",
    "\n",
    "\n",
    "class TestRBFKernel(Kernel):\n",
    "    r\"\"\"\n",
    "    Computes a covariance matrix based on the RBF (squared exponential) kernel\n",
    "    between inputs :math:`\\mathbf{x_1}` and :math:`\\mathbf{x_2}`:\n",
    "\n",
    "    .. math::\n",
    "\n",
    "       \\begin{equation*}\n",
    "          k_{\\text{RBF}}(\\mathbf{x_1}, \\mathbf{x_2}) = \\exp \\left( -\\frac{1}{2}\n",
    "          (\\mathbf{x_1} - \\mathbf{x_2})^\\top \\Theta^{-2} (\\mathbf{x_1} - \\mathbf{x_2}) \\right)\n",
    "       \\end{equation*}\n",
    "\n",
    "    where :math:`\\Theta` is a :attr:`lengthscale` parameter.\n",
    "    See :class:`gpytorch.kernels.Kernel` for descriptions of the lengthscale options.\n",
    "\n",
    "    .. note::\n",
    "\n",
    "        This kernel does not have an `outputscale` parameter. To add a scaling parameter,\n",
    "        decorate this kernel with a :class:`gpytorch.kernels.ScaleKernel`.\n",
    "\n",
    "    Args:\n",
    "        :attr:`ard_num_dims` (int, optional):\n",
    "            Set this if you want a separate lengthscale for each\n",
    "            input dimension. It should be `d` if :attr:`x1` is a `n x d` matrix. Default: `None`\n",
    "        :attr:`batch_shape` (torch.Size, optional):\n",
    "            Set this if you want a separate lengthscale for each\n",
    "            batch of input data. It should be `b` if :attr:`x1` is a `b x n x d` tensor. Default: `torch.Size([])`.\n",
    "        :attr:`active_dims` (tuple of ints, optional):\n",
    "            Set this if you want to compute the covariance of only a few input dimensions. The ints\n",
    "            corresponds to the indices of the dimensions. Default: `None`.\n",
    "        :attr:`lengthscale_prior` (Prior, optional):\n",
    "            Set this if you want to apply a prior to the lengthscale parameter.  Default: `None`.\n",
    "        :attr:`lengthscale_constraint` (Constraint, optional):\n",
    "            Set this if you want to apply a constraint to the lengthscale parameter. Default: `Positive`.\n",
    "        :attr:`eps` (float):\n",
    "            The minimum value that the lengthscale can take (prevents divide by zero errors). Default: `1e-6`.\n",
    "\n",
    "    Attributes:\n",
    "        :attr:`lengthscale` (Tensor):\n",
    "            The lengthscale parameter. Size/shape of parameter depends on the\n",
    "            :attr:`ard_num_dims` and :attr:`batch_shape` arguments.\n",
    "\n",
    "    Example:\n",
    "        >>> x = torch.randn(10, 5)\n",
    "        >>> # Non-batch: Simple option\n",
    "        >>> covar_module = gpytorch.kernels.ScaleKernel(gpytorch.kernels.RBFKernel())\n",
    "        >>> # Non-batch: ARD (different lengthscale for each input dimension)\n",
    "        >>> covar_module = gpytorch.kernels.ScaleKernel(gpytorch.kernels.RBFKernel(ard_num_dims=5))\n",
    "        >>> covar = covar_module(x)  # Output: LazyTensor of size (10 x 10)\n",
    "        >>>\n",
    "        >>> batch_x = torch.randn(2, 10, 5)\n",
    "        >>> # Batch: Simple option\n",
    "        >>> covar_module = gpytorch.kernels.ScaleKernel(gpytorch.kernels.RBFKernel())\n",
    "        >>> # Batch: different lengthscale for each batch\n",
    "        >>> covar_module = gpytorch.kernels.ScaleKernel(gpytorch.kernels.RBFKernel(batch_shape=torch.Size([2])))\n",
    "        >>> covar = covar_module(x)  # Output: LazyTensor of size (2 x 10 x 10)\n",
    "    \"\"\"\n",
    "\n",
    "    has_lengthscale = True\n",
    "\n",
    "    def forward(self, x1, x2, diag=False, **params):\n",
    "\n",
    "        x1_ = x1.div(self.lengthscale)\n",
    "        x2_ = x2.div(self.lengthscale)\n",
    "        \n",
    "        print (\"x1, x2\", x1_, x2_)\n",
    "        \n",
    "        return self.covar_dist(\n",
    "            x1_, x2_, square_dist=True, diag=diag, dist_postprocess_func=postprocess_rbf, postprocess=True, **params\n",
    "        )"
   ]
  },
  {
   "cell_type": "code",
   "execution_count": null,
   "metadata": {},
   "outputs": [],
   "source": [
    "x = torch.tensor([[-0.6281,  2.3329], [ 0.1011, -0.2601], [ 0.0664, -0.8459]])\n",
    "x"
   ]
  },
  {
   "cell_type": "code",
   "execution_count": null,
   "metadata": {},
   "outputs": [],
   "source": [
    "x_2 = torch.tensor([[-0.6281], [ 0.1011], [ 0.0664]])"
   ]
  },
  {
   "cell_type": "code",
   "execution_count": null,
   "metadata": {},
   "outputs": [],
   "source": [
    "x_2.shape"
   ]
  },
  {
   "cell_type": "code",
   "execution_count": null,
   "metadata": {},
   "outputs": [],
   "source": [
    "test_kernel = TestRBFKernel(ard_num_dims=2)\n",
    "test_kernel.lengthscale = torch.tensor(3.3)"
   ]
  },
  {
   "cell_type": "code",
   "execution_count": null,
   "metadata": {},
   "outputs": [],
   "source": [
    "test_kernel.lengthscale"
   ]
  },
  {
   "cell_type": "code",
   "execution_count": null,
   "metadata": {},
   "outputs": [],
   "source": [
    "test_kernel(x_2,x_2).evaluate()"
   ]
  },
  {
   "cell_type": "code",
   "execution_count": null,
   "metadata": {},
   "outputs": [],
   "source": [
    "test_kernel = TestRBFKernel(ard_num_dims=1)\n",
    "test_kernel.lengthscale = torch.tensor(3.3)\n",
    "\n",
    "test_kernel(x_2,x_2).evaluate()"
   ]
  },
  {
   "cell_type": "code",
   "execution_count": null,
   "metadata": {},
   "outputs": [],
   "source": [
    "sq_dist(x_2, x_2)"
   ]
  },
  {
   "cell_type": "code",
   "execution_count": null,
   "metadata": {},
   "outputs": [],
   "source": [
    "torch.cdist(x_2, x_2, p=2)**2"
   ]
  },
  {
   "cell_type": "code",
   "execution_count": null,
   "metadata": {},
   "outputs": [],
   "source": []
  },
  {
   "cell_type": "code",
   "execution_count": null,
   "metadata": {},
   "outputs": [],
   "source": [
    "from gpytorch.kernels.kernel import sq_dist"
   ]
  },
  {
   "cell_type": "code",
   "execution_count": null,
   "metadata": {},
   "outputs": [],
   "source": [
    "def sq_dist(x1, x2, x1_eq_x2=False):\n",
    "    \"\"\"Equivalent to the square of `torch.cdist` with p=2.\"\"\"\n",
    "    # TODO: use torch squared cdist once implemented: https://github.com/pytorch/pytorch/pull/25799\n",
    "    adjustment = x1.mean(-2, keepdim=True)\n",
    "    x1 = x1 - adjustment\n",
    "\n",
    "    # Compute squared distance matrix using quadratic expansion\n",
    "    x1_norm = x1.pow(2).sum(dim=-1, keepdim=True)\n",
    "    x1_pad = torch.ones_like(x1_norm)\n",
    "    if x1_eq_x2 and not x1.requires_grad and not x2.requires_grad:\n",
    "        x2, x2_norm, x2_pad = x1, x1_norm, x1_pad\n",
    "    else:\n",
    "        x2 = x2 - adjustment  # x1 and x2 should be identical in all dims except -2 at this point\n",
    "        x2_norm = x2.pow(2).sum(dim=-1, keepdim=True)\n",
    "        x2_pad = torch.ones_like(x2_norm)\n",
    "    x1_ = torch.cat([-2.0 * x1, x1_norm, x1_pad], dim=-1)\n",
    "    x2_ = torch.cat([x2, x2_pad, x2_norm], dim=-1)\n",
    "    res = x1_.matmul(x2_.transpose(-2, -1))\n",
    "\n",
    "    if x1_eq_x2 and not x1.requires_grad and not x2.requires_grad:\n",
    "        res.diagonal(dim1=-2, dim2=-1).fill_(0)\n",
    "\n",
    "    # Zero out negative values\n",
    "    return res.clamp_min_(0)"
   ]
  },
  {
   "cell_type": "code",
   "execution_count": null,
   "metadata": {},
   "outputs": [],
   "source": []
  },
  {
   "cell_type": "code",
   "execution_count": null,
   "metadata": {},
   "outputs": [],
   "source": [
    "from gpytorch.kernels import SpectralMixtureKernel\n",
    "import math"
   ]
  },
  {
   "cell_type": "code",
   "execution_count": null,
   "metadata": {},
   "outputs": [],
   "source": [
    "train_x = torch.linspace(0, 1, 15)\n",
    "train_y = torch.sin(train_x * (2 * math.pi))"
   ]
  },
  {
   "cell_type": "code",
   "execution_count": null,
   "metadata": {},
   "outputs": [],
   "source": [
    "covar_module = gpytorch.kernels.SpectralMixtureKernel(num_mixtures=4)\n",
    "covar_module.initialize_from_data(train_x, train_y)"
   ]
  },
  {
   "cell_type": "code",
   "execution_count": null,
   "metadata": {},
   "outputs": [],
   "source": [
    "class SpectralMixtureGPModel(gpytorch.models.ExactGP):\n",
    "    def __init__(self, train_x, train_y, likelihood):\n",
    "        super(SpectralMixtureGPModel, self).__init__(train_x, train_y, likelihood)\n",
    "        self.mean_module = gpytorch.means.ConstantMean()\n",
    "        self.covar_module = gpytorch.kernels.SpectralMixtureKernel(num_mixtures=4)\n",
    "        self.covar_module.initialize_from_data(train_x, train_y)\n",
    "\n",
    "    def forward(self,x):\n",
    "        mean_x = self.mean_module(x)\n",
    "        covar_x = self.covar_module(x)\n",
    "        return gpytorch.distributions.MultivariateNormal(mean_x, covar_x)\n",
    "\n",
    "\n",
    "likelihood = gpytorch.likelihoods.GaussianLikelihood()\n",
    "model = SpectralMixtureGPModel(train_x, train_y, likelihood)"
   ]
  },
  {
   "cell_type": "code",
   "execution_count": null,
   "metadata": {},
   "outputs": [],
   "source": [
    "for param in model.parameters(): \n",
    "    print (param.shape)"
   ]
  },
  {
   "cell_type": "code",
   "execution_count": null,
   "metadata": {},
   "outputs": [],
   "source": []
  },
  {
   "cell_type": "code",
   "execution_count": null,
   "metadata": {},
   "outputs": [],
   "source": [
    "from cirkit.models.rbf_kernel import RBFCircuitKernel\n",
    "\n",
    "RBFCircuitKernel"
   ]
  },
  {
   "cell_type": "code",
   "execution_count": null,
   "metadata": {},
   "outputs": [],
   "source": []
  },
  {
   "cell_type": "code",
   "execution_count": null,
   "metadata": {},
   "outputs": [],
   "source": [
    "import torch\n",
    "\n",
    "def pdist_per_dim(input_tensor):\n",
    "    # Expand the input tensor to form all pairs for differences calculation\n",
    "    t1 = input_tensor.unsqueeze(1)  # Shape: (1000, 1, 8)\n",
    "    t2 = input_tensor.unsqueeze(0)  # Shape: (1, 1000, 8)\n",
    "\n",
    "    # Compute pairwise differences for each dimension (broadcasting)\n",
    "    diffs = torch.abs(t1 - t2)  # Shape: (1000, 1000, 8)\n",
    "\n",
    "    # Mask to extract the upper triangular part without the diagonal\n",
    "    mask = torch.triu(torch.ones(input_tensor.shape[0], input_tensor.shape[0]), diagonal=1).bool()\n",
    "\n",
    "    # Apply mask and reshape to get the final shape (499500, 8)\n",
    "    result = diffs[mask].reshape(-1, input_tensor.shape[1])\n",
    "\n",
    "    return result\n",
    "\n",
    "# Example usage\n",
    "input_tensor = torch.rand(3, 2)  # Example input tensor of shape (1000, 8)\n",
    "result = efficient_custom_pdist(input_tensor)\n",
    "print(result.shape)  # Should print torch.Size([499500, 8])\n"
   ]
  },
  {
   "cell_type": "code",
   "execution_count": null,
   "metadata": {},
   "outputs": [],
   "source": [
    "import torch\n",
    "\n",
    "def test_efficient_custom_pdist():\n",
    "    # Define a small, manually verifiable input tensor\n",
    "    input_tensor = torch.tensor([[5.0, 6.0], [2.0, -4.0], [-5.0, -6.0], [12.0, 7.0]])\n",
    "    \n",
    "    # Expected output for this input, calculated manually or using an alternative method\n",
    "    # Here we calculate the absolute differences for simplicity and clarity\n",
    "    expected_output = torch.tensor([\n",
    "        [3.0, 10.0],  # Difference between points 1 and 2\n",
    "        [10.0, 12.0],  # Difference between points 1 and 3\n",
    "        [7.0, 1.0],   # Difference between points 2 and 3\n",
    "        [7.0, 2.0],   # Difference between points 2 and 3\n",
    "        [10.0, 11.0],   # Difference between points 2 and 3\n",
    "        [17.0, 13.0]   # Difference between points 2 and 3\n",
    "    ])\n",
    "    \n",
    "    # Calculate the output using the function under test\n",
    "    actual_output = efficient_custom_pdist(input_tensor)\n",
    "    \n",
    "    # Verify the shape of the output\n",
    "    assert actual_output.shape == expected_output.shape, \"Output shape is incorrect.\"\n",
    "    \n",
    "    print(\"actual_output\", actual_output)\n",
    "    print(\"expected_output\", expected_output)\n",
    "    # Verify the contents of the output\n",
    "    assert torch.allclose(actual_output, expected_output, atol=1e-5), \"Output values are incorrect.\"\n",
    "    \n",
    "    print(\"Test passed!\")\n",
    "\n",
    "# Run the test function\n",
    "test_efficient_custom_pdist()\n"
   ]
  },
  {
   "cell_type": "code",
   "execution_count": null,
   "metadata": {},
   "outputs": [],
   "source": []
  },
  {
   "cell_type": "code",
   "execution_count": null,
   "metadata": {},
   "outputs": [],
   "source": []
  },
  {
   "cell_type": "code",
   "execution_count": null,
   "metadata": {},
   "outputs": [],
   "source": []
  },
  {
   "cell_type": "code",
   "execution_count": null,
   "metadata": {},
   "outputs": [],
   "source": []
  },
  {
   "cell_type": "code",
   "execution_count": null,
   "metadata": {},
   "outputs": [],
   "source": []
  }
 ],
 "metadata": {
  "kernelspec": {
   "display_name": "cirkit1",
   "language": "python",
   "name": "cirkit1"
  },
  "language_info": {
   "codemirror_mode": {
    "name": "ipython",
    "version": 3
   },
   "file_extension": ".py",
   "mimetype": "text/x-python",
   "name": "python",
   "nbconvert_exporter": "python",
   "pygments_lexer": "ipython3",
   "version": "3.8.18"
  },
  "varInspector": {
   "cols": {
    "lenName": 16,
    "lenType": 16,
    "lenVar": 40
   },
   "kernels_config": {
    "python": {
     "delete_cmd_postfix": "",
     "delete_cmd_prefix": "del ",
     "library": "var_list.py",
     "varRefreshCmd": "print(var_dic_list())"
    },
    "r": {
     "delete_cmd_postfix": ") ",
     "delete_cmd_prefix": "rm(",
     "library": "var_list.r",
     "varRefreshCmd": "cat(var_dic_list()) "
    }
   },
   "types_to_exclude": [
    "module",
    "function",
    "builtin_function_or_method",
    "instance",
    "_Feature"
   ],
   "window_display": false
  }
 },
 "nbformat": 4,
 "nbformat_minor": 2
}
