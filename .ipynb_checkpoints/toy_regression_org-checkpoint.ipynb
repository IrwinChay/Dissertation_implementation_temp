{
 "cells": [
  {
   "cell_type": "code",
   "execution_count": 1,
   "metadata": {
    "ExecuteTime": {
     "end_time": "2024-02-29T22:21:43.081630Z",
     "start_time": "2024-02-29T22:21:37.423769Z"
    }
   },
   "outputs": [],
   "source": [
    "import numpy as np\n",
    "import torch\n",
    "import torch.nn as nn\n",
    "import torch.nn.functional as F\n",
    "\n",
    "from ignite.engine import Events, Engine\n",
    "from ignite.metrics import Average, Loss\n",
    "from ignite.contrib.handlers import ProgressBar\n",
    "\n",
    "import gpytorch\n",
    "from gpytorch.mlls import VariationalELBO\n",
    "from gpytorch.likelihoods import GaussianLikelihood\n",
    "\n",
    "from due.dkl import DKL, GP, initial_values\n",
    "from due.sngp import Laplace\n",
    "from due.fc_resnet import FCResNet\n",
    "\n",
    "import matplotlib.pyplot as plt\n",
    "import seaborn as sns\n",
    "\n",
    "sns.set()\n",
    "sns.set_palette(\"colorblind\")"
   ]
  },
  {
   "cell_type": "code",
   "execution_count": 2,
   "metadata": {
    "ExecuteTime": {
     "end_time": "2024-02-29T22:21:49.535596Z",
     "start_time": "2024-02-29T22:21:49.529634Z"
    }
   },
   "outputs": [],
   "source": [
    "def make_data(n_samples, noise=0.05, seed=2):\n",
    "    # make some random sines & cosines\n",
    "    np.random.seed(seed)\n",
    "    n_samples = int(n_samples)\n",
    "    \n",
    "    W = np.random.randn(30, 1)\n",
    "    b = np.random.rand(30, 1) * 2 * np.pi\n",
    "    \n",
    "    x = 5 * np.sign(np.random.randn(n_samples)) + np.random.randn(n_samples).clip(-2, 2)\n",
    "    y = np.cos(W * x + b).sum(0) + noise * np.random.randn(n_samples)\n",
    "    return x[..., None], y"
   ]
  },
  {
   "cell_type": "code",
   "execution_count": 3,
   "metadata": {
    "ExecuteTime": {
     "end_time": "2024-02-29T22:21:51.662218Z",
     "start_time": "2024-02-29T22:21:51.318805Z"
    }
   },
   "outputs": [
    {
     "data": {
      "text/plain": [
       "<matplotlib.collections.PathCollection at 0x7fe2de290e50>"
      ]
     },
     "execution_count": 3,
     "metadata": {},
     "output_type": "execute_result"
    },
    {
     "data": {
      "image/png": "[encoded data removed]",
      "text/plain": [
       "<Figure size 640x480 with 1 Axes>"
      ]
     },
     "metadata": {},
     "output_type": "display_data"
    }
   ],
   "source": [
    "n_samples = 1e3\n",
    "# n_samples = 1e6\n",
    "\n",
    "domain = 15\n",
    "\n",
    "x, y = make_data(n_samples)\n",
    "plt.scatter(x, y)"
   ]
  },
  {
   "cell_type": "code",
   "execution_count": 6,
   "metadata": {
    "ExecuteTime": {
     "end_time": "2024-02-29T22:22:26.816817Z",
     "start_time": "2024-02-29T22:22:26.686494Z"
    },
    "scrolled": false
   },
   "outputs": [
    {
     "name": "stdout",
     "output_type": "stream",
     "text": [
      "Training with 1000.0 datapoints for 715.0 epochs\n"
     ]
    },
    {
     "name": "stderr",
     "output_type": "stream",
     "text": [
      "/Users/irwinchay/opt/anaconda3/envs/cirkit1/lib/python3.8/site-packages/sklearn/cluster/_kmeans.py:1934: FutureWarning: The default value of `n_init` will change from 3 to 'auto' in 1.4. Set the value of `n_init` explicitly to suppress the warning\n",
      "  super()._check_params_vs_input(X, default_n_init=3)\n"
     ]
    }
   ],
   "source": [
    "np.random.seed(0)\n",
    "torch.manual_seed(0)\n",
    "\n",
    "batch_size = 128\n",
    "\n",
    "X_train, y_train = make_data(n_samples)\n",
    "X_test, y_test = X_train, y_train\n",
    "\n",
    "ds_train = torch.utils.data.TensorDataset(torch.from_numpy(X_train).float(), torch.from_numpy(y_train).float())\n",
    "dl_train = torch.utils.data.DataLoader(ds_train, batch_size=batch_size, shuffle=True, drop_last=True)\n",
    "\n",
    "ds_test = torch.utils.data.TensorDataset(torch.from_numpy(X_test).float(), torch.from_numpy(y_test).float())\n",
    "dl_test = torch.utils.data.DataLoader(ds_test, batch_size=512, shuffle=False)\n",
    "\n",
    "steps = 5e3\n",
    "epochs = steps // len(dl_train) + 1\n",
    "print(f\"Training with {n_samples} datapoints for {epochs} epochs\")\n",
    "\n",
    "# Change this boolean to False for SNGP\n",
    "DUE = True\n",
    "\n",
    "input_dim = 1\n",
    "features = 128\n",
    "depth = 4\n",
    "num_outputs = 1 # regression with 1D output\n",
    "spectral_normalization = True\n",
    "coeff = 0.95\n",
    "n_power_iterations = 1\n",
    "dropout_rate = 0.01\n",
    "\n",
    "feature_extractor = FCResNet(\n",
    "    input_dim=input_dim, \n",
    "    features=features, \n",
    "    depth=depth, \n",
    "    spectral_normalization=spectral_normalization, \n",
    "    coeff=coeff, \n",
    "    n_power_iterations=n_power_iterations,\n",
    "    dropout_rate=dropout_rate\n",
    ")\n",
    "\n",
    "if DUE:\n",
    "    n_inducing_points = 20\n",
    "    kernel = \"RBF\"\n",
    "    \n",
    "    initial_inducing_points, initial_lengthscale = initial_values(\n",
    "            ds_train, feature_extractor, n_inducing_points\n",
    "    )\n",
    "\n",
    "    gp = GP(\n",
    "        num_outputs=num_outputs,\n",
    "        initial_lengthscale=initial_lengthscale,\n",
    "        initial_inducing_points=initial_inducing_points,\n",
    "        kernel=kernel,\n",
    "    )\n",
    "\n",
    "    model = DKL(feature_extractor, gp)\n",
    "\n",
    "    likelihood = GaussianLikelihood()\n",
    "    elbo_fn = VariationalELBO(likelihood, model.gp, num_data=len(ds_train))\n",
    "    loss_fn = lambda x, y: -elbo_fn(x, y)\n",
    "else:\n",
    "    num_gp_features = 128\n",
    "    num_random_features = 1024\n",
    "    normalize_gp_features = True\n",
    "    feature_scale = 2\n",
    "    ridge_penalty = 1\n",
    "    \n",
    "    model = Laplace(feature_extractor,\n",
    "                    features,\n",
    "                    num_gp_features,\n",
    "                    normalize_gp_features,\n",
    "                    num_random_features,\n",
    "                    num_outputs,\n",
    "                    len(ds_train),\n",
    "                    batch_size,\n",
    "                    ridge_penalty=ridge_penalty,\n",
    "                    feature_scale=feature_scale\n",
    "                   )\n",
    "\n",
    "    loss_fn = F.mse_loss\n",
    "\n",
    "if torch.cuda.is_available():\n",
    "    model = model.cuda()\n",
    "    if DUE:\n",
    "        likelihood = likelihood.cuda()\n",
    "    \n",
    "lr = 1e-3\n",
    "\n",
    "parameters = [\n",
    "    {\"params\": model.parameters(), \"lr\": lr},\n",
    "]\n",
    "\n",
    "if DUE:\n",
    "    parameters.append({\"params\": likelihood.parameters(), \"lr\": lr})\n",
    "    \n",
    "    \n",
    "optimizer = torch.optim.Adam(parameters)\n",
    "pbar = ProgressBar()\n",
    "\n",
    "def step(engine, batch):\n",
    "    model.train()\n",
    "    if DUE:\n",
    "        likelihood.train()\n",
    "    \n",
    "    optimizer.zero_grad()\n",
    "    \n",
    "    x, y = batch\n",
    "    if torch.cuda.is_available():\n",
    "        x = x.cuda()\n",
    "        y = y.cuda()\n",
    "\n",
    "    y_pred = model(x)\n",
    "    \n",
    "    if not DUE:\n",
    "        y_pred.squeeze_()\n",
    "\n",
    "    loss = loss_fn(y_pred, y)\n",
    "    print(\"loss\", loss)\n",
    "    \n",
    "    loss.backward()\n",
    "    optimizer.step()\n",
    "    \n",
    "    return loss.item()\n",
    "\n",
    "\n",
    "def eval_step(engine, batch):\n",
    "    model.eval()\n",
    "    if DUE:\n",
    "        likelihood.eval()\n",
    "    \n",
    "    x, y = batch\n",
    "    if torch.cuda.is_available():\n",
    "        x = x.cuda()\n",
    "        y = y.cuda()\n",
    "\n",
    "    y_pred = model(x)\n",
    "            \n",
    "    return y_pred, y\n",
    "\n",
    "    \n",
    "trainer = Engine(step)\n",
    "evaluator = Engine(eval_step)\n",
    "\n",
    "metric = Average()\n",
    "metric.attach(trainer, \"loss\")\n",
    "pbar.attach(trainer)\n",
    "\n",
    "if DUE:\n",
    "    metric = Loss(lambda y_pred, y: - likelihood.expected_log_prob(y, y_pred).mean())\n",
    "else:\n",
    "    metric = Loss(lambda y_pred, y: F.mse_loss(y_pred[0].squeeze(), y))\n",
    "\n",
    "\n",
    "metric.attach(evaluator, \"loss\")\n",
    "\n",
    "@trainer.on(Events.EPOCH_COMPLETED(every=int(epochs/10) + 1))\n",
    "def log_results(trainer):\n",
    "    evaluator.run(dl_test)\n",
    "    print(f\"Results - Epoch: {trainer.state.epoch} - \"\n",
    "          f\"Test Likelihood: {evaluator.state.metrics['loss']:.2f} - \"\n",
    "          f\"Loss: {trainer.state.metrics['loss']:.2f}\")\n",
    "\n",
    "    \n",
    "if not DUE:\n",
    "    @trainer.on(Events.EPOCH_STARTED)\n",
    "    def reset_precision_matrix(trainer):\n",
    "        model.reset_precision_matrix()"
   ]
  },
  {
   "cell_type": "code",
   "execution_count": 7,
   "metadata": {
    "ExecuteTime": {
     "end_time": "2024-02-29T22:22:38.386731Z",
     "start_time": "2024-02-29T22:22:29.654571Z"
    },
    "scrolled": false
   },
   "outputs": [
    {
     "name": "stdout",
     "output_type": "stream",
     "text": [
      "loss tensor(7.0546, grad_fn=<NegBackward0>)\n"
     ]
    },
    {
     "data": {
      "application/vnd.jupyter.widget-view+json": {
       "model_id": "f6ee736c9ae9411294233d5c6d9cef39",
       "version_major": 2,
       "version_minor": 0
      },
      "text/plain": [
       "[1/7]  14%|#4         [00:00<?]"
      ]
     },
     "metadata": {},
     "output_type": "display_data"
    },
    {
     "name": "stdout",
     "output_type": "stream",
     "text": [
      "loss tensor(6.4620, grad_fn=<NegBackward0>)\n",
      "loss tensor(6.6742, grad_fn=<NegBackward0>)\n",
      "loss tensor(6.9250, grad_fn=<NegBackward0>)\n",
      "loss tensor(6.9604, grad_fn=<NegBackward0>)\n",
      "loss tensor(7.4065, grad_fn=<NegBackward0>)\n",
      "loss tensor(6.7408, grad_fn=<NegBackward0>)\n",
      "loss tensor(6.4418, grad_fn=<NegBackward0>)\n"
     ]
    },
    {
     "data": {
      "application/vnd.jupyter.widget-view+json": {
       "model_id": "af94c79eb78748a487c1db3423d25cca",
       "version_major": 2,
       "version_minor": 0
      },
      "text/plain": [
       "[1/7]  14%|#4         [00:00<?]"
      ]
     },
     "metadata": {},
     "output_type": "display_data"
    },
    {
     "name": "stdout",
     "output_type": "stream",
     "text": [
      "loss tensor(6.1883, grad_fn=<NegBackward0>)\n",
      "loss tensor(7.4189, grad_fn=<NegBackward0>)\n",
      "loss tensor(7.0201, grad_fn=<NegBackward0>)\n",
      "loss tensor(6.7976, grad_fn=<NegBackward0>)\n",
      "loss tensor(7.2242, grad_fn=<NegBackward0>)\n",
      "loss tensor(6.6881, grad_fn=<NegBackward0>)\n",
      "loss tensor(7.1529, grad_fn=<NegBackward0>)\n"
     ]
    },
    {
     "data": {
      "application/vnd.jupyter.widget-view+json": {
       "model_id": "c1fbf8ebba384cd8af8adc45bf377e29",
       "version_major": 2,
       "version_minor": 0
      },
      "text/plain": [
       "[1/7]  14%|#4         [00:00<?]"
      ]
     },
     "metadata": {},
     "output_type": "display_data"
    },
    {
     "name": "stdout",
     "output_type": "stream",
     "text": [
      "loss tensor(6.8504, grad_fn=<NegBackward0>)\n",
      "loss tensor(6.5269, grad_fn=<NegBackward0>)\n",
      "loss tensor(6.9306, grad_fn=<NegBackward0>)\n",
      "loss tensor(6.5574, grad_fn=<NegBackward0>)\n",
      "loss tensor(6.4008, grad_fn=<NegBackward0>)\n",
      "loss tensor(6.3018, grad_fn=<NegBackward0>)\n",
      "loss tensor(6.4763, grad_fn=<NegBackward0>)\n"
     ]
    },
    {
     "data": {
      "application/vnd.jupyter.widget-view+json": {
       "model_id": "dec74459406c4d7f8afda7a5e0ab078d",
       "version_major": 2,
       "version_minor": 0
      },
      "text/plain": [
       "[1/7]  14%|#4         [00:00<?]"
      ]
     },
     "metadata": {},
     "output_type": "display_data"
    },
    {
     "name": "stdout",
     "output_type": "stream",
     "text": [
      "loss tensor(7.0054, grad_fn=<NegBackward0>)\n",
      "loss tensor(6.1768, grad_fn=<NegBackward0>)\n",
      "loss tensor(6.8417, grad_fn=<NegBackward0>)\n",
      "loss tensor(6.5961, grad_fn=<NegBackward0>)\n",
      "loss tensor(6.7762, grad_fn=<NegBackward0>)\n",
      "loss tensor(6.7746, grad_fn=<NegBackward0>)\n",
      "loss tensor(6.8595, grad_fn=<NegBackward0>)\n"
     ]
    },
    {
     "data": {
      "application/vnd.jupyter.widget-view+json": {
       "model_id": "a270f8b648a545ebabad4dcb7d663611",
       "version_major": 2,
       "version_minor": 0
      },
      "text/plain": [
       "[1/7]  14%|#4         [00:00<?]"
      ]
     },
     "metadata": {},
     "output_type": "display_data"
    },
    {
     "name": "stdout",
     "output_type": "stream",
     "text": [
      "loss tensor(6.8340, grad_fn=<NegBackward0>)\n",
      "loss tensor(6.2634, grad_fn=<NegBackward0>)\n",
      "loss tensor(6.4029, grad_fn=<NegBackward0>)\n",
      "loss tensor(5.9101, grad_fn=<NegBackward0>)\n",
      "loss tensor(6.5225, grad_fn=<NegBackward0>)\n",
      "loss tensor(6.8083, grad_fn=<NegBackward0>)\n",
      "loss tensor(6.4001, grad_fn=<NegBackward0>)\n"
     ]
    },
    {
     "data": {
      "application/vnd.jupyter.widget-view+json": {
       "model_id": "c2949a9e3bdf41988fc715fa232ddd3d",
       "version_major": 2,
       "version_minor": 0
      },
      "text/plain": [
       "[1/7]  14%|#4         [00:00<?]"
      ]
     },
     "metadata": {},
     "output_type": "display_data"
    },
    {
     "name": "stdout",
     "output_type": "stream",
     "text": [
      "loss tensor(6.5415, grad_fn=<NegBackward0>)\n",
      "loss tensor(6.4278, grad_fn=<NegBackward0>)\n",
      "loss tensor(6.5106, grad_fn=<NegBackward0>)\n",
      "loss tensor(6.1787, grad_fn=<NegBackward0>)\n",
      "loss tensor(6.5000, grad_fn=<NegBackward0>)\n",
      "loss tensor(6.4274, grad_fn=<NegBackward0>)\n",
      "loss tensor(6.6834, grad_fn=<NegBackward0>)\n"
     ]
    },
    {
     "data": {
      "application/vnd.jupyter.widget-view+json": {
       "model_id": "ed12fd13114e4da48f84a0a4b1bfb2e2",
       "version_major": 2,
       "version_minor": 0
      },
      "text/plain": [
       "[1/7]  14%|#4         [00:00<?]"
      ]
     },
     "metadata": {},
     "output_type": "display_data"
    },
    {
     "name": "stdout",
     "output_type": "stream",
     "text": [
      "loss tensor(6.5685, grad_fn=<NegBackward0>)\n",
      "loss tensor(6.5378, grad_fn=<NegBackward0>)\n",
      "loss tensor(5.8266, grad_fn=<NegBackward0>)\n",
      "loss tensor(6.2599, grad_fn=<NegBackward0>)\n",
      "loss tensor(6.6204, grad_fn=<NegBackward0>)\n",
      "loss tensor(6.1677, grad_fn=<NegBackward0>)\n",
      "loss tensor(6.5118, grad_fn=<NegBackward0>)\n"
     ]
    },
    {
     "data": {
      "application/vnd.jupyter.widget-view+json": {
       "model_id": "401170f5db10441aac4b8fd834d7cfb7",
       "version_major": 2,
       "version_minor": 0
      },
      "text/plain": [
       "[1/7]  14%|#4         [00:00<?]"
      ]
     },
     "metadata": {},
     "output_type": "display_data"
    },
    {
     "name": "stdout",
     "output_type": "stream",
     "text": [
      "loss tensor(5.8814, grad_fn=<NegBackward0>)\n",
      "loss tensor(6.5789, grad_fn=<NegBackward0>)\n",
      "loss tensor(5.9740, grad_fn=<NegBackward0>)\n",
      "loss tensor(6.7188, grad_fn=<NegBackward0>)\n",
      "loss tensor(5.9612, grad_fn=<NegBackward0>)\n",
      "loss tensor(6.3799, grad_fn=<NegBackward0>)\n",
      "loss tensor(6.3754, grad_fn=<NegBackward0>)\n"
     ]
    },
    {
     "data": {
      "application/vnd.jupyter.widget-view+json": {
       "model_id": "f0d9a70320854048ab51476649450952",
       "version_major": 2,
       "version_minor": 0
      },
      "text/plain": [
       "[1/7]  14%|#4         [00:00<?]"
      ]
     },
     "metadata": {},
     "output_type": "display_data"
    },
    {
     "name": "stdout",
     "output_type": "stream",
     "text": [
      "loss tensor(6.0897, grad_fn=<NegBackward0>)\n",
      "loss tensor(6.0444, grad_fn=<NegBackward0>)\n",
      "loss tensor(6.1754, grad_fn=<NegBackward0>)\n",
      "loss tensor(6.1098, grad_fn=<NegBackward0>)\n",
      "loss tensor(6.7383, grad_fn=<NegBackward0>)\n",
      "loss tensor(5.7007, grad_fn=<NegBackward0>)\n",
      "loss tensor(5.4373, grad_fn=<NegBackward0>)\n"
     ]
    },
    {
     "data": {
      "application/vnd.jupyter.widget-view+json": {
       "model_id": "d29c1d01d1a245bbb1ccc97494a5e806",
       "version_major": 2,
       "version_minor": 0
      },
      "text/plain": [
       "[1/7]  14%|#4         [00:00<?]"
      ]
     },
     "metadata": {},
     "output_type": "display_data"
    },
    {
     "name": "stdout",
     "output_type": "stream",
     "text": [
      "loss tensor(6.1075, grad_fn=<NegBackward0>)\n",
      "loss tensor(6.2270, grad_fn=<NegBackward0>)\n",
      "loss tensor(6.4448, grad_fn=<NegBackward0>)\n",
      "loss tensor(6.1954, grad_fn=<NegBackward0>)\n",
      "loss tensor(5.8539, grad_fn=<NegBackward0>)\n",
      "loss tensor(5.7938, grad_fn=<NegBackward0>)\n",
      "loss tensor(5.4453, grad_fn=<NegBackward0>)\n"
     ]
    },
    {
     "data": {
      "application/vnd.jupyter.widget-view+json": {
       "model_id": "b1bf53ffd0954e4b94187299e9fe5f2f",
       "version_major": 2,
       "version_minor": 0
      },
      "text/plain": [
       "[1/7]  14%|#4         [00:00<?]"
      ]
     },
     "metadata": {},
     "output_type": "display_data"
    },
    {
     "name": "stdout",
     "output_type": "stream",
     "text": [
      "loss tensor(5.6355, grad_fn=<NegBackward0>)\n",
      "loss tensor(6.0462, grad_fn=<NegBackward0>)\n",
      "loss tensor(5.7662, grad_fn=<NegBackward0>)\n",
      "loss tensor(6.1763, grad_fn=<NegBackward0>)\n",
      "loss tensor(6.1545, grad_fn=<NegBackward0>)\n",
      "loss tensor(6.1546, grad_fn=<NegBackward0>)\n",
      "loss tensor(6.0812, grad_fn=<NegBackward0>)\n"
     ]
    },
    {
     "data": {
      "application/vnd.jupyter.widget-view+json": {
       "model_id": "b29b21d308ac43b289bab1d28d631f64",
       "version_major": 2,
       "version_minor": 0
      },
      "text/plain": [
       "[1/7]  14%|#4         [00:00<?]"
      ]
     },
     "metadata": {},
     "output_type": "display_data"
    },
    {
     "name": "stdout",
     "output_type": "stream",
     "text": [
      "loss tensor(5.7772, grad_fn=<NegBackward0>)\n",
      "loss tensor(6.3462, grad_fn=<NegBackward0>)\n",
      "loss tensor(5.7679, grad_fn=<NegBackward0>)\n",
      "loss tensor(5.8469, grad_fn=<NegBackward0>)\n",
      "loss tensor(5.4061, grad_fn=<NegBackward0>)\n",
      "loss tensor(5.9044, grad_fn=<NegBackward0>)\n",
      "loss tensor(5.3487, grad_fn=<NegBackward0>)\n"
     ]
    },
    {
     "data": {
      "application/vnd.jupyter.widget-view+json": {
       "model_id": "f55fd3ee48014ba69de2cd58bb246e52",
       "version_major": 2,
       "version_minor": 0
      },
      "text/plain": [
       "[1/7]  14%|#4         [00:00<?]"
      ]
     },
     "metadata": {},
     "output_type": "display_data"
    },
    {
     "name": "stdout",
     "output_type": "stream",
     "text": [
      "loss tensor(5.7532, grad_fn=<NegBackward0>)\n",
      "loss tensor(5.7423, grad_fn=<NegBackward0>)\n",
      "loss tensor(5.4233, grad_fn=<NegBackward0>)\n",
      "loss tensor(6.0585, grad_fn=<NegBackward0>)\n",
      "loss tensor(6.1029, grad_fn=<NegBackward0>)\n",
      "loss tensor(5.9833, grad_fn=<NegBackward0>)\n",
      "loss tensor(6.0265, grad_fn=<NegBackward0>)\n"
     ]
    },
    {
     "data": {
      "application/vnd.jupyter.widget-view+json": {
       "model_id": "b46160f2474e406ab98ab2d11aad5f83",
       "version_major": 2,
       "version_minor": 0
      },
      "text/plain": [
       "[1/7]  14%|#4         [00:00<?]"
      ]
     },
     "metadata": {},
     "output_type": "display_data"
    },
    {
     "name": "stdout",
     "output_type": "stream",
     "text": [
      "loss tensor(5.5897, grad_fn=<NegBackward0>)\n",
      "loss tensor(5.5780, grad_fn=<NegBackward0>)\n",
      "loss tensor(6.0726, grad_fn=<NegBackward0>)\n",
      "loss tensor(4.9426, grad_fn=<NegBackward0>)\n",
      "loss tensor(5.6991, grad_fn=<NegBackward0>)\n",
      "loss tensor(5.9276, grad_fn=<NegBackward0>)\n",
      "loss tensor(5.9719, grad_fn=<NegBackward0>)\n"
     ]
    },
    {
     "data": {
      "application/vnd.jupyter.widget-view+json": {
       "model_id": "c881da851d4645eeab9bef1615c77f28",
       "version_major": 2,
       "version_minor": 0
      },
      "text/plain": [
       "[1/7]  14%|#4         [00:00<?]"
      ]
     },
     "metadata": {},
     "output_type": "display_data"
    },
    {
     "name": "stdout",
     "output_type": "stream",
     "text": [
      "loss tensor(5.5015, grad_fn=<NegBackward0>)\n",
      "loss tensor(5.3556, grad_fn=<NegBackward0>)\n",
      "loss tensor(5.9705, grad_fn=<NegBackward0>)\n",
      "loss tensor(5.2650, grad_fn=<NegBackward0>)\n",
      "loss tensor(5.5216, grad_fn=<NegBackward0>)\n",
      "loss tensor(5.8145, grad_fn=<NegBackward0>)\n",
      "loss tensor(5.7130, grad_fn=<NegBackward0>)\n"
     ]
    },
    {
     "data": {
      "application/vnd.jupyter.widget-view+json": {
       "model_id": "f57192db616d43828e53d37e71f0a546",
       "version_major": 2,
       "version_minor": 0
      },
      "text/plain": [
       "[1/7]  14%|#4         [00:00<?]"
      ]
     },
     "metadata": {},
     "output_type": "display_data"
    },
    {
     "name": "stdout",
     "output_type": "stream",
     "text": [
      "loss tensor(5.6225, grad_fn=<NegBackward0>)\n",
      "loss tensor(5.1974, grad_fn=<NegBackward0>)\n",
      "loss tensor(5.2458, grad_fn=<NegBackward0>)\n",
      "loss tensor(5.7647, grad_fn=<NegBackward0>)\n",
      "loss tensor(5.3570, grad_fn=<NegBackward0>)\n",
      "loss tensor(5.8128, grad_fn=<NegBackward0>)\n",
      "loss tensor(5.3496, grad_fn=<NegBackward0>)\n"
     ]
    },
    {
     "data": {
      "application/vnd.jupyter.widget-view+json": {
       "model_id": "a639e4854c5249a5b58499eecfba547a",
       "version_major": 2,
       "version_minor": 0
      },
      "text/plain": [
       "[1/7]  14%|#4         [00:00<?]"
      ]
     },
     "metadata": {},
     "output_type": "display_data"
    },
    {
     "name": "stdout",
     "output_type": "stream",
     "text": [
      "loss tensor(6.1766, grad_fn=<NegBackward0>)\n",
      "loss tensor(5.7241, grad_fn=<NegBackward0>)\n",
      "loss tensor(5.7028, grad_fn=<NegBackward0>)\n",
      "loss tensor(5.4320, grad_fn=<NegBackward0>)\n",
      "loss tensor(4.9382, grad_fn=<NegBackward0>)\n",
      "loss tensor(4.9626, grad_fn=<NegBackward0>)\n",
      "loss tensor(5.6012, grad_fn=<NegBackward0>)\n"
     ]
    },
    {
     "data": {
      "application/vnd.jupyter.widget-view+json": {
       "model_id": "33f8247bec904c7e884fa5c24c309136",
       "version_major": 2,
       "version_minor": 0
      },
      "text/plain": [
       "[1/7]  14%|#4         [00:00<?]"
      ]
     },
     "metadata": {},
     "output_type": "display_data"
    },
    {
     "name": "stdout",
     "output_type": "stream",
     "text": [
      "loss tensor(5.3175, grad_fn=<NegBackward0>)\n",
      "loss tensor(5.4211, grad_fn=<NegBackward0>)\n",
      "loss tensor(5.5886, grad_fn=<NegBackward0>)\n",
      "loss tensor(5.0303, grad_fn=<NegBackward0>)\n",
      "loss tensor(5.0866, grad_fn=<NegBackward0>)\n",
      "loss tensor(5.8840, grad_fn=<NegBackward0>)\n",
      "loss tensor(5.2312, grad_fn=<NegBackward0>)\n"
     ]
    },
    {
     "data": {
      "application/vnd.jupyter.widget-view+json": {
       "model_id": "8ec9e172d14349eab6f127f59eec2d21",
       "version_major": 2,
       "version_minor": 0
      },
      "text/plain": [
       "[1/7]  14%|#4         [00:00<?]"
      ]
     },
     "metadata": {},
     "output_type": "display_data"
    },
    {
     "name": "stdout",
     "output_type": "stream",
     "text": [
      "loss tensor(5.5011, grad_fn=<NegBackward0>)\n",
      "loss tensor(5.5147, grad_fn=<NegBackward0>)\n",
      "loss tensor(5.4750, grad_fn=<NegBackward0>)\n",
      "loss tensor(5.5084, grad_fn=<NegBackward0>)\n",
      "loss tensor(5.0657, grad_fn=<NegBackward0>)\n",
      "loss tensor(5.0284, grad_fn=<NegBackward0>)\n",
      "loss tensor(4.7651, grad_fn=<NegBackward0>)\n"
     ]
    },
    {
     "data": {
      "application/vnd.jupyter.widget-view+json": {
       "model_id": "3ef28a8293d74249943a9080dac42436",
       "version_major": 2,
       "version_minor": 0
      },
      "text/plain": [
       "[1/7]  14%|#4         [00:00<?]"
      ]
     },
     "metadata": {},
     "output_type": "display_data"
    },
    {
     "name": "stdout",
     "output_type": "stream",
     "text": [
      "loss tensor(4.6625, grad_fn=<NegBackward0>)\n",
      "loss tensor(5.5286, grad_fn=<NegBackward0>)\n",
      "loss tensor(5.5303, grad_fn=<NegBackward0>)\n",
      "loss tensor(5.1472, grad_fn=<NegBackward0>)\n",
      "loss tensor(5.6535, grad_fn=<NegBackward0>)\n",
      "loss tensor(5.4337, grad_fn=<NegBackward0>)\n",
      "loss tensor(5.4090, grad_fn=<NegBackward0>)\n"
     ]
    },
    {
     "data": {
      "application/vnd.jupyter.widget-view+json": {
       "model_id": "58211117417d4a87a73379f9862aa28d",
       "version_major": 2,
       "version_minor": 0
      },
      "text/plain": [
       "[1/7]  14%|#4         [00:00<?]"
      ]
     },
     "metadata": {},
     "output_type": "display_data"
    },
    {
     "name": "stdout",
     "output_type": "stream",
     "text": [
      "loss tensor(4.9827, grad_fn=<NegBackward0>)\n",
      "loss tensor(4.7336, grad_fn=<NegBackward0>)\n",
      "loss tensor(4.8871, grad_fn=<NegBackward0>)\n",
      "loss tensor(5.5547, grad_fn=<NegBackward0>)\n",
      "loss tensor(5.0936, grad_fn=<NegBackward0>)\n",
      "loss tensor(5.8103, grad_fn=<NegBackward0>)\n",
      "loss tensor(4.9165, grad_fn=<NegBackward0>)\n"
     ]
    },
    {
     "data": {
      "application/vnd.jupyter.widget-view+json": {
       "model_id": "0a13ee4ef47a4922bdb41c8a300b8999",
       "version_major": 2,
       "version_minor": 0
      },
      "text/plain": [
       "[1/7]  14%|#4         [00:00<?]"
      ]
     },
     "metadata": {},
     "output_type": "display_data"
    },
    {
     "name": "stdout",
     "output_type": "stream",
     "text": [
      "loss tensor(4.8452, grad_fn=<NegBackward0>)\n",
      "loss tensor(5.2456, grad_fn=<NegBackward0>)\n",
      "loss tensor(4.6692, grad_fn=<NegBackward0>)\n",
      "loss tensor(5.3796, grad_fn=<NegBackward0>)\n",
      "loss tensor(4.8078, grad_fn=<NegBackward0>)\n",
      "loss tensor(5.2540, grad_fn=<NegBackward0>)\n",
      "loss tensor(4.9662, grad_fn=<NegBackward0>)\n"
     ]
    },
    {
     "data": {
      "application/vnd.jupyter.widget-view+json": {
       "model_id": "73269f68742a4e0c99d4f7bea5e42f8b",
       "version_major": 2,
       "version_minor": 0
      },
      "text/plain": [
       "[1/7]  14%|#4         [00:00<?]"
      ]
     },
     "metadata": {},
     "output_type": "display_data"
    },
    {
     "name": "stdout",
     "output_type": "stream",
     "text": [
      "loss tensor(5.3732, grad_fn=<NegBackward0>)\n",
      "loss tensor(5.3605, grad_fn=<NegBackward0>)\n",
      "loss tensor(4.9281, grad_fn=<NegBackward0>)\n",
      "loss tensor(4.8706, grad_fn=<NegBackward0>)\n",
      "loss tensor(4.7722, grad_fn=<NegBackward0>)\n",
      "loss tensor(4.9213, grad_fn=<NegBackward0>)\n",
      "loss tensor(4.6350, grad_fn=<NegBackward0>)\n"
     ]
    },
    {
     "data": {
      "application/vnd.jupyter.widget-view+json": {
       "model_id": "f733386f91654da28de4374026738d64",
       "version_major": 2,
       "version_minor": 0
      },
      "text/plain": [
       "[1/7]  14%|#4         [00:00<?]"
      ]
     },
     "metadata": {},
     "output_type": "display_data"
    },
    {
     "name": "stdout",
     "output_type": "stream",
     "text": [
      "loss tensor(5.1038, grad_fn=<NegBackward0>)\n",
      "loss tensor(5.1162, grad_fn=<NegBackward0>)\n",
      "loss tensor(4.7992, grad_fn=<NegBackward0>)\n",
      "loss tensor(4.6680, grad_fn=<NegBackward0>)\n",
      "loss tensor(5.0231, grad_fn=<NegBackward0>)\n",
      "loss tensor(5.3523, grad_fn=<NegBackward0>)\n",
      "loss tensor(4.7656, grad_fn=<NegBackward0>)\n"
     ]
    },
    {
     "data": {
      "application/vnd.jupyter.widget-view+json": {
       "model_id": "282895c8a851415db0e111b59287b627",
       "version_major": 2,
       "version_minor": 0
      },
      "text/plain": [
       "[1/7]  14%|#4         [00:00<?]"
      ]
     },
     "metadata": {},
     "output_type": "display_data"
    },
    {
     "name": "stdout",
     "output_type": "stream",
     "text": [
      "loss tensor(4.9613, grad_fn=<NegBackward0>)\n",
      "loss tensor(4.9120, grad_fn=<NegBackward0>)\n",
      "loss tensor(4.6222, grad_fn=<NegBackward0>)\n",
      "loss tensor(5.0838, grad_fn=<NegBackward0>)\n",
      "loss tensor(5.2051, grad_fn=<NegBackward0>)\n",
      "loss tensor(4.7827, grad_fn=<NegBackward0>)\n",
      "loss tensor(4.9172, grad_fn=<NegBackward0>)\n"
     ]
    },
    {
     "data": {
      "application/vnd.jupyter.widget-view+json": {
       "model_id": "b819349bcc3a44d2b3258a9383b54123",
       "version_major": 2,
       "version_minor": 0
      },
      "text/plain": [
       "[1/7]  14%|#4         [00:00<?]"
      ]
     },
     "metadata": {},
     "output_type": "display_data"
    },
    {
     "name": "stdout",
     "output_type": "stream",
     "text": [
      "loss tensor(5.0613, grad_fn=<NegBackward0>)\n",
      "loss tensor(4.9711, grad_fn=<NegBackward0>)\n",
      "loss tensor(4.3761, grad_fn=<NegBackward0>)\n",
      "loss tensor(5.0174, grad_fn=<NegBackward0>)\n",
      "loss tensor(4.6174, grad_fn=<NegBackward0>)\n",
      "loss tensor(5.0294, grad_fn=<NegBackward0>)\n",
      "loss tensor(5.0100, grad_fn=<NegBackward0>)\n"
     ]
    },
    {
     "data": {
      "application/vnd.jupyter.widget-view+json": {
       "model_id": "734fe9513fe44ca5b667c367116ebb0f",
       "version_major": 2,
       "version_minor": 0
      },
      "text/plain": [
       "[1/7]  14%|#4         [00:00<?]"
      ]
     },
     "metadata": {},
     "output_type": "display_data"
    },
    {
     "name": "stdout",
     "output_type": "stream",
     "text": [
      "loss tensor(4.7642, grad_fn=<NegBackward0>)\n",
      "loss tensor(4.2339, grad_fn=<NegBackward0>)\n",
      "loss tensor(4.1101, grad_fn=<NegBackward0>)\n",
      "loss tensor(4.8850, grad_fn=<NegBackward0>)\n",
      "loss tensor(5.3021, grad_fn=<NegBackward0>)\n",
      "loss tensor(4.8729, grad_fn=<NegBackward0>)\n",
      "loss tensor(4.4727, grad_fn=<NegBackward0>)\n"
     ]
    },
    {
     "data": {
      "application/vnd.jupyter.widget-view+json": {
       "model_id": "5a79334db7c244c7a7d7b56719d45e1d",
       "version_major": 2,
       "version_minor": 0
      },
      "text/plain": [
       "[1/7]  14%|#4         [00:00<?]"
      ]
     },
     "metadata": {},
     "output_type": "display_data"
    },
    {
     "name": "stdout",
     "output_type": "stream",
     "text": [
      "loss tensor(5.0075, grad_fn=<NegBackward0>)\n",
      "loss tensor(4.5167, grad_fn=<NegBackward0>)\n",
      "loss tensor(4.2151, grad_fn=<NegBackward0>)\n",
      "loss tensor(4.4926, grad_fn=<NegBackward0>)\n",
      "loss tensor(5.1391, grad_fn=<NegBackward0>)\n",
      "loss tensor(5.2181, grad_fn=<NegBackward0>)\n",
      "loss tensor(5.0498, grad_fn=<NegBackward0>)\n"
     ]
    },
    {
     "data": {
      "application/vnd.jupyter.widget-view+json": {
       "model_id": "515145c94c81417d8d2b75d626533b0d",
       "version_major": 2,
       "version_minor": 0
      },
      "text/plain": [
       "[1/7]  14%|#4         [00:00<?]"
      ]
     },
     "metadata": {},
     "output_type": "display_data"
    },
    {
     "name": "stdout",
     "output_type": "stream",
     "text": [
      "loss tensor(4.3977, grad_fn=<NegBackward0>)\n",
      "loss tensor(4.8667, grad_fn=<NegBackward0>)\n",
      "loss tensor(4.3452, grad_fn=<NegBackward0>)\n",
      "loss tensor(4.3186, grad_fn=<NegBackward0>)\n",
      "loss tensor(4.5791, grad_fn=<NegBackward0>)\n",
      "loss tensor(5.3995, grad_fn=<NegBackward0>)\n",
      "loss tensor(4.5324, grad_fn=<NegBackward0>)\n"
     ]
    },
    {
     "data": {
      "application/vnd.jupyter.widget-view+json": {
       "model_id": "b78428b631b94fe7acccf666f759b6f3",
       "version_major": 2,
       "version_minor": 0
      },
      "text/plain": [
       "[1/7]  14%|#4         [00:00<?]"
      ]
     },
     "metadata": {},
     "output_type": "display_data"
    },
    {
     "name": "stdout",
     "output_type": "stream",
     "text": [
      "loss tensor(4.9382, grad_fn=<NegBackward0>)\n",
      "loss tensor(4.6571, grad_fn=<NegBackward0>)\n",
      "loss tensor(4.4108, grad_fn=<NegBackward0>)\n",
      "loss tensor(4.8859, grad_fn=<NegBackward0>)\n",
      "loss tensor(4.2327, grad_fn=<NegBackward0>)\n",
      "loss tensor(4.6147, grad_fn=<NegBackward0>)\n",
      "loss tensor(4.9573, grad_fn=<NegBackward0>)\n"
     ]
    },
    {
     "data": {
      "application/vnd.jupyter.widget-view+json": {
       "model_id": "bec22818c2fc4145a5633ec141586a26",
       "version_major": 2,
       "version_minor": 0
      },
      "text/plain": [
       "[1/7]  14%|#4         [00:00<?]"
      ]
     },
     "metadata": {},
     "output_type": "display_data"
    },
    {
     "name": "stdout",
     "output_type": "stream",
     "text": [
      "loss tensor(4.5793, grad_fn=<NegBackward0>)\n",
      "loss tensor(4.4216, grad_fn=<NegBackward0>)\n",
      "loss tensor(4.6614, grad_fn=<NegBackward0>)\n",
      "loss tensor(4.2260, grad_fn=<NegBackward0>)\n",
      "loss tensor(4.0947, grad_fn=<NegBackward0>)\n",
      "loss tensor(4.6968, grad_fn=<NegBackward0>)\n",
      "loss tensor(4.4496, grad_fn=<NegBackward0>)\n"
     ]
    },
    {
     "data": {
      "application/vnd.jupyter.widget-view+json": {
       "model_id": "f209ac78576a4691bd3fe9236b57b063",
       "version_major": 2,
       "version_minor": 0
      },
      "text/plain": [
       "[1/7]  14%|#4         [00:00<?]"
      ]
     },
     "metadata": {},
     "output_type": "display_data"
    },
    {
     "name": "stdout",
     "output_type": "stream",
     "text": [
      "loss tensor(4.3331, grad_fn=<NegBackward0>)\n",
      "loss tensor(4.3347, grad_fn=<NegBackward0>)\n",
      "loss tensor(4.6154, grad_fn=<NegBackward0>)\n",
      "loss tensor(4.6079, grad_fn=<NegBackward0>)\n",
      "loss tensor(4.7636, grad_fn=<NegBackward0>)\n",
      "loss tensor(4.2616, grad_fn=<NegBackward0>)\n",
      "loss tensor(5.0511, grad_fn=<NegBackward0>)\n"
     ]
    },
    {
     "data": {
      "application/vnd.jupyter.widget-view+json": {
       "model_id": "fd7c79f2396146bcb984fd8c0d5442d2",
       "version_major": 2,
       "version_minor": 0
      },
      "text/plain": [
       "[1/7]  14%|#4         [00:00<?]"
      ]
     },
     "metadata": {},
     "output_type": "display_data"
    },
    {
     "name": "stdout",
     "output_type": "stream",
     "text": [
      "loss tensor(4.2419, grad_fn=<NegBackward0>)\n",
      "loss tensor(4.0148, grad_fn=<NegBackward0>)\n",
      "loss tensor(4.2970, grad_fn=<NegBackward0>)\n",
      "loss tensor(4.5552, grad_fn=<NegBackward0>)\n",
      "loss tensor(4.4252, grad_fn=<NegBackward0>)\n",
      "loss tensor(4.2665, grad_fn=<NegBackward0>)\n",
      "loss tensor(4.0560, grad_fn=<NegBackward0>)\n"
     ]
    },
    {
     "data": {
      "application/vnd.jupyter.widget-view+json": {
       "model_id": "ca63ea2bbff7465fa9aafcf5fd6dc61d",
       "version_major": 2,
       "version_minor": 0
      },
      "text/plain": [
       "[1/7]  14%|#4         [00:00<?]"
      ]
     },
     "metadata": {},
     "output_type": "display_data"
    },
    {
     "name": "stdout",
     "output_type": "stream",
     "text": [
      "loss tensor(4.0766, grad_fn=<NegBackward0>)\n",
      "loss tensor(4.4946, grad_fn=<NegBackward0>)\n",
      "loss tensor(4.5590, grad_fn=<NegBackward0>)\n",
      "loss tensor(4.5599, grad_fn=<NegBackward0>)\n",
      "loss tensor(4.1732, grad_fn=<NegBackward0>)\n",
      "loss tensor(4.6162, grad_fn=<NegBackward0>)\n",
      "loss tensor(4.0072, grad_fn=<NegBackward0>)\n"
     ]
    },
    {
     "data": {
      "application/vnd.jupyter.widget-view+json": {
       "model_id": "6035d5657a444ba7a26304ae56d6ae4e",
       "version_major": 2,
       "version_minor": 0
      },
      "text/plain": [
       "[1/7]  14%|#4         [00:00<?]"
      ]
     },
     "metadata": {},
     "output_type": "display_data"
    },
    {
     "name": "stdout",
     "output_type": "stream",
     "text": [
      "loss tensor(3.9976, grad_fn=<NegBackward0>)\n",
      "loss tensor(4.1858, grad_fn=<NegBackward0>)\n",
      "loss tensor(4.7355, grad_fn=<NegBackward0>)\n",
      "loss tensor(4.2074, grad_fn=<NegBackward0>)\n",
      "loss tensor(4.3764, grad_fn=<NegBackward0>)\n",
      "loss tensor(4.7467, grad_fn=<NegBackward0>)\n",
      "loss tensor(4.6266, grad_fn=<NegBackward0>)\n"
     ]
    },
    {
     "data": {
      "application/vnd.jupyter.widget-view+json": {
       "model_id": "ea019c4f174141af8ae9dee01423cdab",
       "version_major": 2,
       "version_minor": 0
      },
      "text/plain": [
       "[1/7]  14%|#4         [00:00<?]"
      ]
     },
     "metadata": {},
     "output_type": "display_data"
    },
    {
     "name": "stdout",
     "output_type": "stream",
     "text": [
      "loss tensor(3.7120, grad_fn=<NegBackward0>)\n",
      "loss tensor(4.3461, grad_fn=<NegBackward0>)\n",
      "loss tensor(4.3376, grad_fn=<NegBackward0>)\n",
      "loss tensor(4.5202, grad_fn=<NegBackward0>)\n",
      "loss tensor(4.0308, grad_fn=<NegBackward0>)\n",
      "loss tensor(4.0827, grad_fn=<NegBackward0>)\n",
      "loss tensor(4.6482, grad_fn=<NegBackward0>)\n"
     ]
    },
    {
     "data": {
      "application/vnd.jupyter.widget-view+json": {
       "model_id": "26a9714ebbb6448aab59ca8804051353",
       "version_major": 2,
       "version_minor": 0
      },
      "text/plain": [
       "[1/7]  14%|#4         [00:00<?]"
      ]
     },
     "metadata": {},
     "output_type": "display_data"
    },
    {
     "name": "stderr",
     "output_type": "stream",
     "text": [
      "Engine run is terminating due to exception: \n"
     ]
    },
    {
     "ename": "KeyboardInterrupt",
     "evalue": "",
     "output_type": "error",
     "traceback": [
      "\u001b[0;31m---------------------------------------------------------------------------\u001b[0m",
      "\u001b[0;31mKeyboardInterrupt\u001b[0m                         Traceback (most recent call last)",
      "Cell \u001b[0;32mIn[7], line 1\u001b[0m\n\u001b[0;32m----> 1\u001b[0m \u001b[43mtrainer\u001b[49m\u001b[38;5;241;43m.\u001b[39;49m\u001b[43mrun\u001b[49m\u001b[43m(\u001b[49m\u001b[43mdl_train\u001b[49m\u001b[43m,\u001b[49m\u001b[43m \u001b[49m\u001b[43mmax_epochs\u001b[49m\u001b[38;5;241;43m=\u001b[39;49m\u001b[43mepochs\u001b[49m\u001b[43m)\u001b[49m\n",
      "File \u001b[0;32m~/opt/anaconda3/envs/cirkit1/lib/python3.8/site-packages/ignite/engine/engine.py:898\u001b[0m, in \u001b[0;36mEngine.run\u001b[0;34m(self, data, max_epochs, epoch_length, seed)\u001b[0m\n\u001b[1;32m    895\u001b[0m     \u001b[38;5;28mself\u001b[39m\u001b[38;5;241m.\u001b[39mstate\u001b[38;5;241m.\u001b[39mdataloader \u001b[38;5;241m=\u001b[39m data\n\u001b[1;32m    897\u001b[0m \u001b[38;5;28;01mif\u001b[39;00m \u001b[38;5;28mself\u001b[39m\u001b[38;5;241m.\u001b[39minterrupt_resume_enabled:\n\u001b[0;32m--> 898\u001b[0m     \u001b[38;5;28;01mreturn\u001b[39;00m \u001b[38;5;28;43mself\u001b[39;49m\u001b[38;5;241;43m.\u001b[39;49m\u001b[43m_internal_run\u001b[49m\u001b[43m(\u001b[49m\u001b[43m)\u001b[49m\n\u001b[1;32m    899\u001b[0m \u001b[38;5;28;01melse\u001b[39;00m:\n\u001b[1;32m    900\u001b[0m     \u001b[38;5;28;01mreturn\u001b[39;00m \u001b[38;5;28mself\u001b[39m\u001b[38;5;241m.\u001b[39m_internal_run_legacy()\n",
      "File \u001b[0;32m~/opt/anaconda3/envs/cirkit1/lib/python3.8/site-packages/ignite/engine/engine.py:941\u001b[0m, in \u001b[0;36mEngine._internal_run\u001b[0;34m(self)\u001b[0m\n\u001b[1;32m    939\u001b[0m     \u001b[38;5;28mself\u001b[39m\u001b[38;5;241m.\u001b[39m_internal_run_generator \u001b[38;5;241m=\u001b[39m \u001b[38;5;28mself\u001b[39m\u001b[38;5;241m.\u001b[39m_internal_run_as_gen()\n\u001b[1;32m    940\u001b[0m \u001b[38;5;28;01mtry\u001b[39;00m:\n\u001b[0;32m--> 941\u001b[0m     \u001b[38;5;28;01mreturn\u001b[39;00m \u001b[38;5;28;43mnext\u001b[39;49m\u001b[43m(\u001b[49m\u001b[38;5;28;43mself\u001b[39;49m\u001b[38;5;241;43m.\u001b[39;49m\u001b[43m_internal_run_generator\u001b[49m\u001b[43m)\u001b[49m\n\u001b[1;32m    942\u001b[0m \u001b[38;5;28;01mexcept\u001b[39;00m \u001b[38;5;167;01mStopIteration\u001b[39;00m \u001b[38;5;28;01mas\u001b[39;00m out:\n\u001b[1;32m    943\u001b[0m     \u001b[38;5;28mself\u001b[39m\u001b[38;5;241m.\u001b[39m_internal_run_generator \u001b[38;5;241m=\u001b[39m \u001b[38;5;28;01mNone\u001b[39;00m\n",
      "File \u001b[0;32m~/opt/anaconda3/envs/cirkit1/lib/python3.8/site-packages/ignite/engine/engine.py:999\u001b[0m, in \u001b[0;36mEngine._internal_run_as_gen\u001b[0;34m(self)\u001b[0m\n\u001b[1;32m    997\u001b[0m     \u001b[38;5;28mself\u001b[39m\u001b[38;5;241m.\u001b[39m_dataloader_iter \u001b[38;5;241m=\u001b[39m \u001b[38;5;28;01mNone\u001b[39;00m\n\u001b[1;32m    998\u001b[0m     \u001b[38;5;28mself\u001b[39m\u001b[38;5;241m.\u001b[39mlogger\u001b[38;5;241m.\u001b[39merror(\u001b[38;5;124mf\u001b[39m\u001b[38;5;124m\"\u001b[39m\u001b[38;5;124mEngine run is terminating due to exception: \u001b[39m\u001b[38;5;132;01m{\u001b[39;00me\u001b[38;5;132;01m}\u001b[39;00m\u001b[38;5;124m\"\u001b[39m)\n\u001b[0;32m--> 999\u001b[0m     \u001b[38;5;28;43mself\u001b[39;49m\u001b[38;5;241;43m.\u001b[39;49m\u001b[43m_handle_exception\u001b[49m\u001b[43m(\u001b[49m\u001b[43me\u001b[49m\u001b[43m)\u001b[49m\n\u001b[1;32m   1001\u001b[0m \u001b[38;5;28mself\u001b[39m\u001b[38;5;241m.\u001b[39m_dataloader_iter \u001b[38;5;241m=\u001b[39m \u001b[38;5;28;01mNone\u001b[39;00m\n\u001b[1;32m   1002\u001b[0m \u001b[38;5;28;01mreturn\u001b[39;00m \u001b[38;5;28mself\u001b[39m\u001b[38;5;241m.\u001b[39mstate\n",
      "File \u001b[0;32m~/opt/anaconda3/envs/cirkit1/lib/python3.8/site-packages/ignite/engine/engine.py:644\u001b[0m, in \u001b[0;36mEngine._handle_exception\u001b[0;34m(self, e)\u001b[0m\n\u001b[1;32m    642\u001b[0m     \u001b[38;5;28mself\u001b[39m\u001b[38;5;241m.\u001b[39m_fire_event(Events\u001b[38;5;241m.\u001b[39mEXCEPTION_RAISED, e)\n\u001b[1;32m    643\u001b[0m \u001b[38;5;28;01melse\u001b[39;00m:\n\u001b[0;32m--> 644\u001b[0m     \u001b[38;5;28;01mraise\u001b[39;00m e\n",
      "File \u001b[0;32m~/opt/anaconda3/envs/cirkit1/lib/python3.8/site-packages/ignite/engine/engine.py:965\u001b[0m, in \u001b[0;36mEngine._internal_run_as_gen\u001b[0;34m(self)\u001b[0m\n\u001b[1;32m    962\u001b[0m \u001b[38;5;28;01mif\u001b[39;00m \u001b[38;5;28mself\u001b[39m\u001b[38;5;241m.\u001b[39m_dataloader_iter \u001b[38;5;129;01mis\u001b[39;00m \u001b[38;5;28;01mNone\u001b[39;00m:\n\u001b[1;32m    963\u001b[0m     \u001b[38;5;28mself\u001b[39m\u001b[38;5;241m.\u001b[39m_setup_engine()\n\u001b[0;32m--> 965\u001b[0m epoch_time_taken \u001b[38;5;241m+\u001b[39m\u001b[38;5;241m=\u001b[39m \u001b[38;5;28;01myield from\u001b[39;00m \u001b[38;5;28mself\u001b[39m\u001b[38;5;241m.\u001b[39m_run_once_on_dataset_as_gen()\n\u001b[1;32m    967\u001b[0m \u001b[38;5;66;03m# time is available for handlers but must be updated after fire\u001b[39;00m\n\u001b[1;32m    968\u001b[0m \u001b[38;5;28mself\u001b[39m\u001b[38;5;241m.\u001b[39mstate\u001b[38;5;241m.\u001b[39mtimes[Events\u001b[38;5;241m.\u001b[39mEPOCH_COMPLETED\u001b[38;5;241m.\u001b[39mname] \u001b[38;5;241m=\u001b[39m epoch_time_taken\n",
      "File \u001b[0;32m~/opt/anaconda3/envs/cirkit1/lib/python3.8/site-packages/ignite/engine/engine.py:1074\u001b[0m, in \u001b[0;36mEngine._run_once_on_dataset_as_gen\u001b[0;34m(self)\u001b[0m\n\u001b[1;32m   1071\u001b[0m \u001b[38;5;28mself\u001b[39m\u001b[38;5;241m.\u001b[39m_fire_event(Events\u001b[38;5;241m.\u001b[39mITERATION_STARTED)\n\u001b[1;32m   1072\u001b[0m \u001b[38;5;28;01myield from\u001b[39;00m \u001b[38;5;28mself\u001b[39m\u001b[38;5;241m.\u001b[39m_maybe_terminate_or_interrupt()\n\u001b[0;32m-> 1074\u001b[0m \u001b[38;5;28mself\u001b[39m\u001b[38;5;241m.\u001b[39mstate\u001b[38;5;241m.\u001b[39moutput \u001b[38;5;241m=\u001b[39m \u001b[38;5;28;43mself\u001b[39;49m\u001b[38;5;241;43m.\u001b[39;49m\u001b[43m_process_function\u001b[49m\u001b[43m(\u001b[49m\u001b[38;5;28;43mself\u001b[39;49m\u001b[43m,\u001b[49m\u001b[43m \u001b[49m\u001b[38;5;28;43mself\u001b[39;49m\u001b[38;5;241;43m.\u001b[39;49m\u001b[43mstate\u001b[49m\u001b[38;5;241;43m.\u001b[39;49m\u001b[43mbatch\u001b[49m\u001b[43m)\u001b[49m\n\u001b[1;32m   1075\u001b[0m \u001b[38;5;28mself\u001b[39m\u001b[38;5;241m.\u001b[39m_fire_event(Events\u001b[38;5;241m.\u001b[39mITERATION_COMPLETED)\n\u001b[1;32m   1076\u001b[0m \u001b[38;5;28;01myield from\u001b[39;00m \u001b[38;5;28mself\u001b[39m\u001b[38;5;241m.\u001b[39m_maybe_terminate_or_interrupt()\n",
      "Cell \u001b[0;32mIn[6], line 112\u001b[0m, in \u001b[0;36mstep\u001b[0;34m(engine, batch)\u001b[0m\n\u001b[1;32m    109\u001b[0m     x \u001b[38;5;241m=\u001b[39m x\u001b[38;5;241m.\u001b[39mcuda()\n\u001b[1;32m    110\u001b[0m     y \u001b[38;5;241m=\u001b[39m y\u001b[38;5;241m.\u001b[39mcuda()\n\u001b[0;32m--> 112\u001b[0m y_pred \u001b[38;5;241m=\u001b[39m \u001b[43mmodel\u001b[49m\u001b[43m(\u001b[49m\u001b[43mx\u001b[49m\u001b[43m)\u001b[49m\n\u001b[1;32m    114\u001b[0m \u001b[38;5;28;01mif\u001b[39;00m \u001b[38;5;129;01mnot\u001b[39;00m DUE:\n\u001b[1;32m    115\u001b[0m     y_pred\u001b[38;5;241m.\u001b[39msqueeze_()\n",
      "File \u001b[0;32m~/opt/anaconda3/envs/cirkit1/lib/python3.8/site-packages/gpytorch/module.py:30\u001b[0m, in \u001b[0;36mModule.__call__\u001b[0;34m(self, *inputs, **kwargs)\u001b[0m\n\u001b[1;32m     29\u001b[0m \u001b[38;5;28;01mdef\u001b[39;00m \u001b[38;5;21m__call__\u001b[39m(\u001b[38;5;28mself\u001b[39m, \u001b[38;5;241m*\u001b[39minputs, \u001b[38;5;241m*\u001b[39m\u001b[38;5;241m*\u001b[39mkwargs):\n\u001b[0;32m---> 30\u001b[0m     outputs \u001b[38;5;241m=\u001b[39m \u001b[38;5;28;43mself\u001b[39;49m\u001b[38;5;241;43m.\u001b[39;49m\u001b[43mforward\u001b[49m\u001b[43m(\u001b[49m\u001b[38;5;241;43m*\u001b[39;49m\u001b[43minputs\u001b[49m\u001b[43m,\u001b[49m\u001b[43m \u001b[49m\u001b[38;5;241;43m*\u001b[39;49m\u001b[38;5;241;43m*\u001b[39;49m\u001b[43mkwargs\u001b[49m\u001b[43m)\u001b[49m\n\u001b[1;32m     31\u001b[0m     \u001b[38;5;28;01mif\u001b[39;00m \u001b[38;5;28misinstance\u001b[39m(outputs, \u001b[38;5;28mlist\u001b[39m):\n\u001b[1;32m     32\u001b[0m         \u001b[38;5;28;01mreturn\u001b[39;00m [_validate_module_outputs(output) \u001b[38;5;28;01mfor\u001b[39;00m output \u001b[38;5;129;01min\u001b[39;00m outputs]\n",
      "File \u001b[0;32m~/Downloads/DUE-main/due/dkl.py:139\u001b[0m, in \u001b[0;36mDKL.forward\u001b[0;34m(self, x)\u001b[0m\n\u001b[1;32m    138\u001b[0m \u001b[38;5;28;01mdef\u001b[39;00m \u001b[38;5;21mforward\u001b[39m(\u001b[38;5;28mself\u001b[39m, x):\n\u001b[0;32m--> 139\u001b[0m     features \u001b[38;5;241m=\u001b[39m \u001b[38;5;28;43mself\u001b[39;49m\u001b[38;5;241;43m.\u001b[39;49m\u001b[43mfeature_extractor\u001b[49m\u001b[43m(\u001b[49m\u001b[43mx\u001b[49m\u001b[43m)\u001b[49m\n\u001b[1;32m    140\u001b[0m     \u001b[38;5;28;01mreturn\u001b[39;00m \u001b[38;5;28mself\u001b[39m\u001b[38;5;241m.\u001b[39mgp(features)\n",
      "File \u001b[0;32m~/opt/anaconda3/envs/cirkit1/lib/python3.8/site-packages/torch/nn/modules/module.py:1518\u001b[0m, in \u001b[0;36mModule._wrapped_call_impl\u001b[0;34m(self, *args, **kwargs)\u001b[0m\n\u001b[1;32m   1516\u001b[0m     \u001b[38;5;28;01mreturn\u001b[39;00m \u001b[38;5;28mself\u001b[39m\u001b[38;5;241m.\u001b[39m_compiled_call_impl(\u001b[38;5;241m*\u001b[39margs, \u001b[38;5;241m*\u001b[39m\u001b[38;5;241m*\u001b[39mkwargs)  \u001b[38;5;66;03m# type: ignore[misc]\u001b[39;00m\n\u001b[1;32m   1517\u001b[0m \u001b[38;5;28;01melse\u001b[39;00m:\n\u001b[0;32m-> 1518\u001b[0m     \u001b[38;5;28;01mreturn\u001b[39;00m \u001b[38;5;28;43mself\u001b[39;49m\u001b[38;5;241;43m.\u001b[39;49m\u001b[43m_call_impl\u001b[49m\u001b[43m(\u001b[49m\u001b[38;5;241;43m*\u001b[39;49m\u001b[43margs\u001b[49m\u001b[43m,\u001b[49m\u001b[43m \u001b[49m\u001b[38;5;241;43m*\u001b[39;49m\u001b[38;5;241;43m*\u001b[39;49m\u001b[43mkwargs\u001b[49m\u001b[43m)\u001b[49m\n",
      "File \u001b[0;32m~/opt/anaconda3/envs/cirkit1/lib/python3.8/site-packages/torch/nn/modules/module.py:1527\u001b[0m, in \u001b[0;36mModule._call_impl\u001b[0;34m(self, *args, **kwargs)\u001b[0m\n\u001b[1;32m   1522\u001b[0m \u001b[38;5;66;03m# If we don't have any hooks, we want to skip the rest of the logic in\u001b[39;00m\n\u001b[1;32m   1523\u001b[0m \u001b[38;5;66;03m# this function, and just call forward.\u001b[39;00m\n\u001b[1;32m   1524\u001b[0m \u001b[38;5;28;01mif\u001b[39;00m \u001b[38;5;129;01mnot\u001b[39;00m (\u001b[38;5;28mself\u001b[39m\u001b[38;5;241m.\u001b[39m_backward_hooks \u001b[38;5;129;01mor\u001b[39;00m \u001b[38;5;28mself\u001b[39m\u001b[38;5;241m.\u001b[39m_backward_pre_hooks \u001b[38;5;129;01mor\u001b[39;00m \u001b[38;5;28mself\u001b[39m\u001b[38;5;241m.\u001b[39m_forward_hooks \u001b[38;5;129;01mor\u001b[39;00m \u001b[38;5;28mself\u001b[39m\u001b[38;5;241m.\u001b[39m_forward_pre_hooks\n\u001b[1;32m   1525\u001b[0m         \u001b[38;5;129;01mor\u001b[39;00m _global_backward_pre_hooks \u001b[38;5;129;01mor\u001b[39;00m _global_backward_hooks\n\u001b[1;32m   1526\u001b[0m         \u001b[38;5;129;01mor\u001b[39;00m _global_forward_hooks \u001b[38;5;129;01mor\u001b[39;00m _global_forward_pre_hooks):\n\u001b[0;32m-> 1527\u001b[0m     \u001b[38;5;28;01mreturn\u001b[39;00m \u001b[43mforward_call\u001b[49m\u001b[43m(\u001b[49m\u001b[38;5;241;43m*\u001b[39;49m\u001b[43margs\u001b[49m\u001b[43m,\u001b[49m\u001b[43m \u001b[49m\u001b[38;5;241;43m*\u001b[39;49m\u001b[38;5;241;43m*\u001b[39;49m\u001b[43mkwargs\u001b[49m\u001b[43m)\u001b[49m\n\u001b[1;32m   1529\u001b[0m \u001b[38;5;28;01mtry\u001b[39;00m:\n\u001b[1;32m   1530\u001b[0m     result \u001b[38;5;241m=\u001b[39m \u001b[38;5;28;01mNone\u001b[39;00m\n",
      "File \u001b[0;32m~/Downloads/DUE-main/due/fc_resnet.py:56\u001b[0m, in \u001b[0;36mFCResNet.forward\u001b[0;34m(self, x)\u001b[0m\n\u001b[1;32m     55\u001b[0m \u001b[38;5;28;01mdef\u001b[39;00m \u001b[38;5;21mforward\u001b[39m(\u001b[38;5;28mself\u001b[39m, x):\n\u001b[0;32m---> 56\u001b[0m     x \u001b[38;5;241m=\u001b[39m \u001b[38;5;28;43mself\u001b[39;49m\u001b[38;5;241;43m.\u001b[39;49m\u001b[43mfirst\u001b[49m\u001b[43m(\u001b[49m\u001b[43mx\u001b[49m\u001b[43m)\u001b[49m\n\u001b[1;32m     58\u001b[0m     \u001b[38;5;28;01mfor\u001b[39;00m residual \u001b[38;5;129;01min\u001b[39;00m \u001b[38;5;28mself\u001b[39m\u001b[38;5;241m.\u001b[39mresiduals:\n\u001b[1;32m     59\u001b[0m         x \u001b[38;5;241m=\u001b[39m x \u001b[38;5;241m+\u001b[39m \u001b[38;5;28mself\u001b[39m\u001b[38;5;241m.\u001b[39mdropout(\u001b[38;5;28mself\u001b[39m\u001b[38;5;241m.\u001b[39mactivation(residual(x)))\n",
      "File \u001b[0;32m~/opt/anaconda3/envs/cirkit1/lib/python3.8/site-packages/torch/nn/modules/module.py:1518\u001b[0m, in \u001b[0;36mModule._wrapped_call_impl\u001b[0;34m(self, *args, **kwargs)\u001b[0m\n\u001b[1;32m   1516\u001b[0m     \u001b[38;5;28;01mreturn\u001b[39;00m \u001b[38;5;28mself\u001b[39m\u001b[38;5;241m.\u001b[39m_compiled_call_impl(\u001b[38;5;241m*\u001b[39margs, \u001b[38;5;241m*\u001b[39m\u001b[38;5;241m*\u001b[39mkwargs)  \u001b[38;5;66;03m# type: ignore[misc]\u001b[39;00m\n\u001b[1;32m   1517\u001b[0m \u001b[38;5;28;01melse\u001b[39;00m:\n\u001b[0;32m-> 1518\u001b[0m     \u001b[38;5;28;01mreturn\u001b[39;00m \u001b[38;5;28;43mself\u001b[39;49m\u001b[38;5;241;43m.\u001b[39;49m\u001b[43m_call_impl\u001b[49m\u001b[43m(\u001b[49m\u001b[38;5;241;43m*\u001b[39;49m\u001b[43margs\u001b[49m\u001b[43m,\u001b[49m\u001b[43m \u001b[49m\u001b[38;5;241;43m*\u001b[39;49m\u001b[38;5;241;43m*\u001b[39;49m\u001b[43mkwargs\u001b[49m\u001b[43m)\u001b[49m\n",
      "File \u001b[0;32m~/opt/anaconda3/envs/cirkit1/lib/python3.8/site-packages/torch/nn/modules/module.py:1557\u001b[0m, in \u001b[0;36mModule._call_impl\u001b[0;34m(self, *args, **kwargs)\u001b[0m\n\u001b[1;32m   1552\u001b[0m             \u001b[38;5;28;01mraise\u001b[39;00m \u001b[38;5;167;01mRuntimeError\u001b[39;00m(\n\u001b[1;32m   1553\u001b[0m                 \u001b[38;5;124m\"\u001b[39m\u001b[38;5;124mforward pre-hook must return None or a tuple \u001b[39m\u001b[38;5;124m\"\u001b[39m\n\u001b[1;32m   1554\u001b[0m                 \u001b[38;5;124mf\u001b[39m\u001b[38;5;124m\"\u001b[39m\u001b[38;5;124mof (new_args, new_kwargs), but got \u001b[39m\u001b[38;5;132;01m{\u001b[39;00margs_kwargs_result\u001b[38;5;132;01m}\u001b[39;00m\u001b[38;5;124m.\u001b[39m\u001b[38;5;124m\"\u001b[39m\n\u001b[1;32m   1555\u001b[0m             )\n\u001b[1;32m   1556\u001b[0m \u001b[38;5;28;01melse\u001b[39;00m:\n\u001b[0;32m-> 1557\u001b[0m     args_result \u001b[38;5;241m=\u001b[39m \u001b[43mhook\u001b[49m\u001b[43m(\u001b[49m\u001b[38;5;28;43mself\u001b[39;49m\u001b[43m,\u001b[49m\u001b[43m \u001b[49m\u001b[43margs\u001b[49m\u001b[43m)\u001b[49m\n\u001b[1;32m   1558\u001b[0m     \u001b[38;5;28;01mif\u001b[39;00m args_result \u001b[38;5;129;01mis\u001b[39;00m \u001b[38;5;129;01mnot\u001b[39;00m \u001b[38;5;28;01mNone\u001b[39;00m:\n\u001b[1;32m   1559\u001b[0m         \u001b[38;5;28;01mif\u001b[39;00m \u001b[38;5;129;01mnot\u001b[39;00m \u001b[38;5;28misinstance\u001b[39m(args_result, \u001b[38;5;28mtuple\u001b[39m):\n",
      "File \u001b[0;32m~/opt/anaconda3/envs/cirkit1/lib/python3.8/site-packages/torch/nn/utils/spectral_norm.py:107\u001b[0m, in \u001b[0;36mSpectralNorm.__call__\u001b[0;34m(self, module, inputs)\u001b[0m\n\u001b[1;32m    106\u001b[0m \u001b[38;5;28;01mdef\u001b[39;00m \u001b[38;5;21m__call__\u001b[39m(\u001b[38;5;28mself\u001b[39m, module: Module, inputs: Any) \u001b[38;5;241m-\u001b[39m\u001b[38;5;241m>\u001b[39m \u001b[38;5;28;01mNone\u001b[39;00m:\n\u001b[0;32m--> 107\u001b[0m     \u001b[38;5;28msetattr\u001b[39m(module, \u001b[38;5;28mself\u001b[39m\u001b[38;5;241m.\u001b[39mname, \u001b[38;5;28;43mself\u001b[39;49m\u001b[38;5;241;43m.\u001b[39;49m\u001b[43mcompute_weight\u001b[49m\u001b[43m(\u001b[49m\u001b[43mmodule\u001b[49m\u001b[43m,\u001b[49m\u001b[43m \u001b[49m\u001b[43mdo_power_iteration\u001b[49m\u001b[38;5;241;43m=\u001b[39;49m\u001b[43mmodule\u001b[49m\u001b[38;5;241;43m.\u001b[39;49m\u001b[43mtraining\u001b[49m\u001b[43m)\u001b[49m)\n",
      "File \u001b[0;32m~/Downloads/DUE-main/due/layers/spectral_norm_fc.py:32\u001b[0m, in \u001b[0;36mSpectralNormFC.compute_weight\u001b[0;34m(self, module, do_power_iteration)\u001b[0m\n\u001b[1;32m     25\u001b[0m \u001b[38;5;28;01mfor\u001b[39;00m _ \u001b[38;5;129;01min\u001b[39;00m \u001b[38;5;28mrange\u001b[39m(\u001b[38;5;28mself\u001b[39m\u001b[38;5;241m.\u001b[39mn_power_iterations):\n\u001b[1;32m     26\u001b[0m     \u001b[38;5;66;03m# Spectral norm of weight equals to `u^T W v`, where `u` and `v`\u001b[39;00m\n\u001b[1;32m     27\u001b[0m     \u001b[38;5;66;03m# are the first left and right singular vectors.\u001b[39;00m\n\u001b[1;32m     28\u001b[0m     \u001b[38;5;66;03m# This power iteration produces approximations of `u` and `v`.\u001b[39;00m\n\u001b[1;32m     29\u001b[0m     v \u001b[38;5;241m=\u001b[39m normalize(\n\u001b[1;32m     30\u001b[0m         torch\u001b[38;5;241m.\u001b[39mmv(weight_mat\u001b[38;5;241m.\u001b[39mt(), u), dim\u001b[38;5;241m=\u001b[39m\u001b[38;5;241m0\u001b[39m, eps\u001b[38;5;241m=\u001b[39m\u001b[38;5;28mself\u001b[39m\u001b[38;5;241m.\u001b[39meps, out\u001b[38;5;241m=\u001b[39mv\n\u001b[1;32m     31\u001b[0m     )\n\u001b[0;32m---> 32\u001b[0m     u \u001b[38;5;241m=\u001b[39m normalize(\u001b[43mtorch\u001b[49m\u001b[38;5;241;43m.\u001b[39;49m\u001b[43mmv\u001b[49m\u001b[43m(\u001b[49m\u001b[43mweight_mat\u001b[49m\u001b[43m,\u001b[49m\u001b[43m \u001b[49m\u001b[43mv\u001b[49m\u001b[43m)\u001b[49m, dim\u001b[38;5;241m=\u001b[39m\u001b[38;5;241m0\u001b[39m, eps\u001b[38;5;241m=\u001b[39m\u001b[38;5;28mself\u001b[39m\u001b[38;5;241m.\u001b[39meps, out\u001b[38;5;241m=\u001b[39mu)\n\u001b[1;32m     33\u001b[0m \u001b[38;5;28;01mif\u001b[39;00m \u001b[38;5;28mself\u001b[39m\u001b[38;5;241m.\u001b[39mn_power_iterations \u001b[38;5;241m>\u001b[39m \u001b[38;5;241m0\u001b[39m:\n\u001b[1;32m     34\u001b[0m     \u001b[38;5;66;03m# See above on why we need to clone\u001b[39;00m\n\u001b[1;32m     35\u001b[0m     u \u001b[38;5;241m=\u001b[39m u\u001b[38;5;241m.\u001b[39mclone(memory_format\u001b[38;5;241m=\u001b[39mtorch\u001b[38;5;241m.\u001b[39mcontiguous_format)\n",
      "\u001b[0;31mKeyboardInterrupt\u001b[0m: "
     ]
    }
   ],
   "source": [
    "trainer.run(dl_train, max_epochs=epochs)"
   ]
  },
  {
   "cell_type": "code",
   "execution_count": null,
   "metadata": {},
   "outputs": [],
   "source": [
    "model.eval()\n",
    "if DUE:\n",
    "    likelihood.eval()\n",
    "\n",
    "x_lin = np.linspace(-domain, domain, 100)\n",
    "            \n",
    "with torch.no_grad(), gpytorch.settings.num_likelihood_samples(64):\n",
    "    xx = torch.tensor(x_lin[..., None]).float()\n",
    "    if torch.cuda.is_available():\n",
    "        xx = xx.cuda()\n",
    "    pred = model(xx)\n",
    "\n",
    "    if DUE:\n",
    "        ol = likelihood(pred)\n",
    "        output = ol.mean.cpu()\n",
    "        output_std = ol.stddev.cpu()\n",
    "    else:\n",
    "        output = pred[0].squeeze().cpu()\n",
    "        output_var = pred[1].diagonal()\n",
    "        output_std = output_var.sqrt().cpu()"
   ]
  },
  {
   "cell_type": "code",
   "execution_count": null,
   "metadata": {},
   "outputs": [],
   "source": [
    "plt.xlim(-domain, domain)\n",
    "plt.ylim(-10, 10)\n",
    "plt.fill_between(x_lin, output - output_std, output + output_std, alpha=0.2, color='b')\n",
    "plt.fill_between(x_lin, output - 2 * output_std, output + 2 * output_std, alpha=0.2, color='b')\n",
    "\n",
    "plt.scatter([], [])\n",
    "plt.scatter([], [])\n",
    "X_vis, y_vis = make_data(n_samples=300)\n",
    "\n",
    "plt.scatter(X_vis.squeeze(), y_vis, facecolors='none', edgecolors='g', linewidth=2)\n",
    "plt.plot(x_lin, output, alpha=0.5)"
   ]
  },
  {
   "cell_type": "code",
   "execution_count": null,
   "metadata": {},
   "outputs": [],
   "source": [
    "plt.xlim(-domain, domain)\n",
    "\n",
    "for i in range(12):\n",
    "    plt.plot(x_lin, ol.rsample().cpu(), alpha=0.3, color='b')\n",
    "    \n",
    "plt.scatter([], [])\n",
    "plt.scatter([], [])\n",
    "X_vis, y_vis = make_data(n_samples=200)\n",
    "plt.scatter(X_vis.squeeze(), y_vis, s=50)"
   ]
  },
  {
   "cell_type": "code",
   "execution_count": null,
   "metadata": {},
   "outputs": [],
   "source": [
    "# Inspired by https://docs.gpytorch.ai/en/stable/examples/01_Exact_GPs/Simple_GP_Regression.html\n",
    "# only works on 1,000 samples\n",
    "\n",
    "train_x, train_y = torch.tensor(x).float(), torch.tensor(y).float()\n",
    "\n",
    "class ExactGPModel(gpytorch.models.ExactGP):\n",
    "    def __init__(self, train_x, train_y, likelihood):\n",
    "        super(ExactGPModel, self).__init__(train_x, train_y, likelihood)\n",
    "        self.mean_module = gpytorch.means.ConstantMean()\n",
    "        self.covar_module = gpytorch.kernels.ScaleKernel(gpytorch.kernels.RBFKernel())\n",
    "\n",
    "    def forward(self, x):\n",
    "        mean_x = self.mean_module(x)\n",
    "        covar_x = self.covar_module(x)\n",
    "        return gpytorch.distributions.MultivariateNormal(mean_x, covar_x)\n",
    "\n",
    "likelihood = GaussianLikelihood()\n",
    "exact_gp = ExactGPModel(train_x, train_y, likelihood)\n",
    "\n",
    "exact_gp.train()\n",
    "likelihood.train()\n",
    "\n",
    "optimizer = torch.optim.Adam(exact_gp.parameters(), lr=0.1)\n",
    "\n",
    "mll = gpytorch.mlls.ExactMarginalLogLikelihood(likelihood, exact_gp)\n",
    "\n",
    "training_iter = 100\n",
    "\n",
    "for i in range(training_iter):\n",
    "    optimizer.zero_grad()\n",
    "    output = exact_gp(train_x)\n",
    "    loss = -mll(output, train_y)\n",
    "    loss.backward()\n",
    "    print('Iter %d/%d - Loss: %.3f   lengthscale: %.3f   noise: %.3f' % (\n",
    "        i + 1, training_iter, loss.item(),\n",
    "        exact_gp.covar_module.base_kernel.lengthscale.item(),\n",
    "        exact_gp.likelihood.noise.item()\n",
    "    ))\n",
    "    optimizer.step()"
   ]
  },
  {
   "cell_type": "code",
   "execution_count": null,
   "metadata": {},
   "outputs": [],
   "source": [
    "exact_gp.eval()\n",
    "likelihood.eval()\n",
    "\n",
    "with torch.no_grad(), gpytorch.settings.fast_pred_var():\n",
    "    test_x = torch.linspace(-domain, domain, 100)\n",
    "    observed_pred = likelihood(exact_gp(test_x))\n",
    "\n",
    "\n",
    "    output = observed_pred.mean\n",
    "    output_std = observed_pred.stddev\n",
    "\n",
    "plt.xlim(-domain, domain)\n",
    "plt.fill_between(x_lin, output - output_std, output + output_std, alpha=0.2, color='b')\n",
    "plt.fill_between(x_lin, output - 2 * output_std, output + 2 * output_std, alpha=0.2, color='b')\n",
    "\n",
    "plt.scatter([], [])\n",
    "plt.scatter([], [])\n",
    "X_vis, y_vis = make_data(n_samples=300)\n",
    "\n",
    "plt.scatter(X_vis.squeeze(), y_vis, facecolors='none', edgecolors='g', linewidth=2)\n",
    "plt.plot(x_lin, output, alpha=0.5)"
   ]
  }
 ],
 "metadata": {
  "kernelspec": {
   "display_name": "cirkit1",
   "language": "python",
   "name": "cirkit1"
  },
  "language_info": {
   "codemirror_mode": {
    "name": "ipython",
    "version": 3
   },
   "file_extension": ".py",
   "mimetype": "text/x-python",
   "name": "python",
   "nbconvert_exporter": "python",
   "pygments_lexer": "ipython3",
   "version": "3.8.18"
  },
  "varInspector": {
   "cols": {
    "lenName": 16,
    "lenType": 16,
    "lenVar": 40
   },
   "kernels_config": {
    "python": {
     "delete_cmd_postfix": "",
     "delete_cmd_prefix": "del ",
     "library": "var_list.py",
     "varRefreshCmd": "print(var_dic_list())"
    },
    "r": {
     "delete_cmd_postfix": ") ",
     "delete_cmd_prefix": "rm(",
     "library": "var_list.r",
     "varRefreshCmd": "cat(var_dic_list()) "
    }
   },
   "types_to_exclude": [
    "module",
    "function",
    "builtin_function_or_method",
    "instance",
    "_Feature"
   ],
   "window_display": false
  }
 },
 "nbformat": 4,
 "nbformat_minor": 4
}
